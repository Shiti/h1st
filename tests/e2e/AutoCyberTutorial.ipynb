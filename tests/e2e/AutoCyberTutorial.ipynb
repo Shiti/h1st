{
 "cells": [
  {
   "cell_type": "code",
   "execution_count": null,
   "metadata": {},
   "outputs": [],
   "source": [
    "import h1st as h1\n",
    "h1.init()\n",
    "\n",
    "import pandas as pd\n",
    "import numpy as np\n",
    "import sklearn.metrics\n"
   ]
  },
  {
   "cell_type": "code",
   "execution_count": null,
   "metadata": {},
   "outputs": [],
   "source": [
    "from AutomotiveCybersecurity.models.msg_freq_event_detector import MsgFreqEventDetectorModel\n",
    "m = MsgFreqEventDetectorModel()\n",
    "data = m.load_data(num_files=1)"
   ]
  },
  {
   "cell_type": "code",
   "execution_count": null,
   "metadata": {},
   "outputs": [],
   "source": [
    "m.train(data)"
   ]
  },
  {
   "cell_type": "code",
   "execution_count": null,
   "metadata": {},
   "outputs": [],
   "source": [
    "# Don't run automatically this easily overwite latest version in AHT's computer, \n",
    "# I need to use correct version in the tutorial notebooks\n",
    "# m.persist()"
   ]
  },
  {
   "cell_type": "code",
   "execution_count": null,
   "metadata": {},
   "outputs": [],
   "source": [
    "m.stats"
   ]
  },
  {
   "cell_type": "code",
   "execution_count": null,
   "metadata": {},
   "outputs": [],
   "source": [
    "from AutomotiveCybersecurity.graph import WindowGenerator\n",
    "\n",
    "df = pd.read_parquet(data['attack_files'][0])\n",
    "\n",
    "graph = h1.Graph()\n",
    "graph.start()\\\n",
    "     .add(WindowGenerator())\\\n",
    "     .add(MsgFreqEventDetectorModel().load())\n",
    "graph.end()\n",
    "results = graph.predict({\"df\": df})\n",
    "\n",
    "results[\"event_detection_results\"]"
   ]
  },
  {
   "cell_type": "code",
   "execution_count": null,
   "metadata": {},
   "outputs": [],
   "source": [
    "len(results[\"event_detection_results\"])"
   ]
  },
  {
   "cell_type": "code",
   "execution_count": null,
   "metadata": {},
   "outputs": [],
   "source": [
    "att_wins1 = len([x for x in results[\"event_detection_results\"] if x[\"WindowInAttack\"]])"
   ]
  },
  {
   "cell_type": "code",
   "execution_count": null,
   "metadata": {},
   "outputs": [],
   "source": [
    "from AutomotiveCybersecurity.models.gradient_boosting_msg_classifier import GradientBoostingMsgClassifierModel"
   ]
  },
  {
   "cell_type": "code",
   "execution_count": null,
   "metadata": {
    "tags": []
   },
   "outputs": [],
   "source": [
    "m2 = GradientBoostingMsgClassifierModel()\n",
    "data = m2.load_data(4)\n",
    "prepared_data = m2.prep_data(data)"
   ]
  },
  {
   "cell_type": "code",
   "execution_count": null,
   "metadata": {},
   "outputs": [],
   "source": [
    "m2.train(prepared_data)"
   ]
  },
  {
   "cell_type": "code",
   "execution_count": null,
   "metadata": {},
   "outputs": [],
   "source": [
    "# Don't run automatically this easily overwite latest version in AHT's computer, \n",
    "# I need to use correct version in the tutorial notebooks\n",
    "# m2.persist()"
   ]
  },
  {
   "cell_type": "code",
   "execution_count": null,
   "metadata": {
    "tags": []
   },
   "outputs": [],
   "source": [
    "m2.evaluate(prepared_data)"
   ]
  },
  {
   "cell_type": "code",
   "execution_count": null,
   "metadata": {},
   "outputs": [],
   "source": [
    "m2.metrics['confusion_matrix']"
   ]
  },
  {
   "cell_type": "code",
   "execution_count": null,
   "metadata": {},
   "outputs": [],
   "source": [
    "from AutomotiveCybersecurity.graph import WindowGenerator\n",
    "\n",
    "class NoOp(h1.Action):\n",
    "    def call(self, command, inputs):\n",
    "        pass\n",
    "\n",
    "graph = h1.Graph()\n",
    "graph.start()\\\n",
    "     .add(WindowGenerator())\\\n",
    "     .add(h1.Decision(m, decision_field=\"WindowInAttack\"))\\\n",
    "     .add(yes=m2,\n",
    "          no=NoOp())\n",
    "graph.end()\n",
    "\n",
    "df = pd.read_csv(data['test_attack_files'][0])\n",
    "df.columns = ['Timestamp', 'Label', 'CarSpeed', 'SteeringAngle', 'YawRate', 'Gx', 'Gy',]\n",
    "\n",
    "results = graph.predict({\"df\": df})\n",
    "\n",
    "print(sklearn.metrics.confusion_matrix(results['injection_window_results'][\"Label\"] == \"Tx\", \n",
    "                                       results['injection_window_results'][\"MsgIsAttack\"]))\n",
    "print(sklearn.metrics.accuracy_score(results['injection_window_results'][\"Label\"] == \"Tx\", \n",
    "                                       results['injection_window_results'][\"MsgIsAttack\"]))"
   ]
  },
  {
   "cell_type": "code",
   "execution_count": null,
   "metadata": {},
   "outputs": [],
   "source": [
    "att_wins2 = len([x for x in results[\"event_detection_results\"] if x[\"WindowInAttack\"]])\n",
    "att_wins2"
   ]
  },
  {
   "cell_type": "code",
   "execution_count": null,
   "metadata": {},
   "outputs": [],
   "source": [
    "assert att_wins2 == att_wins1"
   ]
  },
  {
   "cell_type": "code",
   "execution_count": null,
   "metadata": {
    "scrolled": false
   },
   "outputs": [],
   "source": [
    "from AutomotiveCybersecurity.util import evaluate_event_graph\n",
    "\n",
    "evaluate_event_graph(graph, prepared_data['test_files'][-2:])"
   ]
  },
  {
   "cell_type": "code",
   "execution_count": null,
   "metadata": {},
   "outputs": [],
   "source": []
  }
 ],
 "metadata": {
  "kernelspec": {
   "display_name": "Python 3",
   "language": "python",
   "name": "python3"
  },
  "language_info": {
   "codemirror_mode": {
    "name": "ipython",
    "version": 3
   },
   "file_extension": ".py",
   "mimetype": "text/x-python",
   "name": "python",
   "nbconvert_exporter": "python",
   "pygments_lexer": "ipython3",
   "version": "3.8.2-final"
  }
 },
 "nbformat": 4,
 "nbformat_minor": 4
}