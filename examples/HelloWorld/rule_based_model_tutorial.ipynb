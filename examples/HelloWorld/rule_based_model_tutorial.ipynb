{
 "metadata": {
  "language_info": {
   "codemirror_mode": {
    "name": "ipython",
    "version": 3
   },
   "file_extension": ".py",
   "mimetype": "text/x-python",
   "name": "python",
   "nbconvert_exporter": "python",
   "pygments_lexer": "ipython3",
   "version": "3.8.2-final"
  },
  "orig_nbformat": 2,
  "kernelspec": {
   "name": "Python 3.8.2 64-bit",
   "display_name": "Python 3.8.2 64-bit",
   "metadata": {
    "interpreter": {
     "hash": "752579dbebe7f4dfe7c1aa72eac13e23fc88be2cc1ea7ab14e1f8d69b2d97d12"
    }
   }
  }
 },
 "nbformat": 4,
 "nbformat_minor": 2,
 "cells": [
  {
   "source": [
    "Rule-based model is an example of usingour human knowledge to solve a problem. You could also use boolean logic, fuzzy logic, or make decision based on statistcs or myriad other ways that humans do to solve problems.\n",
    "\n",
    "Rule-based model is very useful to solve the cold start problem, where data is not available.\n",
    "\n",
    "In H1st framework, a human rule model can be implemented by subclassing the `h1.Model` class and implementing only the `predict()` function.  Basically, it’s a just a model with no training (though training is not forbidden and is sometimes is useful for human models too).\n",
    "\n",
    "This particular simple model \"predicts\" if each given value in a stream is an even number or not."
   ],
   "cell_type": "markdown",
   "metadata": {}
  },
  {
   "cell_type": "code",
   "execution_count": 1,
   "metadata": {},
   "outputs": [],
   "source": [
    "import h1st as h1\n",
    "\n",
    "class RuleBasedModel(h1.Model):\n",
    "    \"\"\"\n",
    "    Simple rule-based model that \"predicts\" if a given value is an even number\n",
    "    \"\"\"\n",
    "    def predict(self, input_data: dict) -> dict:\n",
    "        predictions = [{'prediction': x % 2 == 0, 'value': x} for x in input_data[\"values\"]]\n",
    "        return {\"predictions\": predictions}"
   ]
  },
  {
   "cell_type": "code",
   "execution_count": 2,
   "metadata": {
    "tags": []
   },
   "outputs": [
    {
     "output_type": "stream",
     "name": "stdout",
     "text": "RuleBasedModel&#39;s predictions for [0, 1, 2, 3, 4, 5] are [{&#39;prediction&#39;: True, &#39;value&#39;: 0}, {&#39;prediction&#39;: False, &#39;value&#39;: 1}, {&#39;prediction&#39;: True, &#39;value&#39;: 2}, {&#39;prediction&#39;: False, &#39;value&#39;: 3}, {&#39;prediction&#39;: True, &#39;value&#39;: 4}, {&#39;prediction&#39;: False, &#39;value&#39;: 5}]\n"
    }
   ],
   "source": [
    "m = RuleBasedModel()\n",
    "xs = list(range(6))\n",
    "results = m.predict({\"values\": xs})\n",
    "predictions = results[\"predictions\"]\n",
    "print(f\"RuleBasedModel's predictions for {xs} are {predictions}\")\n"
   ]
  }
 ]
}