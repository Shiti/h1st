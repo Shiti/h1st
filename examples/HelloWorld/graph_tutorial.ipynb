{
 "metadata": {
  "language_info": {
   "codemirror_mode": {
    "name": "ipython",
    "version": 3
   },
   "file_extension": ".py",
   "mimetype": "text/x-python",
   "name": "python",
   "nbconvert_exporter": "python",
   "pygments_lexer": "ipython3",
   "version": "3.8.2-final"
  },
  "orig_nbformat": 2,
  "kernelspec": {
   "name": "Python 3.8.2 64-bit",
   "display_name": "Python 3.8.2 64-bit",
   "metadata": {
    "interpreter": {
     "hash": "752579dbebe7f4dfe7c1aa72eac13e23fc88be2cc1ea7ab14e1f8d69b2d97d12"
    }
   }
  }
 },
 "nbformat": 4,
 "nbformat_minor": 2,
 "cells": [
  {
   "source": [
    "# H1st Graph Guide"
   ],
   "cell_type": "markdown",
   "metadata": {}
  },
  {
   "source": [
    "H1st Graph is an execution flow chart that allows the incorporation of ML as well as human expert models.\n",
    "\n",
    "This is an example of a very simple graph which prints hello for each even number `x` in the input stream,\n",
    "using a conditional `RuleBasedModel` which is a `h1.Model` node and a HelloPrinter which is a `h1.Action` node."
   ],
   "cell_type": "markdown",
   "metadata": {}
  },
  {
   "cell_type": "code",
   "execution_count": 1,
   "metadata": {},
   "outputs": [],
   "source": [
    "import h1st as h1\n",
    "\n",
    "class RuleBasedModel(h1.Model):\n",
    "    \"\"\"\n",
    "    Simple rule-based model that \"predicts\" if a given value is an even number\n",
    "    \"\"\"\n",
    "    def predict(self, input_data: dict) -> dict:\n",
    "        predictions = [{'prediction': x % 2 == 0, 'value': x} for x in input_data[\"values\"]]\n",
    "        return {\"predictions\": predictions}\n",
    "\n",
    "class HelloPrinter(h1.Action):\n",
    "    \"\"\"Print hello to the inputs value\"\"\"\n",
    "    def call(self, command, inputs):\n",
    "        # Note that H1st does the conditional/filtering orchestration already.\n",
    "        # All we need to do here is just to print.\n",
    "        for d in inputs[\"predictions\"]:\n",
    "            print(\"Hello world {}!\".format(d[\"value\"]))"
   ]
  },
  {
   "source": [
    "The H1st graph itself is created by `add()`ing nodes incrementally.\n",
    "\n",
    "Note that the first branch is a `h1.Decision` which redirects the data flow into the later `yes` and `no` nodes based on the RuleBasedModel's predictions`.\n",
    "\n",
    "In terms of data flow, the RuleBasedModel node produces a dict of which is then used by `h1.Decision` to redirect the data stream by looking at the `result_field=predictions` dict key.\n",
    "\n",
    "H1st graph by default operates in batch mode, meaning that `h1.Decision` looks at `{\"predictions\": [{\"prediciton\": True, ...}, {\"prediction\": False, }]}` and redirect True/False decision points to the to the right `yes/no` branch as a list."
   ],
   "cell_type": "markdown",
   "metadata": {}
  },
  {
   "cell_type": "code",
   "execution_count": 4,
   "metadata": {
    "tags": []
   },
   "outputs": [
    {
     "output_type": "stream",
     "name": "stdout",
     "text": "Hello world 0!\nHello world 2!\nHello world 4!\n"
    }
   ],
   "source": [
    "g = h1.Graph()\n",
    "g.start()\n",
    "g.add(h1.Decision(RuleBasedModel(), result_field=\"predictions\"))\n",
    "g.add(yes=HelloPrinter(), no=h1.NoOp())\n",
    "g.end()\n",
    "\n",
    "results = g.predict({\"values\": range(6)})"
   ]
  }
 ]
}