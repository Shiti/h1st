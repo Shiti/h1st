{
 "cells": [
  {
   "cell_type": "code",
   "execution_count": 1,
   "metadata": {},
   "outputs": [],
   "source": [
    "# coding: utf-8\n",
    "%load_ext autoreload\n",
    "%autoreload 2"
   ]
  },
  {
   "cell_type": "code",
   "execution_count": 2,
   "metadata": {},
   "outputs": [],
   "source": [
    "import h1st as h1\n",
    "h1.init()"
   ]
  },
  {
   "cell_type": "code",
   "execution_count": 3,
   "metadata": {},
   "outputs": [],
   "source": [
    "from h1st.tuner import HyperParameterTuner\n",
    "from examples.RayTune.tensorflow_mlp_classifier import TensorflowMLPClassifier\n",
    "from examples.RayTune.sklearn_rf_classifier import SklearnRFClassifier"
   ]
  },
  {
   "cell_type": "code",
   "execution_count": 4,
   "metadata": {},
   "outputs": [],
   "source": [
    "tuner = HyperParameterTuner()"
   ]
  },
  {
   "cell_type": "code",
   "execution_count": 5,
   "metadata": {},
   "outputs": [],
   "source": [
    "# parameters = [\n",
    "#     {\n",
    "#         'name': 'lr',\n",
    "#         'type': 'float',\n",
    "#         'min': 0.001,\n",
    "#         'max': 0.1,\n",
    "#         'choice': []\n",
    "#     },\n",
    "#     {\n",
    "#         'name': 'n_layer',\n",
    "#         'type': 'int',\n",
    "#         'min': 1,\n",
    "#         'max': 8,\n",
    "#         'choice': []\n",
    "#     },\n",
    "#     {\n",
    "#         'name': 'units',\n",
    "#         'type': 'int',\n",
    "#         'min': None,\n",
    "#         'max': None,\n",
    "#         'choice': [4, 8, 16, 32, 64]\n",
    "#     }    \n",
    "# ]\n",
    "\n",
    "parameters = [\n",
    "    {\n",
    "        'name': 'n_estimators',\n",
    "        'type': 'int',\n",
    "        'min': None,\n",
    "        'max': None,\n",
    "        'choice': [50, 100, 150]\n",
    "    },\n",
    "    {\n",
    "        'name': 'max_depth',\n",
    "        'type': 'int',\n",
    "        'min': 3,\n",
    "        'max': 8,\n",
    "        'choice': []\n",
    "    },\n",
    "    {\n",
    "        'name': 'criterion',\n",
    "        'type': 'str',\n",
    "        'min': None,\n",
    "        'max': None,\n",
    "        'choice': ['gini', 'entropy']\n",
    "    },\n",
    "    {\n",
    "        'name': 'min_samples_split',\n",
    "        'type': 'int',\n",
    "        'min': 2,\n",
    "        'max': 4,\n",
    "        'choice': []\n",
    "    }    \n",
    "]\n",
    "\n",
    "\n",
    "target_metrics = 'accuracy'\n",
    "options = {\n",
    "    'num_samples': 10,\n",
    "    'stopping_criteria': {\n",
    "        'training_iteration': 3,\n",
    "    },\n",
    "    'max_concurrent': 16 #  default should be the number of cpu\n",
    "}"
   ]
  },
  {
   "cell_type": "markdown",
   "metadata": {},
   "source": [
    "If it is a choice, then we need to use other model "
   ]
  },
  {
   "cell_type": "code",
   "execution_count": 6,
   "metadata": {
    "scrolled": false
   },
   "outputs": [
    {
     "data": {
      "text/html": [
       "== Status ==<br>Memory usage on this node: 17.2/32.0 GiB<br>Using HyperBand: num_stopped=0 total_brackets=1\n",
       "Round #0:\n",
       "  Bracket(Max Size (n)=4, Milestone (r)=16, completed=-7.8%): {TERMINATED: 10} <br>Resources requested: 0/16 CPUs, 0/0 GPUs, 0.0/9.67 GiB heap, 0.0/3.32 GiB objects<br>Result logdir: /Users/arimo/ray_results/experiment_1<br>Number of trials: 10 (10 TERMINATED)<br><table>\n",
       "<thead>\n",
       "<tr><th>Trial name                 </th><th>status    </th><th>loc  </th><th>criterion  </th><th style=\"text-align: right;\">  max_depth</th><th style=\"text-align: right;\">  min_samples_split</th><th style=\"text-align: right;\">  n_estimators</th><th style=\"text-align: right;\">  iter</th><th style=\"text-align: right;\">  total time (s)</th><th style=\"text-align: right;\">  accuracy</th></tr>\n",
       "</thead>\n",
       "<tbody>\n",
       "<tr><td>H1stModelTrainable_a652031c</td><td>TERMINATED</td><td>     </td><td>entropy    </td><td style=\"text-align: right;\">          8</td><td style=\"text-align: right;\">                  3</td><td style=\"text-align: right;\">           100</td><td style=\"text-align: right;\">     3</td><td style=\"text-align: right;\">        12.3098 </td><td style=\"text-align: right;\">  0.818182</td></tr>\n",
       "<tr><td>H1stModelTrainable_a6524ba6</td><td>TERMINATED</td><td>     </td><td>entropy    </td><td style=\"text-align: right;\">          8</td><td style=\"text-align: right;\">                  3</td><td style=\"text-align: right;\">           150</td><td style=\"text-align: right;\">     3</td><td style=\"text-align: right;\">        17.6639 </td><td style=\"text-align: right;\">  0.817879</td></tr>\n",
       "<tr><td>H1stModelTrainable_a65277b6</td><td>TERMINATED</td><td>     </td><td>entropy    </td><td style=\"text-align: right;\">          8</td><td style=\"text-align: right;\">                  3</td><td style=\"text-align: right;\">           100</td><td style=\"text-align: right;\">     3</td><td style=\"text-align: right;\">        12.131  </td><td style=\"text-align: right;\">  0.818788</td></tr>\n",
       "<tr><td>H1stModelTrainable_a652a1fa</td><td>TERMINATED</td><td>     </td><td>entropy    </td><td style=\"text-align: right;\">          5</td><td style=\"text-align: right;\">                  3</td><td style=\"text-align: right;\">           150</td><td style=\"text-align: right;\">     3</td><td style=\"text-align: right;\">        10.0942 </td><td style=\"text-align: right;\">  0.811616</td></tr>\n",
       "<tr><td>H1stModelTrainable_a652cc02</td><td>TERMINATED</td><td>     </td><td>entropy    </td><td style=\"text-align: right;\">          5</td><td style=\"text-align: right;\">                  3</td><td style=\"text-align: right;\">            50</td><td style=\"text-align: right;\">     3</td><td style=\"text-align: right;\">         3.76153</td><td style=\"text-align: right;\">  0.811313</td></tr>\n",
       "<tr><td>H1stModelTrainable_a652f6dc</td><td>TERMINATED</td><td>     </td><td>gini       </td><td style=\"text-align: right;\">          6</td><td style=\"text-align: right;\">                  2</td><td style=\"text-align: right;\">            50</td><td style=\"text-align: right;\">     3</td><td style=\"text-align: right;\">         3.88296</td><td style=\"text-align: right;\">  0.817273</td></tr>\n",
       "<tr><td>H1stModelTrainable_a65327a6</td><td>TERMINATED</td><td>     </td><td>gini       </td><td style=\"text-align: right;\">          6</td><td style=\"text-align: right;\">                  2</td><td style=\"text-align: right;\">           100</td><td style=\"text-align: right;\">     3</td><td style=\"text-align: right;\">         7.1289 </td><td style=\"text-align: right;\">  0.818384</td></tr>\n",
       "<tr><td>H1stModelTrainable_a65355f0</td><td>TERMINATED</td><td>     </td><td>gini       </td><td style=\"text-align: right;\">          6</td><td style=\"text-align: right;\">                  3</td><td style=\"text-align: right;\">            50</td><td style=\"text-align: right;\">     3</td><td style=\"text-align: right;\">         3.80521</td><td style=\"text-align: right;\">  0.813232</td></tr>\n",
       "<tr><td>H1stModelTrainable_a65380fc</td><td>TERMINATED</td><td>     </td><td>gini       </td><td style=\"text-align: right;\">          4</td><td style=\"text-align: right;\">                  4</td><td style=\"text-align: right;\">            50</td><td style=\"text-align: right;\">     3</td><td style=\"text-align: right;\">         2.29496</td><td style=\"text-align: right;\">  0.809899</td></tr>\n",
       "<tr><td>H1stModelTrainable_a653abfe</td><td>TERMINATED</td><td>     </td><td>gini       </td><td style=\"text-align: right;\">          5</td><td style=\"text-align: right;\">                  4</td><td style=\"text-align: right;\">           150</td><td style=\"text-align: right;\">     3</td><td style=\"text-align: right;\">         8.60053</td><td style=\"text-align: right;\">  0.812727</td></tr>\n",
       "</tbody>\n",
       "</table><br><br>"
      ],
      "text/plain": [
       "<IPython.core.display.HTML object>"
      ]
     },
     "metadata": {},
     "output_type": "display_data"
    },
    {
     "name": "stdout",
     "output_type": "stream",
     "text": [
      "took   47.87 seconds (  0 hours 0.80 minutes)\n",
      "best config:  {'criterion': 'entropy', 'max_depth': 8, 'min_samples_split': 3, 'n_estimators': 100}\n"
     ]
    }
   ],
   "source": [
    "analysis = tuner.run(SklearnRFClassifier, parameters, target_metrics, options, search_algorithm=\"BOHB\")"
   ]
  },
  {
   "cell_type": "code",
   "execution_count": 7,
   "metadata": {},
   "outputs": [
    {
     "data": {
      "text/html": [
       "<div>\n",
       "<style scoped>\n",
       "    .dataframe tbody tr th:only-of-type {\n",
       "        vertical-align: middle;\n",
       "    }\n",
       "\n",
       "    .dataframe tbody tr th {\n",
       "        vertical-align: top;\n",
       "    }\n",
       "\n",
       "    .dataframe thead th {\n",
       "        text-align: right;\n",
       "    }\n",
       "</style>\n",
       "<table border=\"1\" class=\"dataframe\">\n",
       "  <thead>\n",
       "    <tr style=\"text-align: right;\">\n",
       "      <th></th>\n",
       "      <th>model_version</th>\n",
       "      <th>accuracy</th>\n",
       "      <th>training_iteration</th>\n",
       "      <th>config/n_estimators</th>\n",
       "      <th>config/max_depth</th>\n",
       "      <th>config/criterion</th>\n",
       "      <th>config/min_samples_split</th>\n",
       "    </tr>\n",
       "  </thead>\n",
       "  <tbody>\n",
       "    <tr>\n",
       "      <th>2</th>\n",
       "      <td>n_e=100|max=8|cri=entropy|min=3|accu=0.8197</td>\n",
       "      <td>0.819697</td>\n",
       "      <td>2</td>\n",
       "      <td>100</td>\n",
       "      <td>8</td>\n",
       "      <td>entropy</td>\n",
       "      <td>3</td>\n",
       "    </tr>\n",
       "    <tr>\n",
       "      <th>0</th>\n",
       "      <td>n_e=100|max=8|cri=entropy|min=3|accu=0.8189</td>\n",
       "      <td>0.818889</td>\n",
       "      <td>1</td>\n",
       "      <td>100</td>\n",
       "      <td>8</td>\n",
       "      <td>entropy</td>\n",
       "      <td>3</td>\n",
       "    </tr>\n",
       "    <tr>\n",
       "      <th>5</th>\n",
       "      <td>n_e=50|max=6|cri=gini|min=2|accu=0.8188</td>\n",
       "      <td>0.818788</td>\n",
       "      <td>2</td>\n",
       "      <td>50</td>\n",
       "      <td>6</td>\n",
       "      <td>gini</td>\n",
       "      <td>2</td>\n",
       "    </tr>\n",
       "    <tr>\n",
       "      <th>1</th>\n",
       "      <td>n_e=150|max=8|cri=entropy|min=3|accu=0.8186</td>\n",
       "      <td>0.818586</td>\n",
       "      <td>2</td>\n",
       "      <td>150</td>\n",
       "      <td>8</td>\n",
       "      <td>entropy</td>\n",
       "      <td>3</td>\n",
       "    </tr>\n",
       "    <tr>\n",
       "      <th>6</th>\n",
       "      <td>n_e=100|max=6|cri=gini|min=2|accu=0.8184</td>\n",
       "      <td>0.818384</td>\n",
       "      <td>3</td>\n",
       "      <td>100</td>\n",
       "      <td>6</td>\n",
       "      <td>gini</td>\n",
       "      <td>2</td>\n",
       "    </tr>\n",
       "    <tr>\n",
       "      <th>7</th>\n",
       "      <td>n_e=50|max=6|cri=gini|min=3|accu=0.8145</td>\n",
       "      <td>0.814545</td>\n",
       "      <td>2</td>\n",
       "      <td>50</td>\n",
       "      <td>6</td>\n",
       "      <td>gini</td>\n",
       "      <td>3</td>\n",
       "    </tr>\n",
       "    <tr>\n",
       "      <th>9</th>\n",
       "      <td>n_e=150|max=5|cri=gini|min=4|accu=0.8140</td>\n",
       "      <td>0.814040</td>\n",
       "      <td>2</td>\n",
       "      <td>150</td>\n",
       "      <td>5</td>\n",
       "      <td>gini</td>\n",
       "      <td>4</td>\n",
       "    </tr>\n",
       "    <tr>\n",
       "      <th>8</th>\n",
       "      <td>n_e=50|max=4|cri=gini|min=4|accu=0.8129</td>\n",
       "      <td>0.812929</td>\n",
       "      <td>2</td>\n",
       "      <td>50</td>\n",
       "      <td>4</td>\n",
       "      <td>gini</td>\n",
       "      <td>4</td>\n",
       "    </tr>\n",
       "    <tr>\n",
       "      <th>3</th>\n",
       "      <td>n_e=150|max=5|cri=entropy|min=3|accu=0.8116</td>\n",
       "      <td>0.811616</td>\n",
       "      <td>3</td>\n",
       "      <td>150</td>\n",
       "      <td>5</td>\n",
       "      <td>entropy</td>\n",
       "      <td>3</td>\n",
       "    </tr>\n",
       "    <tr>\n",
       "      <th>4</th>\n",
       "      <td>n_e=50|max=5|cri=entropy|min=3|accu=0.8113</td>\n",
       "      <td>0.811313</td>\n",
       "      <td>3</td>\n",
       "      <td>50</td>\n",
       "      <td>5</td>\n",
       "      <td>entropy</td>\n",
       "      <td>3</td>\n",
       "    </tr>\n",
       "  </tbody>\n",
       "</table>\n",
       "</div>"
      ],
      "text/plain": [
       "                                 model_version  accuracy  training_iteration  \\\n",
       "2  n_e=100|max=8|cri=entropy|min=3|accu=0.8197  0.819697                   2   \n",
       "0  n_e=100|max=8|cri=entropy|min=3|accu=0.8189  0.818889                   1   \n",
       "5      n_e=50|max=6|cri=gini|min=2|accu=0.8188  0.818788                   2   \n",
       "1  n_e=150|max=8|cri=entropy|min=3|accu=0.8186  0.818586                   2   \n",
       "6     n_e=100|max=6|cri=gini|min=2|accu=0.8184  0.818384                   3   \n",
       "7      n_e=50|max=6|cri=gini|min=3|accu=0.8145  0.814545                   2   \n",
       "9     n_e=150|max=5|cri=gini|min=4|accu=0.8140  0.814040                   2   \n",
       "8      n_e=50|max=4|cri=gini|min=4|accu=0.8129  0.812929                   2   \n",
       "3  n_e=150|max=5|cri=entropy|min=3|accu=0.8116  0.811616                   3   \n",
       "4   n_e=50|max=5|cri=entropy|min=3|accu=0.8113  0.811313                   3   \n",
       "\n",
       "   config/n_estimators  config/max_depth config/criterion  \\\n",
       "2                  100                 8          entropy   \n",
       "0                  100                 8          entropy   \n",
       "5                   50                 6             gini   \n",
       "1                  150                 8          entropy   \n",
       "6                  100                 6             gini   \n",
       "7                   50                 6             gini   \n",
       "9                  150                 5             gini   \n",
       "8                   50                 4             gini   \n",
       "3                  150                 5          entropy   \n",
       "4                   50                 5          entropy   \n",
       "\n",
       "   config/min_samples_split  \n",
       "2                         3  \n",
       "0                         3  \n",
       "5                         2  \n",
       "1                         3  \n",
       "6                         2  \n",
       "7                         3  \n",
       "9                         4  \n",
       "8                         4  \n",
       "3                         3  \n",
       "4                         3  "
      ]
     },
     "execution_count": 7,
     "metadata": {},
     "output_type": "execute_result"
    }
   ],
   "source": [
    "analysis.head(20)"
   ]
  },
  {
   "cell_type": "code",
   "execution_count": 8,
   "metadata": {},
   "outputs": [
    {
     "name": "stdout",
     "output_type": "stream",
     "text": [
      "(10, 7)\n",
      "10\n"
     ]
    }
   ],
   "source": [
    "print(analysis.shape)\n",
    "print(analysis.model_version.nunique())"
   ]
  },
  {
   "cell_type": "code",
   "execution_count": null,
   "metadata": {},
   "outputs": [],
   "source": []
  }
 ],
 "metadata": {
  "kernelspec": {
   "display_name": "Python 3",
   "language": "python",
   "name": "python3"
  },
  "language_info": {
   "codemirror_mode": {
    "name": "ipython",
    "version": 3
   },
   "file_extension": ".py",
   "mimetype": "text/x-python",
   "name": "python",
   "nbconvert_exporter": "python",
   "pygments_lexer": "ipython3",
   "version": "3.7.7"
  },
  "toc": {
   "base_numbering": 1,
   "nav_menu": {},
   "number_sections": true,
   "sideBar": true,
   "skip_h1_title": false,
   "title_cell": "Table of Contents",
   "title_sidebar": "Contents",
   "toc_cell": false,
   "toc_position": {},
   "toc_section_display": true,
   "toc_window_display": false
  }
 },
 "nbformat": 4,
 "nbformat_minor": 4
}
