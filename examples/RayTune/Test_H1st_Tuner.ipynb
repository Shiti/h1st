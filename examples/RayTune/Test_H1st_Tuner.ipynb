{
 "cells": [
  {
   "cell_type": "code",
   "execution_count": 1,
   "metadata": {},
   "outputs": [],
   "source": [
    "# coding: utf-8\n",
    "%load_ext autoreload\n",
    "%autoreload 2"
   ]
  },
  {
   "cell_type": "code",
   "execution_count": 2,
   "metadata": {},
   "outputs": [],
   "source": [
    "import h1st as h1\n",
    "h1.init()"
   ]
  },
  {
   "cell_type": "code",
   "execution_count": 3,
   "metadata": {},
   "outputs": [],
   "source": [
    "from h1st.tuner import HyperParameterTuner"
   ]
  },
  {
   "cell_type": "code",
   "execution_count": 4,
   "metadata": {},
   "outputs": [],
   "source": [
    "from examples.RayTune.tensorflow_mlp_classifier import TensorflowMLPClassifier"
   ]
  },
  {
   "cell_type": "code",
   "execution_count": 5,
   "metadata": {},
   "outputs": [],
   "source": [
    "tuner = HyperParameterTuner()"
   ]
  },
  {
   "cell_type": "code",
   "execution_count": 6,
   "metadata": {},
   "outputs": [],
   "source": [
    "param_values = {\n",
    "    'lr': {'min': 0.001, 'max': 0.1},\n",
    "    'n_layer': {'min': 1, 'max': 8},    \n",
    "    'units': [4, 8, 16, 32, 64]\n",
    "}\n",
    "metric = 'accuracy'\n",
    "options = {\n",
    "    'num_samples': 10\n",
    "}"
   ]
  },
  {
   "cell_type": "code",
   "execution_count": null,
   "metadata": {},
   "outputs": [
    {
     "name": "stderr",
     "output_type": "stream",
     "text": [
      "INFO:ray.tune.ray_trial_executor:Initializing Ray automatically.For cluster usage or custom Ray initialization, call `ray.init(...)` before `tune.run`.\n",
      "2020-10-27 01:21:02,516\tINFO services.py:1166 -- View the Ray dashboard at \u001b[1m\u001b[32mhttp://127.0.0.1:8265\u001b[39m\u001b[22m\n",
      "2020-10-27 01:21:03,578\tWARNING bayesopt.py:373 -- BayesOpt does not support specific sampling methods. The Uniform sampler will be dropped.\n",
      "2020-10-27 01:21:03,579\tWARNING bayesopt.py:373 -- BayesOpt does not support specific sampling methods. The Uniform sampler will be dropped.\n",
      "2020-10-27 01:21:03,580\tWARNING bayesopt.py:365 -- BayesOpt search does not support quantization. Dropped quantization.\n",
      "2020-10-27 01:21:03,582\tWARNING bayesopt.py:373 -- BayesOpt does not support specific sampling methods. The Uniform sampler will be dropped.\n",
      "2020-10-27 01:21:03,602\tINFO logger.py:201 -- pip install 'ray[tune]' to see TensorBoard files.\n",
      "2020-10-27 01:21:03,603\tWARNING logger.py:343 -- Could not instantiate TBXLogger: No module named 'tensorboardX'.\n"
     ]
    },
    {
     "data": {
      "text/html": [
       "== Status ==<br>Memory usage on this node: 19.8/32.0 GiB<br>Using AsyncHyperBand: num_stopped=0\n",
       "Bracket: Iter 64.000: None | Iter 16.000: None | Iter 4.000: None | Iter 1.000: None<br>Resources requested: 1/16 CPUs, 0/0 GPUs, 0.0/11.33 GiB heap, 0.0/3.91 GiB objects<br>Result logdir: /Users/arimo/ray_results/H1stModelTrainable<br>Number of trials: 10 (9 PENDING, 1 RUNNING)<br><table>\n",
       "<thead>\n",
       "<tr><th>Trial name                 </th><th>status  </th><th>loc  </th><th style=\"text-align: right;\">        lr</th><th style=\"text-align: right;\">  n_layer</th><th style=\"text-align: right;\">   units</th></tr>\n",
       "</thead>\n",
       "<tbody>\n",
       "<tr><td>H1stModelTrainable_5a8002b4</td><td>RUNNING </td><td>     </td><td style=\"text-align: right;\">0.0218543 </td><td style=\"text-align: right;\">  7.655  </td><td style=\"text-align: right;\">47.1156 </td></tr>\n",
       "<tr><td>H1stModelTrainable_5a805034</td><td>PENDING </td><td>     </td><td style=\"text-align: right;\">0.0319396 </td><td style=\"text-align: right;\">  2.09213</td><td style=\"text-align: right;\">10.8277 </td></tr>\n",
       "<tr><td>H1stModelTrainable_5a8078ca</td><td>PENDING </td><td>     </td><td style=\"text-align: right;\">0.00761376</td><td style=\"text-align: right;\">  7.06323</td><td style=\"text-align: right;\">38.8702 </td></tr>\n",
       "<tr><td>H1stModelTrainable_5a80a3f4</td><td>PENDING </td><td>     </td><td style=\"text-align: right;\">0.0368633 </td><td style=\"text-align: right;\">  1.14409</td><td style=\"text-align: right;\">62.1043 </td></tr>\n",
       "<tr><td>H1stModelTrainable_5a80cd02</td><td>PENDING </td><td>     </td><td style=\"text-align: right;\">0.0424599 </td><td style=\"text-align: right;\">  2.48637</td><td style=\"text-align: right;\">12.455  </td></tr>\n",
       "<tr><td>H1stModelTrainable_5a80f2c8</td><td>PENDING </td><td>     </td><td style=\"text-align: right;\">0.0132532 </td><td style=\"text-align: right;\">  3.1297 </td><td style=\"text-align: right;\">34.0597 </td></tr>\n",
       "<tr><td>H1stModelTrainable_5a811d52</td><td>PENDING </td><td>     </td><td style=\"text-align: right;\">0.0244375 </td><td style=\"text-align: right;\">  3.0386 </td><td style=\"text-align: right;\">39.5467 </td></tr>\n",
       "<tr><td>H1stModelTrainable_5a8144e4</td><td>PENDING </td><td>     </td><td style=\"text-align: right;\">0.0112772 </td><td style=\"text-align: right;\">  3.04501</td><td style=\"text-align: right;\">24.0808 </td></tr>\n",
       "<tr><td>H1stModelTrainable_5a816bae</td><td>PENDING </td><td>     </td><td style=\"text-align: right;\">0.0255231 </td><td style=\"text-align: right;\">  6.49623</td><td style=\"text-align: right;\">13.5794 </td></tr>\n",
       "<tr><td>H1stModelTrainable_5a8194ee</td><td>PENDING </td><td>     </td><td style=\"text-align: right;\">0.0281405 </td><td style=\"text-align: right;\">  5.1469 </td><td style=\"text-align: right;\"> 3.92638</td></tr>\n",
       "</tbody>\n",
       "</table><br><br>"
      ],
      "text/plain": [
       "<IPython.core.display.HTML object>"
      ]
     },
     "metadata": {},
     "output_type": "display_data"
    }
   ],
   "source": [
    "analysis = tuner.run(TensorflowMLPClassifier, param_values, metric, options)"
   ]
  },
  {
   "cell_type": "code",
   "execution_count": null,
   "metadata": {},
   "outputs": [],
   "source": [
    "round(1.5)"
   ]
  },
  {
   "cell_type": "code",
   "execution_count": null,
   "metadata": {},
   "outputs": [],
   "source": [
    "test = {'tada': float}"
   ]
  },
  {
   "cell_type": "code",
   "execution_count": null,
   "metadata": {},
   "outputs": [],
   "source": [
    "test['tada'] == float"
   ]
  },
  {
   "cell_type": "code",
   "execution_count": null,
   "metadata": {},
   "outputs": [],
   "source": []
  }
 ],
 "metadata": {
  "kernelspec": {
   "display_name": "Python 3",
   "language": "python",
   "name": "python3"
  },
  "language_info": {
   "codemirror_mode": {
    "name": "ipython",
    "version": 3
   },
   "file_extension": ".py",
   "mimetype": "text/x-python",
   "name": "python",
   "nbconvert_exporter": "python",
   "pygments_lexer": "ipython3",
   "version": "3.7.7"
  },
  "toc": {
   "base_numbering": 1,
   "nav_menu": {},
   "number_sections": true,
   "sideBar": true,
   "skip_h1_title": false,
   "title_cell": "Table of Contents",
   "title_sidebar": "Contents",
   "toc_cell": false,
   "toc_position": {},
   "toc_section_display": true,
   "toc_window_display": false
  }
 },
 "nbformat": 4,
 "nbformat_minor": 4
}
