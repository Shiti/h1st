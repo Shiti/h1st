{
 "cells": [
  {
   "cell_type": "code",
   "execution_count": 1,
   "metadata": {},
   "outputs": [],
   "source": [
    "# coding: utf-8\n",
    "%load_ext autoreload\n",
    "%autoreload 2"
   ]
  },
  {
   "cell_type": "code",
   "execution_count": 2,
   "metadata": {},
   "outputs": [],
   "source": [
    "import h1st as h1\n",
    "h1.init()"
   ]
  },
  {
   "cell_type": "code",
   "execution_count": 3,
   "metadata": {},
   "outputs": [],
   "source": [
    "from h1st.tuner import HyperParameterTuner"
   ]
  },
  {
   "cell_type": "code",
   "execution_count": 4,
   "metadata": {},
   "outputs": [],
   "source": [
    "from examples.RayTune.tensorflow_mlp_classifier import TensorflowMLPClassifier"
   ]
  },
  {
   "cell_type": "code",
   "execution_count": 5,
   "metadata": {},
   "outputs": [],
   "source": [
    "tuner = HyperParameterTuner()"
   ]
  },
  {
   "cell_type": "code",
   "execution_count": 6,
   "metadata": {},
   "outputs": [],
   "source": [
    "# 'tuning_param': {'lr': float, 'units': int}\n",
    "# 'target_metrics': {'accuracy': 'minimize'}\n",
    "\n",
    "# parameters = {\n",
    "#     'lr': {'min': 0.001, 'max': 0.1},\n",
    "#     'n_layer': {'min': 1, 'max': 8},    \n",
    "#     'units': [4, 8, 16, 32, 64]\n",
    "# }\n",
    "\n",
    "parameters = [\n",
    "    {\n",
    "        'name': 'lr',\n",
    "        'type': 'float',\n",
    "        'min': 0.001,\n",
    "        'max': 0.1,\n",
    "        'choice': []\n",
    "    },\n",
    "    {\n",
    "        'name': 'n_layer',\n",
    "        'type': 'int',\n",
    "        'min': 1,\n",
    "        'max': 8,\n",
    "        'choice': []\n",
    "    },\n",
    "    {\n",
    "        'name': 'units',\n",
    "        'type': 'int',\n",
    "        'min': 4,\n",
    "        'max': 32,\n",
    "        'choice': []\n",
    "    },    \n",
    "#     {\n",
    "#         'name': 'units',\n",
    "#         'type': int,\n",
    "#         'min': None,\n",
    "#         'max': None,\n",
    "#         'choice': [4, 8, 16, 32, 64]\n",
    "#     }    \n",
    "]\n",
    "target_metrics = 'accuracy'\n",
    "options = {\n",
    "    'num_samples': 10,\n",
    "    'stopping_criteria': {\n",
    "        'training_iteration': 5,\n",
    "    }\n",
    "}"
   ]
  },
  {
   "cell_type": "markdown",
   "metadata": {},
   "source": [
    "If it is a choice, then we need to use other model "
   ]
  },
  {
   "cell_type": "code",
   "execution_count": 7,
   "metadata": {},
   "outputs": [
    {
     "data": {
      "text/html": [
       "== Status ==<br>Memory usage on this node: 20.1/32.0 GiB<br>Using AsyncHyperBand: num_stopped=6\n",
       "Bracket: Iter 64.000: None | Iter 16.000: None | Iter 4.000: 0.8167171717171717 | Iter 1.000: 0.8179545454545454<br>Resources requested: 0/16 CPUs, 0/0 GPUs, 0.0/11.28 GiB heap, 0.0/3.86 GiB objects<br>Result logdir: /Users/arimo/ray_results/H1stModelTrainable<br>Number of trials: 10 (10 TERMINATED)<br><table>\n",
       "<thead>\n",
       "<tr><th>Trial name                 </th><th>status    </th><th>loc  </th><th style=\"text-align: right;\">        lr</th><th style=\"text-align: right;\">  n_layer</th><th style=\"text-align: right;\">   units</th><th style=\"text-align: right;\">     acc</th><th style=\"text-align: right;\">  iter</th><th style=\"text-align: right;\">  total time (s)</th></tr>\n",
       "</thead>\n",
       "<tbody>\n",
       "<tr><td>H1stModelTrainable_7c8b9c18</td><td>TERMINATED</td><td>     </td><td style=\"text-align: right;\">0.0380795 </td><td style=\"text-align: right;\">  7.655  </td><td style=\"text-align: right;\">24.4958 </td><td style=\"text-align: right;\">0.816061</td><td style=\"text-align: right;\">     4</td><td style=\"text-align: right;\">         8.54872</td></tr>\n",
       "<tr><td>H1stModelTrainable_7c8bd9da</td><td>TERMINATED</td><td>     </td><td style=\"text-align: right;\">0.0602672 </td><td style=\"text-align: right;\">  2.09213</td><td style=\"text-align: right;\"> 8.36785</td><td style=\"text-align: right;\">0.820707</td><td style=\"text-align: right;\">     5</td><td style=\"text-align: right;\">         6.56767</td></tr>\n",
       "<tr><td>H1stModelTrainable_7c8c05b8</td><td>TERMINATED</td><td>     </td><td style=\"text-align: right;\">0.00675028</td><td style=\"text-align: right;\">  7.06323</td><td style=\"text-align: right;\">20.8312 </td><td style=\"text-align: right;\">0.817576</td><td style=\"text-align: right;\">     1</td><td style=\"text-align: right;\">         2.71082</td></tr>\n",
       "<tr><td>H1stModelTrainable_7c8c3772</td><td>TERMINATED</td><td>     </td><td style=\"text-align: right;\">0.0710992 </td><td style=\"text-align: right;\">  1.14409</td><td style=\"text-align: right;\">31.1575 </td><td style=\"text-align: right;\">0.812929</td><td style=\"text-align: right;\">     5</td><td style=\"text-align: right;\">         5.70344</td></tr>\n",
       "<tr><td>H1stModelTrainable_7c8c688c</td><td>TERMINATED</td><td>     </td><td style=\"text-align: right;\">0.0834118 </td><td style=\"text-align: right;\">  2.48637</td><td style=\"text-align: right;\"> 9.0911 </td><td style=\"text-align: right;\">0.816566</td><td style=\"text-align: right;\">     5</td><td style=\"text-align: right;\">         6.83687</td></tr>\n",
       "<tr><td>H1stModelTrainable_7c8c9334</td><td>TERMINATED</td><td>     </td><td style=\"text-align: right;\">0.019157  </td><td style=\"text-align: right;\">  3.1297 </td><td style=\"text-align: right;\">18.6932 </td><td style=\"text-align: right;\">0.809697</td><td style=\"text-align: right;\">     1</td><td style=\"text-align: right;\">         1.71954</td></tr>\n",
       "<tr><td>H1stModelTrainable_7c8cbd00</td><td>TERMINATED</td><td>     </td><td style=\"text-align: right;\">0.0437626 </td><td style=\"text-align: right;\">  3.0386 </td><td style=\"text-align: right;\">21.1319 </td><td style=\"text-align: right;\">0.816566</td><td style=\"text-align: right;\">     1</td><td style=\"text-align: right;\">         1.7025 </td></tr>\n",
       "<tr><td>H1stModelTrainable_7c8ceb2c</td><td>TERMINATED</td><td>     </td><td style=\"text-align: right;\">0.0148099 </td><td style=\"text-align: right;\">  3.04501</td><td style=\"text-align: right;\">14.2581 </td><td style=\"text-align: right;\">0.815859</td><td style=\"text-align: right;\">     4</td><td style=\"text-align: right;\">         6.2019 </td></tr>\n",
       "<tr><td>H1stModelTrainable_7c8d12e6</td><td>TERMINATED</td><td>     </td><td style=\"text-align: right;\">0.0461509 </td><td style=\"text-align: right;\">  6.49623</td><td style=\"text-align: right;\"> 9.59087</td><td style=\"text-align: right;\">0.816061</td><td style=\"text-align: right;\">     4</td><td style=\"text-align: right;\">         7.4614 </td></tr>\n",
       "<tr><td>H1stModelTrainable_7c8d3ce4</td><td>TERMINATED</td><td>     </td><td style=\"text-align: right;\">0.0519092 </td><td style=\"text-align: right;\">  5.1469 </td><td style=\"text-align: right;\"> 5.30061</td><td style=\"text-align: right;\">0.819293</td><td style=\"text-align: right;\">     5</td><td style=\"text-align: right;\">         8.30787</td></tr>\n",
       "</tbody>\n",
       "</table><br><br>"
      ],
      "text/plain": [
       "<IPython.core.display.HTML object>"
      ]
     },
     "metadata": {},
     "output_type": "display_data"
    },
    {
     "name": "stdout",
     "output_type": "stream",
     "text": [
      "took   20.56 seconds (   0.34 minutes)\n"
     ]
    }
   ],
   "source": [
    "analysis = tuner.run(TensorflowMLPClassifier, parameters, target_metrics, options)"
   ]
  }
 ],
 "metadata": {
  "kernelspec": {
   "display_name": "Python 3",
   "language": "python",
   "name": "python3"
  },
  "language_info": {
   "codemirror_mode": {
    "name": "ipython",
    "version": 3
   },
   "file_extension": ".py",
   "mimetype": "text/x-python",
   "name": "python",
   "nbconvert_exporter": "python",
   "pygments_lexer": "ipython3",
   "version": "3.7.7"
  },
  "toc": {
   "base_numbering": 1,
   "nav_menu": {},
   "number_sections": true,
   "sideBar": true,
   "skip_h1_title": false,
   "title_cell": "Table of Contents",
   "title_sidebar": "Contents",
   "toc_cell": false,
   "toc_position": {},
   "toc_section_display": true,
   "toc_window_display": false
  }
 },
 "nbformat": 4,
 "nbformat_minor": 4
}
