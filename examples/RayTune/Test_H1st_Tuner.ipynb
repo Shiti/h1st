{
 "cells": [
  {
   "cell_type": "code",
   "execution_count": 29,
   "metadata": {},
   "outputs": [
    {
     "name": "stdout",
     "output_type": "stream",
     "text": [
      "The autoreload extension is already loaded. To reload it, use:\n",
      "  %reload_ext autoreload\n"
     ]
    }
   ],
   "source": [
    "# coding: utf-8\n",
    "%load_ext autoreload\n",
    "%autoreload 2"
   ]
  },
  {
   "cell_type": "code",
   "execution_count": 108,
   "metadata": {},
   "outputs": [],
   "source": [
    "import h1st as h1\n",
    "h1.init()"
   ]
  },
  {
   "cell_type": "code",
   "execution_count": 109,
   "metadata": {},
   "outputs": [],
   "source": [
    "from h1st.tuner import HyperParameterTuner\n",
    "from examples.RayTune.tensorflow_mlp_classifier import TensorflowMLPClassifier\n",
    "from examples.RayTune.sklearn_rf_classifier import SklearnRFClassifier"
   ]
  },
  {
   "cell_type": "code",
   "execution_count": 110,
   "metadata": {},
   "outputs": [],
   "source": [
    "tuner = HyperParameterTuner()"
   ]
  },
  {
   "cell_type": "code",
   "execution_count": 111,
   "metadata": {},
   "outputs": [],
   "source": [
    "# parameters = [\n",
    "#     {\n",
    "#         'name': 'lr',\n",
    "#         'type': 'float',\n",
    "#         'min': 0.001,\n",
    "#         'max': 0.1,\n",
    "#         'choice': []\n",
    "#     },\n",
    "#     {\n",
    "#         'name': 'n_layer',\n",
    "#         'type': 'int',\n",
    "#         'min': 1,\n",
    "#         'max': 8,\n",
    "#         'choice': []\n",
    "#     },\n",
    "#     {\n",
    "#         'name': 'units',\n",
    "#         'type': 'int',\n",
    "#         'min': None,\n",
    "#         'max': None,\n",
    "#         'choice': [4, 8, 16, 32, 64]\n",
    "#     }    \n",
    "# ]\n",
    "\n",
    "parameters = [\n",
    "    {\n",
    "        'name': 'n_estimators',\n",
    "        'type': 'int',\n",
    "        'min': None,\n",
    "        'max': None,\n",
    "        'choice': [50, 100, 150]\n",
    "    },\n",
    "    {\n",
    "        'name': 'max_depth',\n",
    "        'type': 'int',\n",
    "        'min': 3,\n",
    "        'max': 8,\n",
    "        'choice': []\n",
    "    },\n",
    "    {\n",
    "        'name': 'criterion',\n",
    "        'type': 'str',\n",
    "        'min': None,\n",
    "        'max': None,\n",
    "        'choice': ['gini', 'entropy']\n",
    "    },\n",
    "    {\n",
    "        'name': 'min_samples_split',\n",
    "        'type': 'int',\n",
    "        'min': 2,\n",
    "        'max': 4,\n",
    "        'choice': []\n",
    "    }    \n",
    "]\n",
    "\n",
    "\n",
    "target_metrics = 'accuracy'\n",
    "options = {\n",
    "    'num_samples': 10,\n",
    "    'stopping_criteria': {\n",
    "        'training_iteration': 3,\n",
    "    },\n",
    "    'max_concurrent': 16\n",
    "}"
   ]
  },
  {
   "cell_type": "markdown",
   "metadata": {},
   "source": [
    "If it is a choice, then we need to use other model "
   ]
  },
  {
   "cell_type": "code",
   "execution_count": 112,
   "metadata": {
    "scrolled": true
   },
   "outputs": [
    {
     "data": {
      "text/html": [
       "== Status ==<br>Memory usage on this node: 14.4/32.0 GiB<br>Using HyperBand: num_stopped=0 total_brackets=1\n",
       "Round #0:\n",
       "  Bracket(Max Size (n)=4, Milestone (r)=16, completed=-7.8%): {TERMINATED: 10} <br>Resources requested: 0/16 CPUs, 0/0 GPUs, 0.0/10.6 GiB heap, 0.0/3.66 GiB objects<br>Result logdir: /Users/arimo/ray_results/experiment_1<br>Number of trials: 10 (10 TERMINATED)<br><table>\n",
       "<thead>\n",
       "<tr><th>Trial name                 </th><th>status    </th><th>loc  </th><th>criterion  </th><th style=\"text-align: right;\">  max_depth</th><th style=\"text-align: right;\">  min_samples_split</th><th style=\"text-align: right;\">  n_estimators</th><th style=\"text-align: right;\">     acc</th><th style=\"text-align: right;\">  iter</th><th style=\"text-align: right;\">  total time (s)</th></tr>\n",
       "</thead>\n",
       "<tbody>\n",
       "<tr><td>H1stModelTrainable_7a51cdc4</td><td>TERMINATED</td><td>     </td><td>gini       </td><td style=\"text-align: right;\">          4</td><td style=\"text-align: right;\">                  3</td><td style=\"text-align: right;\">            50</td><td style=\"text-align: right;\">0.809091</td><td style=\"text-align: right;\">     3</td><td style=\"text-align: right;\">         2.82189</td></tr>\n",
       "<tr><td>H1stModelTrainable_7a51faec</td><td>TERMINATED</td><td>     </td><td>gini       </td><td style=\"text-align: right;\">          3</td><td style=\"text-align: right;\">                  2</td><td style=\"text-align: right;\">           100</td><td style=\"text-align: right;\">0.805859</td><td style=\"text-align: right;\">     3</td><td style=\"text-align: right;\">         4.30478</td></tr>\n",
       "<tr><td>H1stModelTrainable_7a52265c</td><td>TERMINATED</td><td>     </td><td>entropy    </td><td style=\"text-align: right;\">          7</td><td style=\"text-align: right;\">                  3</td><td style=\"text-align: right;\">           150</td><td style=\"text-align: right;\">0.81798 </td><td style=\"text-align: right;\">     3</td><td style=\"text-align: right;\">        15.758  </td></tr>\n",
       "<tr><td>H1stModelTrainable_7a524f24</td><td>TERMINATED</td><td>     </td><td>gini       </td><td style=\"text-align: right;\">          6</td><td style=\"text-align: right;\">                  4</td><td style=\"text-align: right;\">           100</td><td style=\"text-align: right;\">0.817374</td><td style=\"text-align: right;\">     3</td><td style=\"text-align: right;\">         7.48806</td></tr>\n",
       "<tr><td>H1stModelTrainable_7a527cba</td><td>TERMINATED</td><td>     </td><td>entropy    </td><td style=\"text-align: right;\">          5</td><td style=\"text-align: right;\">                  3</td><td style=\"text-align: right;\">           150</td><td style=\"text-align: right;\">0.81202 </td><td style=\"text-align: right;\">     3</td><td style=\"text-align: right;\">        10.7694 </td></tr>\n",
       "<tr><td>H1stModelTrainable_7a52a71c</td><td>TERMINATED</td><td>     </td><td>entropy    </td><td style=\"text-align: right;\">          7</td><td style=\"text-align: right;\">                  4</td><td style=\"text-align: right;\">           100</td><td style=\"text-align: right;\">0.818182</td><td style=\"text-align: right;\">     3</td><td style=\"text-align: right;\">        10.3748 </td></tr>\n",
       "<tr><td>H1stModelTrainable_7a52ced6</td><td>TERMINATED</td><td>     </td><td>gini       </td><td style=\"text-align: right;\">          6</td><td style=\"text-align: right;\">                  2</td><td style=\"text-align: right;\">            50</td><td style=\"text-align: right;\">0.815657</td><td style=\"text-align: right;\">     3</td><td style=\"text-align: right;\">         4.13334</td></tr>\n",
       "<tr><td>H1stModelTrainable_7a52f5aa</td><td>TERMINATED</td><td>     </td><td>gini       </td><td style=\"text-align: right;\">          8</td><td style=\"text-align: right;\">                  2</td><td style=\"text-align: right;\">           100</td><td style=\"text-align: right;\">0.818889</td><td style=\"text-align: right;\">     3</td><td style=\"text-align: right;\">        11.2498 </td></tr>\n",
       "<tr><td>H1stModelTrainable_7a5322a0</td><td>TERMINATED</td><td>     </td><td>gini       </td><td style=\"text-align: right;\">          8</td><td style=\"text-align: right;\">                  2</td><td style=\"text-align: right;\">           100</td><td style=\"text-align: right;\">0.818687</td><td style=\"text-align: right;\">     3</td><td style=\"text-align: right;\">        11.0547 </td></tr>\n",
       "<tr><td>H1stModelTrainable_7a534a5a</td><td>TERMINATED</td><td>     </td><td>entropy    </td><td style=\"text-align: right;\">          3</td><td style=\"text-align: right;\">                  2</td><td style=\"text-align: right;\">           100</td><td style=\"text-align: right;\">0.804949</td><td style=\"text-align: right;\">     3</td><td style=\"text-align: right;\">         4.95403</td></tr>\n",
       "</tbody>\n",
       "</table><br><br>"
      ],
      "text/plain": [
       "<IPython.core.display.HTML object>"
      ]
     },
     "metadata": {},
     "output_type": "display_data"
    },
    {
     "name": "stdout",
     "output_type": "stream",
     "text": [
      "took   41.92 seconds (  0 hours 0.70 minutes)\n"
     ]
    }
   ],
   "source": [
    "analysis = tuner.run(SklearnRFClassifier, parameters, target_metrics, options, search_algorithm=\"BOHB\")"
   ]
  },
  {
   "cell_type": "code",
   "execution_count": 113,
   "metadata": {},
   "outputs": [
    {
     "data": {
      "text/html": [
       "<div>\n",
       "<style scoped>\n",
       "    .dataframe tbody tr th:only-of-type {\n",
       "        vertical-align: middle;\n",
       "    }\n",
       "\n",
       "    .dataframe tbody tr th {\n",
       "        vertical-align: top;\n",
       "    }\n",
       "\n",
       "    .dataframe thead th {\n",
       "        text-align: right;\n",
       "    }\n",
       "</style>\n",
       "<table border=\"1\" class=\"dataframe\">\n",
       "  <thead>\n",
       "    <tr style=\"text-align: right;\">\n",
       "      <th></th>\n",
       "      <th>model_version</th>\n",
       "      <th>mean_accuracy</th>\n",
       "      <th>training_iteration</th>\n",
       "      <th>config/n_estimators</th>\n",
       "      <th>config/max_depth</th>\n",
       "      <th>config/criterion</th>\n",
       "      <th>config/min_samples_split</th>\n",
       "    </tr>\n",
       "  </thead>\n",
       "  <tbody>\n",
       "    <tr>\n",
       "      <th>7</th>\n",
       "      <td>n_est=100|max_d=8|crite=gini|min_s=2|55623042</td>\n",
       "      <td>0.819495</td>\n",
       "      <td>1</td>\n",
       "      <td>100</td>\n",
       "      <td>8</td>\n",
       "      <td>gini</td>\n",
       "      <td>2</td>\n",
       "    </tr>\n",
       "    <tr>\n",
       "      <th>2</th>\n",
       "      <td>n_est=150|max_d=7|crite=entropy|min_s=3|55293125</td>\n",
       "      <td>0.819192</td>\n",
       "      <td>1</td>\n",
       "      <td>150</td>\n",
       "      <td>7</td>\n",
       "      <td>entropy</td>\n",
       "      <td>3</td>\n",
       "    </tr>\n",
       "    <tr>\n",
       "      <th>5</th>\n",
       "      <td>n_est=100|max_d=7|crite=entropy|min_s=4|10391647</td>\n",
       "      <td>0.819192</td>\n",
       "      <td>2</td>\n",
       "      <td>100</td>\n",
       "      <td>7</td>\n",
       "      <td>entropy</td>\n",
       "      <td>4</td>\n",
       "    </tr>\n",
       "    <tr>\n",
       "      <th>8</th>\n",
       "      <td>n_est=100|max_d=8|crite=gini|min_s=2|55675652</td>\n",
       "      <td>0.819091</td>\n",
       "      <td>1</td>\n",
       "      <td>100</td>\n",
       "      <td>8</td>\n",
       "      <td>gini</td>\n",
       "      <td>2</td>\n",
       "    </tr>\n",
       "    <tr>\n",
       "      <th>3</th>\n",
       "      <td>n_est=100|max_d=6|crite=gini|min_s=4|54972321</td>\n",
       "      <td>0.818081</td>\n",
       "      <td>1</td>\n",
       "      <td>100</td>\n",
       "      <td>6</td>\n",
       "      <td>gini</td>\n",
       "      <td>4</td>\n",
       "    </tr>\n",
       "    <tr>\n",
       "      <th>6</th>\n",
       "      <td>n_est=50|max_d=6|crite=gini|min_s=2|15841532</td>\n",
       "      <td>0.815657</td>\n",
       "      <td>3</td>\n",
       "      <td>50</td>\n",
       "      <td>6</td>\n",
       "      <td>gini</td>\n",
       "      <td>2</td>\n",
       "    </tr>\n",
       "    <tr>\n",
       "      <th>4</th>\n",
       "      <td>n_est=150|max_d=5|crite=entropy|min_s=3|14609608</td>\n",
       "      <td>0.812020</td>\n",
       "      <td>3</td>\n",
       "      <td>150</td>\n",
       "      <td>5</td>\n",
       "      <td>entropy</td>\n",
       "      <td>3</td>\n",
       "    </tr>\n",
       "    <tr>\n",
       "      <th>0</th>\n",
       "      <td>n_est=50|max_d=4|crite=gini|min_s=3|15031358</td>\n",
       "      <td>0.809091</td>\n",
       "      <td>3</td>\n",
       "      <td>50</td>\n",
       "      <td>4</td>\n",
       "      <td>gini</td>\n",
       "      <td>3</td>\n",
       "    </tr>\n",
       "    <tr>\n",
       "      <th>1</th>\n",
       "      <td>n_est=100|max_d=3|crite=gini|min_s=2|14782684</td>\n",
       "      <td>0.806970</td>\n",
       "      <td>2</td>\n",
       "      <td>100</td>\n",
       "      <td>3</td>\n",
       "      <td>gini</td>\n",
       "      <td>2</td>\n",
       "    </tr>\n",
       "    <tr>\n",
       "      <th>9</th>\n",
       "      <td>n_est=100|max_d=3|crite=entropy|min_s=2|14688548</td>\n",
       "      <td>0.805455</td>\n",
       "      <td>2</td>\n",
       "      <td>100</td>\n",
       "      <td>3</td>\n",
       "      <td>entropy</td>\n",
       "      <td>2</td>\n",
       "    </tr>\n",
       "  </tbody>\n",
       "</table>\n",
       "</div>"
      ],
      "text/plain": [
       "                                      model_version  mean_accuracy  \\\n",
       "7     n_est=100|max_d=8|crite=gini|min_s=2|55623042       0.819495   \n",
       "2  n_est=150|max_d=7|crite=entropy|min_s=3|55293125       0.819192   \n",
       "5  n_est=100|max_d=7|crite=entropy|min_s=4|10391647       0.819192   \n",
       "8     n_est=100|max_d=8|crite=gini|min_s=2|55675652       0.819091   \n",
       "3     n_est=100|max_d=6|crite=gini|min_s=4|54972321       0.818081   \n",
       "6      n_est=50|max_d=6|crite=gini|min_s=2|15841532       0.815657   \n",
       "4  n_est=150|max_d=5|crite=entropy|min_s=3|14609608       0.812020   \n",
       "0      n_est=50|max_d=4|crite=gini|min_s=3|15031358       0.809091   \n",
       "1     n_est=100|max_d=3|crite=gini|min_s=2|14782684       0.806970   \n",
       "9  n_est=100|max_d=3|crite=entropy|min_s=2|14688548       0.805455   \n",
       "\n",
       "   training_iteration  config/n_estimators  config/max_depth config/criterion  \\\n",
       "7                   1                  100                 8             gini   \n",
       "2                   1                  150                 7          entropy   \n",
       "5                   2                  100                 7          entropy   \n",
       "8                   1                  100                 8             gini   \n",
       "3                   1                  100                 6             gini   \n",
       "6                   3                   50                 6             gini   \n",
       "4                   3                  150                 5          entropy   \n",
       "0                   3                   50                 4             gini   \n",
       "1                   2                  100                 3             gini   \n",
       "9                   2                  100                 3          entropy   \n",
       "\n",
       "   config/min_samples_split  \n",
       "7                         2  \n",
       "2                         3  \n",
       "5                         4  \n",
       "8                         2  \n",
       "3                         4  \n",
       "6                         2  \n",
       "4                         3  \n",
       "0                         3  \n",
       "1                         2  \n",
       "9                         2  "
      ]
     },
     "execution_count": 113,
     "metadata": {},
     "output_type": "execute_result"
    }
   ],
   "source": [
    "analysis.head(20)"
   ]
  },
  {
   "cell_type": "code",
   "execution_count": 107,
   "metadata": {},
   "outputs": [
    {
     "name": "stdout",
     "output_type": "stream",
     "text": [
      "(10, 7)\n",
      "10\n"
     ]
    }
   ],
   "source": [
    "print(analysis.shape)\n",
    "print(analysis.model_version.nunique())"
   ]
  },
  {
   "cell_type": "code",
   "execution_count": 50,
   "metadata": {
    "scrolled": false
   },
   "outputs": [
    {
     "data": {
      "text/html": [
       "<div>\n",
       "<style scoped>\n",
       "    .dataframe tbody tr th:only-of-type {\n",
       "        vertical-align: middle;\n",
       "    }\n",
       "\n",
       "    .dataframe tbody tr th {\n",
       "        vertical-align: top;\n",
       "    }\n",
       "\n",
       "    .dataframe thead th {\n",
       "        text-align: right;\n",
       "    }\n",
       "</style>\n",
       "<table border=\"1\" class=\"dataframe\">\n",
       "  <thead>\n",
       "    <tr style=\"text-align: right;\">\n",
       "      <th></th>\n",
       "      <th>model_version</th>\n",
       "      <th>mean_accuracy</th>\n",
       "      <th>training_iteration</th>\n",
       "      <th>config/n_estimators</th>\n",
       "      <th>config/max_depth</th>\n",
       "      <th>config/criterion</th>\n",
       "      <th>config/min_samples_split</th>\n",
       "    </tr>\n",
       "  </thead>\n",
       "  <tbody>\n",
       "    <tr>\n",
       "      <th>12</th>\n",
       "      <td>3_n_estimators=50_max_depth=8_criterion=gini_m...</td>\n",
       "      <td>0.820505</td>\n",
       "      <td>3</td>\n",
       "      <td>50</td>\n",
       "      <td>8</td>\n",
       "      <td>gini</td>\n",
       "      <td>2</td>\n",
       "    </tr>\n",
       "    <tr>\n",
       "      <th>3</th>\n",
       "      <td>1_n_estimators=100_max_depth=8_criterion=entro...</td>\n",
       "      <td>0.820000</td>\n",
       "      <td>1</td>\n",
       "      <td>100</td>\n",
       "      <td>8</td>\n",
       "      <td>entropy</td>\n",
       "      <td>4</td>\n",
       "    </tr>\n",
       "    <tr>\n",
       "      <th>7</th>\n",
       "      <td>2_n_estimators=50_max_depth=8_criterion=gini_m...</td>\n",
       "      <td>0.819798</td>\n",
       "      <td>2</td>\n",
       "      <td>50</td>\n",
       "      <td>8</td>\n",
       "      <td>gini</td>\n",
       "      <td>4</td>\n",
       "    </tr>\n",
       "    <tr>\n",
       "      <th>4</th>\n",
       "      <td>2_n_estimators=50_max_depth=6_criterion=entrop...</td>\n",
       "      <td>0.819596</td>\n",
       "      <td>2</td>\n",
       "      <td>50</td>\n",
       "      <td>6</td>\n",
       "      <td>entropy</td>\n",
       "      <td>3</td>\n",
       "    </tr>\n",
       "    <tr>\n",
       "      <th>0</th>\n",
       "      <td>3_n_estimators=50_max_depth=8_criterion=gini_m...</td>\n",
       "      <td>0.818990</td>\n",
       "      <td>3</td>\n",
       "      <td>50</td>\n",
       "      <td>8</td>\n",
       "      <td>gini</td>\n",
       "      <td>2</td>\n",
       "    </tr>\n",
       "    <tr>\n",
       "      <th>14</th>\n",
       "      <td>3_n_estimators=100_max_depth=6_criterion=gini_...</td>\n",
       "      <td>0.818990</td>\n",
       "      <td>3</td>\n",
       "      <td>100</td>\n",
       "      <td>6</td>\n",
       "      <td>gini</td>\n",
       "      <td>3</td>\n",
       "    </tr>\n",
       "    <tr>\n",
       "      <th>10</th>\n",
       "      <td>3_n_estimators=150_max_depth=7_criterion=gini_...</td>\n",
       "      <td>0.818990</td>\n",
       "      <td>3</td>\n",
       "      <td>150</td>\n",
       "      <td>7</td>\n",
       "      <td>gini</td>\n",
       "      <td>2</td>\n",
       "    </tr>\n",
       "    <tr>\n",
       "      <th>2</th>\n",
       "      <td>1_n_estimators=100_max_depth=6_criterion=gini_...</td>\n",
       "      <td>0.818990</td>\n",
       "      <td>1</td>\n",
       "      <td>100</td>\n",
       "      <td>6</td>\n",
       "      <td>gini</td>\n",
       "      <td>4</td>\n",
       "    </tr>\n",
       "    <tr>\n",
       "      <th>19</th>\n",
       "      <td>2_n_estimators=150_max_depth=8_criterion=gini_...</td>\n",
       "      <td>0.818889</td>\n",
       "      <td>2</td>\n",
       "      <td>150</td>\n",
       "      <td>8</td>\n",
       "      <td>gini</td>\n",
       "      <td>3</td>\n",
       "    </tr>\n",
       "    <tr>\n",
       "      <th>1</th>\n",
       "      <td>2_n_estimators=150_max_depth=8_criterion=entro...</td>\n",
       "      <td>0.818485</td>\n",
       "      <td>2</td>\n",
       "      <td>150</td>\n",
       "      <td>8</td>\n",
       "      <td>entropy</td>\n",
       "      <td>2</td>\n",
       "    </tr>\n",
       "    <tr>\n",
       "      <th>15</th>\n",
       "      <td>2_n_estimators=50_max_depth=7_criterion=entrop...</td>\n",
       "      <td>0.817980</td>\n",
       "      <td>2</td>\n",
       "      <td>50</td>\n",
       "      <td>7</td>\n",
       "      <td>entropy</td>\n",
       "      <td>3</td>\n",
       "    </tr>\n",
       "    <tr>\n",
       "      <th>8</th>\n",
       "      <td>1_n_estimators=100_max_depth=5_criterion=gini_...</td>\n",
       "      <td>0.817576</td>\n",
       "      <td>1</td>\n",
       "      <td>100</td>\n",
       "      <td>5</td>\n",
       "      <td>gini</td>\n",
       "      <td>4</td>\n",
       "    </tr>\n",
       "    <tr>\n",
       "      <th>5</th>\n",
       "      <td>3_n_estimators=150_max_depth=6_criterion=entro...</td>\n",
       "      <td>0.817172</td>\n",
       "      <td>3</td>\n",
       "      <td>150</td>\n",
       "      <td>6</td>\n",
       "      <td>entropy</td>\n",
       "      <td>2</td>\n",
       "    </tr>\n",
       "    <tr>\n",
       "      <th>9</th>\n",
       "      <td>3_n_estimators=50_max_depth=6_criterion=entrop...</td>\n",
       "      <td>0.816162</td>\n",
       "      <td>3</td>\n",
       "      <td>50</td>\n",
       "      <td>6</td>\n",
       "      <td>entropy</td>\n",
       "      <td>4</td>\n",
       "    </tr>\n",
       "    <tr>\n",
       "      <th>18</th>\n",
       "      <td>2_n_estimators=100_max_depth=5_criterion=gini_...</td>\n",
       "      <td>0.816061</td>\n",
       "      <td>2</td>\n",
       "      <td>100</td>\n",
       "      <td>5</td>\n",
       "      <td>gini</td>\n",
       "      <td>2</td>\n",
       "    </tr>\n",
       "    <tr>\n",
       "      <th>6</th>\n",
       "      <td>2_n_estimators=150_max_depth=5_criterion=gini_...</td>\n",
       "      <td>0.811818</td>\n",
       "      <td>2</td>\n",
       "      <td>150</td>\n",
       "      <td>5</td>\n",
       "      <td>gini</td>\n",
       "      <td>4</td>\n",
       "    </tr>\n",
       "    <tr>\n",
       "      <th>11</th>\n",
       "      <td>1_n_estimators=150_max_depth=4_criterion=gini_...</td>\n",
       "      <td>0.808990</td>\n",
       "      <td>1</td>\n",
       "      <td>150</td>\n",
       "      <td>4</td>\n",
       "      <td>gini</td>\n",
       "      <td>3</td>\n",
       "    </tr>\n",
       "    <tr>\n",
       "      <th>17</th>\n",
       "      <td>1_n_estimators=150_max_depth=4_criterion=entro...</td>\n",
       "      <td>0.808990</td>\n",
       "      <td>1</td>\n",
       "      <td>150</td>\n",
       "      <td>4</td>\n",
       "      <td>entropy</td>\n",
       "      <td>3</td>\n",
       "    </tr>\n",
       "    <tr>\n",
       "      <th>16</th>\n",
       "      <td>1_n_estimators=50_max_depth=3_criterion=gini_m...</td>\n",
       "      <td>0.807172</td>\n",
       "      <td>1</td>\n",
       "      <td>50</td>\n",
       "      <td>3</td>\n",
       "      <td>gini</td>\n",
       "      <td>4</td>\n",
       "    </tr>\n",
       "    <tr>\n",
       "      <th>13</th>\n",
       "      <td>1_n_estimators=150_max_depth=3_criterion=entro...</td>\n",
       "      <td>0.804040</td>\n",
       "      <td>1</td>\n",
       "      <td>150</td>\n",
       "      <td>3</td>\n",
       "      <td>entropy</td>\n",
       "      <td>3</td>\n",
       "    </tr>\n",
       "  </tbody>\n",
       "</table>\n",
       "</div>"
      ],
      "text/plain": [
       "                                        model_version  mean_accuracy  \\\n",
       "12  3_n_estimators=50_max_depth=8_criterion=gini_m...       0.820505   \n",
       "3   1_n_estimators=100_max_depth=8_criterion=entro...       0.820000   \n",
       "7   2_n_estimators=50_max_depth=8_criterion=gini_m...       0.819798   \n",
       "4   2_n_estimators=50_max_depth=6_criterion=entrop...       0.819596   \n",
       "0   3_n_estimators=50_max_depth=8_criterion=gini_m...       0.818990   \n",
       "14  3_n_estimators=100_max_depth=6_criterion=gini_...       0.818990   \n",
       "10  3_n_estimators=150_max_depth=7_criterion=gini_...       0.818990   \n",
       "2   1_n_estimators=100_max_depth=6_criterion=gini_...       0.818990   \n",
       "19  2_n_estimators=150_max_depth=8_criterion=gini_...       0.818889   \n",
       "1   2_n_estimators=150_max_depth=8_criterion=entro...       0.818485   \n",
       "15  2_n_estimators=50_max_depth=7_criterion=entrop...       0.817980   \n",
       "8   1_n_estimators=100_max_depth=5_criterion=gini_...       0.817576   \n",
       "5   3_n_estimators=150_max_depth=6_criterion=entro...       0.817172   \n",
       "9   3_n_estimators=50_max_depth=6_criterion=entrop...       0.816162   \n",
       "18  2_n_estimators=100_max_depth=5_criterion=gini_...       0.816061   \n",
       "6   2_n_estimators=150_max_depth=5_criterion=gini_...       0.811818   \n",
       "11  1_n_estimators=150_max_depth=4_criterion=gini_...       0.808990   \n",
       "17  1_n_estimators=150_max_depth=4_criterion=entro...       0.808990   \n",
       "16  1_n_estimators=50_max_depth=3_criterion=gini_m...       0.807172   \n",
       "13  1_n_estimators=150_max_depth=3_criterion=entro...       0.804040   \n",
       "\n",
       "    training_iteration  config/n_estimators  config/max_depth  \\\n",
       "12                   3                   50                 8   \n",
       "3                    1                  100                 8   \n",
       "7                    2                   50                 8   \n",
       "4                    2                   50                 6   \n",
       "0                    3                   50                 8   \n",
       "14                   3                  100                 6   \n",
       "10                   3                  150                 7   \n",
       "2                    1                  100                 6   \n",
       "19                   2                  150                 8   \n",
       "1                    2                  150                 8   \n",
       "15                   2                   50                 7   \n",
       "8                    1                  100                 5   \n",
       "5                    3                  150                 6   \n",
       "9                    3                   50                 6   \n",
       "18                   2                  100                 5   \n",
       "6                    2                  150                 5   \n",
       "11                   1                  150                 4   \n",
       "17                   1                  150                 4   \n",
       "16                   1                   50                 3   \n",
       "13                   1                  150                 3   \n",
       "\n",
       "   config/criterion  config/min_samples_split  \n",
       "12             gini                         2  \n",
       "3           entropy                         4  \n",
       "7              gini                         4  \n",
       "4           entropy                         3  \n",
       "0              gini                         2  \n",
       "14             gini                         3  \n",
       "10             gini                         2  \n",
       "2              gini                         4  \n",
       "19             gini                         3  \n",
       "1           entropy                         2  \n",
       "15          entropy                         3  \n",
       "8              gini                         4  \n",
       "5           entropy                         2  \n",
       "9           entropy                         4  \n",
       "18             gini                         2  \n",
       "6              gini                         4  \n",
       "11             gini                         3  \n",
       "17          entropy                         3  \n",
       "16             gini                         4  \n",
       "13          entropy                         3  "
      ]
     },
     "execution_count": 50,
     "metadata": {},
     "output_type": "execute_result"
    }
   ],
   "source": [
    "# cols = ['mean_accuracy', 'config/lr', 'config/n_layer', 'config/units']\n",
    "cols = ['model_version', 'mean_accuracy', 'training_iteration'] + [f'config/{param[\"name\"]}' for param in parameters]\n",
    "analysis.dataframe()[cols].sort_values('mean_accuracy', ascending=False).head(20)"
   ]
  },
  {
   "cell_type": "code",
   "execution_count": 21,
   "metadata": {},
   "outputs": [
    {
     "data": {
      "text/plain": [
       "0.820409090909091"
      ]
     },
     "execution_count": 21,
     "metadata": {},
     "output_type": "execute_result"
    }
   ],
   "source": [
    "analysis.dataframe()[cols].sort_values('mean_accuracy', ascending=False).head(20).mean_accuracy.mean()"
   ]
  },
  {
   "cell_type": "code",
   "execution_count": 67,
   "metadata": {},
   "outputs": [],
   "source": [
    "from datetime import datetime"
   ]
  },
  {
   "cell_type": "code",
   "execution_count": 100,
   "metadata": {},
   "outputs": [
    {
     "data": {
      "text/plain": [
       "'163009.3f'"
      ]
     },
     "execution_count": 100,
     "metadata": {},
     "output_type": "execute_result"
    }
   ],
   "source": [
    "datetime.now().strftime(\"%H%M%S%f\")"
   ]
  },
  {
   "cell_type": "code",
   "execution_count": 80,
   "metadata": {},
   "outputs": [
    {
     "data": {
      "text/plain": [
       "'HH:MM:SS.ffffff'"
      ]
     },
     "execution_count": 80,
     "metadata": {},
     "output_type": "execute_result"
    }
   ],
   "source": [
    "datetime.now().strftime('HH:MM:SS.ffffff')"
   ]
  },
  {
   "cell_type": "code",
   "execution_count": 71,
   "metadata": {},
   "outputs": [],
   "source": [
    "import random"
   ]
  },
  {
   "cell_type": "code",
   "execution_count": 74,
   "metadata": {},
   "outputs": [
    {
     "data": {
      "text/plain": [
       "33717"
      ]
     },
     "execution_count": 74,
     "metadata": {},
     "output_type": "execute_result"
    }
   ],
   "source": [
    "random.randint(0,100000)"
   ]
  },
  {
   "cell_type": "code",
   "execution_count": 70,
   "metadata": {},
   "outputs": [
    {
     "ename": "TypeError",
     "evalue": "descriptor 'time' of 'datetime.datetime' object needs an argument",
     "output_type": "error",
     "traceback": [
      "\u001b[0;31m---------------------------------------------------------------------------\u001b[0m",
      "\u001b[0;31mTypeError\u001b[0m                                 Traceback (most recent call last)",
      "\u001b[0;32m<ipython-input-70-1a794641b2e4>\u001b[0m in \u001b[0;36m<module>\u001b[0;34m\u001b[0m\n\u001b[0;32m----> 1\u001b[0;31m \u001b[0mdatetime\u001b[0m\u001b[0;34m.\u001b[0m\u001b[0mtime\u001b[0m\u001b[0;34m(\u001b[0m\u001b[0;34m)\u001b[0m\u001b[0;34m\u001b[0m\u001b[0;34m\u001b[0m\u001b[0m\n\u001b[0m",
      "\u001b[0;31mTypeError\u001b[0m: descriptor 'time' of 'datetime.datetime' object needs an argument"
     ]
    }
   ],
   "source": [
    "datetime.time()"
   ]
  },
  {
   "cell_type": "code",
   "execution_count": null,
   "metadata": {},
   "outputs": [],
   "source": [
    "a = int(a.strftime('%Y%m%d'))"
   ]
  }
 ],
 "metadata": {
  "kernelspec": {
   "display_name": "Python 3",
   "language": "python",
   "name": "python3"
  },
  "language_info": {
   "codemirror_mode": {
    "name": "ipython",
    "version": 3
   },
   "file_extension": ".py",
   "mimetype": "text/x-python",
   "name": "python",
   "nbconvert_exporter": "python",
   "pygments_lexer": "ipython3",
   "version": "3.7.7"
  },
  "toc": {
   "base_numbering": 1,
   "nav_menu": {},
   "number_sections": true,
   "sideBar": true,
   "skip_h1_title": false,
   "title_cell": "Table of Contents",
   "title_sidebar": "Contents",
   "toc_cell": false,
   "toc_position": {},
   "toc_section_display": true,
   "toc_window_display": false
  }
 },
 "nbformat": 4,
 "nbformat_minor": 4
}
