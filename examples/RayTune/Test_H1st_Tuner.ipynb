{
 "cells": [
  {
   "cell_type": "code",
   "execution_count": 1,
   "metadata": {},
   "outputs": [],
   "source": [
    "# coding: utf-8\n",
    "%load_ext autoreload\n",
    "%autoreload 2"
   ]
  },
  {
   "cell_type": "code",
   "execution_count": 2,
   "metadata": {},
   "outputs": [],
   "source": [
    "import h1st as h1\n",
    "h1.init()"
   ]
  },
  {
   "cell_type": "code",
   "execution_count": 3,
   "metadata": {},
   "outputs": [],
   "source": [
    "from h1st.tuner import HyperParameterTuner"
   ]
  },
  {
   "cell_type": "code",
   "execution_count": 4,
   "metadata": {},
   "outputs": [],
   "source": [
    "from examples.RayTune.tensorflow_mlp_classifier import TensorflowMLPClassifier"
   ]
  },
  {
   "cell_type": "code",
   "execution_count": 5,
   "metadata": {},
   "outputs": [],
   "source": [
    "tuner = HyperParameterTuner()"
   ]
  },
  {
   "cell_type": "code",
   "execution_count": 6,
   "metadata": {},
   "outputs": [],
   "source": [
    "parameters = [\n",
    "    {\n",
    "        'name': 'lr',\n",
    "        'type': 'float',\n",
    "        'min': 0.001,\n",
    "        'max': 0.1,\n",
    "        'choice': []\n",
    "    },\n",
    "    {\n",
    "        'name': 'n_layer',\n",
    "        'type': 'int',\n",
    "        'min': 1,\n",
    "        'max': 8,\n",
    "        'choice': []\n",
    "    },\n",
    "    {\n",
    "        'name': 'units',\n",
    "        'type': 'int',\n",
    "        'min': None,\n",
    "        'max': None,\n",
    "        'choice': [4, 8, 16, 32, 64]\n",
    "    }    \n",
    "]\n",
    "target_metrics = 'accuracy'\n",
    "options = {\n",
    "    'num_samples': 10,\n",
    "    'stopping_criteria': {\n",
    "        'training_iteration': 5,\n",
    "    },\n",
    "    'max_concurrent': 5\n",
    "}"
   ]
  },
  {
   "cell_type": "markdown",
   "metadata": {},
   "source": [
    "If it is a choice, then we need to use other model "
   ]
  },
  {
   "cell_type": "code",
   "execution_count": 7,
   "metadata": {
    "scrolled": false
   },
   "outputs": [
    {
     "data": {
      "text/html": [
       "== Status ==<br>Memory usage on this node: 21.1/32.0 GiB<br>Using HyperBand: num_stopped=6 total_brackets=1\n",
       "Round #0:\n",
       "  Bracket(Max Size (n)=1, Milestone (r)=64, completed=100.0%): {TERMINATED: 10} <br>Resources requested: 0/16 CPUs, 0/0 GPUs, 0.0/12.01 GiB heap, 0.0/4.1 GiB objects<br>Result logdir: /Users/arimo/ray_results/H1stModelTrainable<br>Number of trials: 10 (10 TERMINATED)<br><table>\n",
       "<thead>\n",
       "<tr><th>Trial name                 </th><th>status    </th><th>loc  </th><th style=\"text-align: right;\">        lr</th><th style=\"text-align: right;\">  n_layer</th><th style=\"text-align: right;\">  units</th><th style=\"text-align: right;\">     acc</th><th style=\"text-align: right;\">  iter</th><th style=\"text-align: right;\">  total time (s)</th></tr>\n",
       "</thead>\n",
       "<tbody>\n",
       "<tr><td>H1stModelTrainable_bd5a3a3c</td><td>TERMINATED</td><td>     </td><td style=\"text-align: right;\">0.0716324 </td><td style=\"text-align: right;\">        4</td><td style=\"text-align: right;\">      4</td><td style=\"text-align: right;\">0.817374</td><td style=\"text-align: right;\">     4</td><td style=\"text-align: right;\">         7.2377 </td></tr>\n",
       "<tr><td>H1stModelTrainable_bd5a814a</td><td>TERMINATED</td><td>     </td><td style=\"text-align: right;\">0.00408505</td><td style=\"text-align: right;\">        4</td><td style=\"text-align: right;\">      4</td><td style=\"text-align: right;\">0.816162</td><td style=\"text-align: right;\">     5</td><td style=\"text-align: right;\">         8.02542</td></tr>\n",
       "<tr><td>H1stModelTrainable_bd5aa774</td><td>TERMINATED</td><td>     </td><td style=\"text-align: right;\">0.0657111 </td><td style=\"text-align: right;\">        3</td><td style=\"text-align: right;\">     32</td><td style=\"text-align: right;\">0.806869</td><td style=\"text-align: right;\">     4</td><td style=\"text-align: right;\">         6.8332 </td></tr>\n",
       "<tr><td>H1stModelTrainable_bd5acd9e</td><td>TERMINATED</td><td>     </td><td style=\"text-align: right;\">0.00790194</td><td style=\"text-align: right;\">        2</td><td style=\"text-align: right;\">      8</td><td style=\"text-align: right;\">0.809697</td><td style=\"text-align: right;\">     5</td><td style=\"text-align: right;\">         6.67135</td></tr>\n",
       "<tr><td>H1stModelTrainable_bd5af29c</td><td>TERMINATED</td><td>     </td><td style=\"text-align: right;\">0.0708076 </td><td style=\"text-align: right;\">        8</td><td style=\"text-align: right;\">      4</td><td style=\"text-align: right;\">0.817475</td><td style=\"text-align: right;\">     4</td><td style=\"text-align: right;\">        10.0801 </td></tr>\n",
       "<tr><td>H1stModelTrainable_c25e73b8</td><td>TERMINATED</td><td>     </td><td style=\"text-align: right;\">0.0985458 </td><td style=\"text-align: right;\">        5</td><td style=\"text-align: right;\">      8</td><td style=\"text-align: right;\">0.816263</td><td style=\"text-align: right;\">     4</td><td style=\"text-align: right;\">         8.08116</td></tr>\n",
       "<tr><td>H1stModelTrainable_c2a292d2</td><td>TERMINATED</td><td>     </td><td style=\"text-align: right;\">0.043904  </td><td style=\"text-align: right;\">        6</td><td style=\"text-align: right;\">     64</td><td style=\"text-align: right;\">0.774747</td><td style=\"text-align: right;\">     4</td><td style=\"text-align: right;\">        10.4272 </td></tr>\n",
       "<tr><td>H1stModelTrainable_c2a9b7f6</td><td>TERMINATED</td><td>     </td><td style=\"text-align: right;\">0.068726  </td><td style=\"text-align: right;\">        7</td><td style=\"text-align: right;\">      4</td><td style=\"text-align: right;\">0.814545</td><td style=\"text-align: right;\">     5</td><td style=\"text-align: right;\">        10.508  </td></tr>\n",
       "<tr><td>H1stModelTrainable_c2ac9390</td><td>TERMINATED</td><td>     </td><td style=\"text-align: right;\">0.0506958 </td><td style=\"text-align: right;\">        5</td><td style=\"text-align: right;\">      4</td><td style=\"text-align: right;\">0.819697</td><td style=\"text-align: right;\">     5</td><td style=\"text-align: right;\">         9.15716</td></tr>\n",
       "<tr><td>H1stModelTrainable_c30a2d34</td><td>TERMINATED</td><td>     </td><td style=\"text-align: right;\">0.0156482 </td><td style=\"text-align: right;\">        7</td><td style=\"text-align: right;\">     16</td><td style=\"text-align: right;\">0.814646</td><td style=\"text-align: right;\">     4</td><td style=\"text-align: right;\">         9.49818</td></tr>\n",
       "</tbody>\n",
       "</table><br><br>"
      ],
      "text/plain": [
       "<IPython.core.display.HTML object>"
      ]
     },
     "metadata": {},
     "output_type": "display_data"
    },
    {
     "name": "stdout",
     "output_type": "stream",
     "text": [
      "took   48.81 seconds (  0 hours 0.81 minutes)\n"
     ]
    }
   ],
   "source": [
    "analysis = tuner.run(TensorflowMLPClassifier, parameters, target_metrics, options, search_algorithm=\"BOHB\")"
   ]
  },
  {
   "cell_type": "code",
   "execution_count": 8,
   "metadata": {
    "scrolled": true
   },
   "outputs": [
    {
     "data": {
      "text/html": [
       "<div>\n",
       "<style scoped>\n",
       "    .dataframe tbody tr th:only-of-type {\n",
       "        vertical-align: middle;\n",
       "    }\n",
       "\n",
       "    .dataframe tbody tr th {\n",
       "        vertical-align: top;\n",
       "    }\n",
       "\n",
       "    .dataframe thead th {\n",
       "        text-align: right;\n",
       "    }\n",
       "</style>\n",
       "<table border=\"1\" class=\"dataframe\">\n",
       "  <thead>\n",
       "    <tr style=\"text-align: right;\">\n",
       "      <th></th>\n",
       "      <th>mean_accuracy</th>\n",
       "      <th>config/lr</th>\n",
       "      <th>config/n_layer</th>\n",
       "      <th>config/units</th>\n",
       "    </tr>\n",
       "  </thead>\n",
       "  <tbody>\n",
       "    <tr>\n",
       "      <th>8</th>\n",
       "      <td>0.820404</td>\n",
       "      <td>0.050696</td>\n",
       "      <td>5</td>\n",
       "      <td>4</td>\n",
       "    </tr>\n",
       "    <tr>\n",
       "      <th>4</th>\n",
       "      <td>0.820101</td>\n",
       "      <td>0.070808</td>\n",
       "      <td>8</td>\n",
       "      <td>4</td>\n",
       "    </tr>\n",
       "    <tr>\n",
       "      <th>7</th>\n",
       "      <td>0.819192</td>\n",
       "      <td>0.068726</td>\n",
       "      <td>7</td>\n",
       "      <td>4</td>\n",
       "    </tr>\n",
       "    <tr>\n",
       "      <th>9</th>\n",
       "      <td>0.818687</td>\n",
       "      <td>0.015648</td>\n",
       "      <td>7</td>\n",
       "      <td>16</td>\n",
       "    </tr>\n",
       "    <tr>\n",
       "      <th>1</th>\n",
       "      <td>0.818485</td>\n",
       "      <td>0.004085</td>\n",
       "      <td>4</td>\n",
       "      <td>4</td>\n",
       "    </tr>\n",
       "    <tr>\n",
       "      <th>3</th>\n",
       "      <td>0.818283</td>\n",
       "      <td>0.007902</td>\n",
       "      <td>2</td>\n",
       "      <td>8</td>\n",
       "    </tr>\n",
       "    <tr>\n",
       "      <th>0</th>\n",
       "      <td>0.817879</td>\n",
       "      <td>0.071632</td>\n",
       "      <td>4</td>\n",
       "      <td>4</td>\n",
       "    </tr>\n",
       "    <tr>\n",
       "      <th>5</th>\n",
       "      <td>0.817071</td>\n",
       "      <td>0.098546</td>\n",
       "      <td>5</td>\n",
       "      <td>8</td>\n",
       "    </tr>\n",
       "    <tr>\n",
       "      <th>2</th>\n",
       "      <td>0.816263</td>\n",
       "      <td>0.065711</td>\n",
       "      <td>3</td>\n",
       "      <td>32</td>\n",
       "    </tr>\n",
       "    <tr>\n",
       "      <th>6</th>\n",
       "      <td>0.774747</td>\n",
       "      <td>0.043904</td>\n",
       "      <td>6</td>\n",
       "      <td>64</td>\n",
       "    </tr>\n",
       "  </tbody>\n",
       "</table>\n",
       "</div>"
      ],
      "text/plain": [
       "   mean_accuracy  config/lr  config/n_layer  config/units\n",
       "8       0.820404   0.050696               5             4\n",
       "4       0.820101   0.070808               8             4\n",
       "7       0.819192   0.068726               7             4\n",
       "9       0.818687   0.015648               7            16\n",
       "1       0.818485   0.004085               4             4\n",
       "3       0.818283   0.007902               2             8\n",
       "0       0.817879   0.071632               4             4\n",
       "5       0.817071   0.098546               5             8\n",
       "2       0.816263   0.065711               3            32\n",
       "6       0.774747   0.043904               6            64"
      ]
     },
     "execution_count": 8,
     "metadata": {},
     "output_type": "execute_result"
    }
   ],
   "source": [
    "analysis.dataframe()[['mean_accuracy', 'config/lr', 'config/n_layer', 'config/units']].sort_values('mean_accuracy', ascending=False)"
   ]
  },
  {
   "cell_type": "code",
   "execution_count": 9,
   "metadata": {},
   "outputs": [
    {
     "data": {
      "text/plain": [
       "0.814111111111111"
      ]
     },
     "execution_count": 9,
     "metadata": {},
     "output_type": "execute_result"
    }
   ],
   "source": [
    "analysis.dataframe()[['mean_accuracy', 'config/lr', 'config/n_layer', 'config/units']].sort_values('mean_accuracy', ascending=False).head(20).mean_accuracy.mean()"
   ]
  },
  {
   "cell_type": "code",
   "execution_count": null,
   "metadata": {},
   "outputs": [],
   "source": []
  },
  {
   "cell_type": "code",
   "execution_count": null,
   "metadata": {},
   "outputs": [],
   "source": []
  }
 ],
 "metadata": {
  "kernelspec": {
   "display_name": "Python 3",
   "language": "python",
   "name": "python3"
  },
  "language_info": {
   "codemirror_mode": {
    "name": "ipython",
    "version": 3
   },
   "file_extension": ".py",
   "mimetype": "text/x-python",
   "name": "python",
   "nbconvert_exporter": "python",
   "pygments_lexer": "ipython3",
   "version": "3.7.7"
  },
  "toc": {
   "base_numbering": 1,
   "nav_menu": {},
   "number_sections": true,
   "sideBar": true,
   "skip_h1_title": false,
   "title_cell": "Table of Contents",
   "title_sidebar": "Contents",
   "toc_cell": false,
   "toc_position": {},
   "toc_section_display": true,
   "toc_window_display": false
  }
 },
 "nbformat": 4,
 "nbformat_minor": 4
}
