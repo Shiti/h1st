{
 "cells": [
  {
   "cell_type": "markdown",
   "metadata": {},
   "source": [
    "# 2. Monolithic AD & ML Approaches and Why They are Unsatisfactory"
   ]
  },
  {
   "cell_type": "markdown",
   "metadata": {},
   "source": [
    "Given the abundance of normal driving data, the problem naturally leads to an anomaly detection (AD) formulation. Let’s try some off-the-shell well-known methods for example Isolation Forest!\n",
    "\n",
    "In theory, AD approach isn't affected by the Cold Start problem as training data is normal data only, and is hence we only need labels during evaluation of the intrusion detection system.\n",
    "\n",
    "But will it work accurately enough? Let's try!"
   ]
  },
  {
   "cell_type": "markdown",
   "metadata": {},
   "source": [
    "### 2a. A naive AD approach using IsolationForest"
   ]
  },
  {
   "cell_type": "code",
   "execution_count": 6,
   "metadata": {},
   "outputs": [],
   "source": [
    "SENSORS = [\"SteeringAngle\", \"CarSpeed\", \"YawRate\", \"Gx\", \"Gy\"]\n",
    "\n",
    "def compute_timediff_fillna(df):\n",
    "    df = df.copy()\n",
    "    for s in SENSORS:\n",
    "        sensor_not_isna = df[~df[s].isna()]\n",
    "        df[\"%s_TimeDiff\" % s] = sensor_not_isna.Timestamp - sensor_not_isna.shift(1).Timestamp\n",
    "    #print(df.head(20))\n",
    "\n",
    "    for s in SENSORS:\n",
    "        df[s] = df[s].fillna(method=\"ffill\")\n",
    "        df[\"%s_TimeDiff\" % s] = df[\"%s_TimeDiff\" % s].fillna(method=\"ffill\")\n",
    "    df.dropna(inplace=True)\n",
    "    \n",
    "    return df\n",
    "\n",
    "df = pd.read_parquet(\"%s/train/attacks/20181113_Driver1_Trip1-0.parquet\" % DATA_LOCATION)\n",
    "df = compute_timediff_fillna(df)"
   ]
  },
  {
   "cell_type": "markdown",
   "metadata": {},
   "source": [
    "Since we know that message timing is important, we should try to use those features in AD training. Can you spot see the difference between normal vs attack messages?"
   ]
  },
  {
   "cell_type": "code",
   "execution_count": 8,
   "metadata": {},
   "outputs": [
    {
     "data": {
      "text/html": [
       "<div>\n",
       "<style scoped>\n",
       "    .dataframe tbody tr th:only-of-type {\n",
       "        vertical-align: middle;\n",
       "    }\n",
       "\n",
       "    .dataframe tbody tr th {\n",
       "        vertical-align: top;\n",
       "    }\n",
       "\n",
       "    .dataframe thead th {\n",
       "        text-align: right;\n",
       "    }\n",
       "</style>\n",
       "<table border=\"1\" class=\"dataframe\">\n",
       "  <thead>\n",
       "    <tr style=\"text-align: right;\">\n",
       "      <th></th>\n",
       "      <th>Timestamp</th>\n",
       "      <th>SteeringAngle</th>\n",
       "      <th>CarSpeed</th>\n",
       "      <th>YawRate</th>\n",
       "      <th>Gx</th>\n",
       "      <th>Gy</th>\n",
       "      <th>Label</th>\n",
       "      <th>SteeringAngle_TimeDiff</th>\n",
       "      <th>CarSpeed_TimeDiff</th>\n",
       "      <th>YawRate_TimeDiff</th>\n",
       "      <th>Gx_TimeDiff</th>\n",
       "      <th>Gy_TimeDiff</th>\n",
       "    </tr>\n",
       "  </thead>\n",
       "  <tbody>\n",
       "    <tr>\n",
       "      <th>310314</th>\n",
       "      <td>4651.368009</td>\n",
       "      <td>1.599472</td>\n",
       "      <td>53.262020</td>\n",
       "      <td>0.182120</td>\n",
       "      <td>0.036140</td>\n",
       "      <td>-0.104073</td>\n",
       "      <td>Normal</td>\n",
       "      <td>0.011984</td>\n",
       "      <td>0.024000</td>\n",
       "      <td>0.011943</td>\n",
       "      <td>0.011943</td>\n",
       "      <td>0.011943</td>\n",
       "    </tr>\n",
       "    <tr>\n",
       "      <th>219474</th>\n",
       "      <td>2693.819987</td>\n",
       "      <td>4.386408</td>\n",
       "      <td>80.489037</td>\n",
       "      <td>17.014353</td>\n",
       "      <td>-0.013549</td>\n",
       "      <td>-0.894699</td>\n",
       "      <td>Normal</td>\n",
       "      <td>0.011960</td>\n",
       "      <td>0.024007</td>\n",
       "      <td>0.010611</td>\n",
       "      <td>0.012002</td>\n",
       "      <td>0.012002</td>\n",
       "    </tr>\n",
       "    <tr>\n",
       "      <th>122275</th>\n",
       "      <td>2055.612012</td>\n",
       "      <td>4.283608</td>\n",
       "      <td>46.228298</td>\n",
       "      <td>1.063028</td>\n",
       "      <td>0.140284</td>\n",
       "      <td>-0.336961</td>\n",
       "      <td>Normal</td>\n",
       "      <td>0.012026</td>\n",
       "      <td>0.023980</td>\n",
       "      <td>0.000028</td>\n",
       "      <td>0.012044</td>\n",
       "      <td>0.012044</td>\n",
       "    </tr>\n",
       "    <tr>\n",
       "      <th>211727</th>\n",
       "      <td>2660.735991</td>\n",
       "      <td>4.903600</td>\n",
       "      <td>78.351761</td>\n",
       "      <td>1.506351</td>\n",
       "      <td>0.139225</td>\n",
       "      <td>-0.308420</td>\n",
       "      <td>Normal</td>\n",
       "      <td>0.011992</td>\n",
       "      <td>0.023992</td>\n",
       "      <td>0.011897</td>\n",
       "      <td>0.011897</td>\n",
       "      <td>0.011897</td>\n",
       "    </tr>\n",
       "    <tr>\n",
       "      <th>422124</th>\n",
       "      <td>6371.280012</td>\n",
       "      <td>15.572001</td>\n",
       "      <td>128.386993</td>\n",
       "      <td>4.926676</td>\n",
       "      <td>0.101201</td>\n",
       "      <td>3.130639</td>\n",
       "      <td>Normal</td>\n",
       "      <td>0.011982</td>\n",
       "      <td>0.024007</td>\n",
       "      <td>0.009422</td>\n",
       "      <td>0.011985</td>\n",
       "      <td>0.011985</td>\n",
       "    </tr>\n",
       "  </tbody>\n",
       "</table>\n",
       "</div>"
      ],
      "text/plain": [
       "          Timestamp  SteeringAngle    CarSpeed    YawRate        Gx        Gy  \\\n",
       "310314  4651.368009       1.599472   53.262020   0.182120  0.036140 -0.104073   \n",
       "219474  2693.819987       4.386408   80.489037  17.014353 -0.013549 -0.894699   \n",
       "122275  2055.612012       4.283608   46.228298   1.063028  0.140284 -0.336961   \n",
       "211727  2660.735991       4.903600   78.351761   1.506351  0.139225 -0.308420   \n",
       "422124  6371.280012      15.572001  128.386993   4.926676  0.101201  3.130639   \n",
       "\n",
       "         Label  SteeringAngle_TimeDiff  CarSpeed_TimeDiff  YawRate_TimeDiff  \\\n",
       "310314  Normal                0.011984           0.024000          0.011943   \n",
       "219474  Normal                0.011960           0.024007          0.010611   \n",
       "122275  Normal                0.012026           0.023980          0.000028   \n",
       "211727  Normal                0.011992           0.023992          0.011897   \n",
       "422124  Normal                0.011982           0.024007          0.009422   \n",
       "\n",
       "        Gx_TimeDiff  Gy_TimeDiff  \n",
       "310314     0.011943     0.011943  \n",
       "219474     0.012002     0.012002  \n",
       "122275     0.012044     0.012044  \n",
       "211727     0.011897     0.011897  \n",
       "422124     0.011985     0.011985  "
      ]
     },
     "execution_count": 8,
     "metadata": {},
     "output_type": "execute_result"
    }
   ],
   "source": [
    "df_normal = df[df.Label == 'Normal']\n",
    "df_normal.sample(5)"
   ]
  },
  {
   "cell_type": "code",
   "execution_count": 9,
   "metadata": {},
   "outputs": [
    {
     "data": {
      "text/html": [
       "<div>\n",
       "<style scoped>\n",
       "    .dataframe tbody tr th:only-of-type {\n",
       "        vertical-align: middle;\n",
       "    }\n",
       "\n",
       "    .dataframe tbody tr th {\n",
       "        vertical-align: top;\n",
       "    }\n",
       "\n",
       "    .dataframe thead th {\n",
       "        text-align: right;\n",
       "    }\n",
       "</style>\n",
       "<table border=\"1\" class=\"dataframe\">\n",
       "  <thead>\n",
       "    <tr style=\"text-align: right;\">\n",
       "      <th></th>\n",
       "      <th>Timestamp</th>\n",
       "      <th>SteeringAngle</th>\n",
       "      <th>CarSpeed</th>\n",
       "      <th>YawRate</th>\n",
       "      <th>Gx</th>\n",
       "      <th>Gy</th>\n",
       "      <th>Label</th>\n",
       "      <th>SteeringAngle_TimeDiff</th>\n",
       "      <th>CarSpeed_TimeDiff</th>\n",
       "      <th>YawRate_TimeDiff</th>\n",
       "      <th>Gx_TimeDiff</th>\n",
       "      <th>Gy_TimeDiff</th>\n",
       "    </tr>\n",
       "  </thead>\n",
       "  <tbody>\n",
       "    <tr>\n",
       "      <th>467242</th>\n",
       "      <td>7426.091304</td>\n",
       "      <td>1.01600</td>\n",
       "      <td>130.722397</td>\n",
       "      <td>40.000000</td>\n",
       "      <td>-0.173196</td>\n",
       "      <td>-0.056015</td>\n",
       "      <td>Attack</td>\n",
       "      <td>0.012003</td>\n",
       "      <td>0.024005</td>\n",
       "      <td>0.011349</td>\n",
       "      <td>0.011985</td>\n",
       "      <td>0.011985</td>\n",
       "    </tr>\n",
       "    <tr>\n",
       "      <th>64307</th>\n",
       "      <td>769.020065</td>\n",
       "      <td>2.41600</td>\n",
       "      <td>73.692062</td>\n",
       "      <td>0.446286</td>\n",
       "      <td>0.295156</td>\n",
       "      <td>0.314811</td>\n",
       "      <td>Attack</td>\n",
       "      <td>0.011996</td>\n",
       "      <td>0.024002</td>\n",
       "      <td>0.000009</td>\n",
       "      <td>0.000009</td>\n",
       "      <td>0.000009</td>\n",
       "    </tr>\n",
       "    <tr>\n",
       "      <th>208178</th>\n",
       "      <td>2647.740008</td>\n",
       "      <td>0.26960</td>\n",
       "      <td>79.171234</td>\n",
       "      <td>0.024701</td>\n",
       "      <td>-0.010674</td>\n",
       "      <td>0.148819</td>\n",
       "      <td>Attack</td>\n",
       "      <td>0.011999</td>\n",
       "      <td>0.023980</td>\n",
       "      <td>0.000007</td>\n",
       "      <td>0.000007</td>\n",
       "      <td>0.000007</td>\n",
       "    </tr>\n",
       "    <tr>\n",
       "      <th>282899</th>\n",
       "      <td>3998.520016</td>\n",
       "      <td>2.48938</td>\n",
       "      <td>57.042484</td>\n",
       "      <td>0.339417</td>\n",
       "      <td>0.352549</td>\n",
       "      <td>-0.127944</td>\n",
       "      <td>Attack</td>\n",
       "      <td>0.012006</td>\n",
       "      <td>0.024000</td>\n",
       "      <td>0.000003</td>\n",
       "      <td>0.000003</td>\n",
       "      <td>0.000003</td>\n",
       "    </tr>\n",
       "    <tr>\n",
       "      <th>255545</th>\n",
       "      <td>3470.351199</td>\n",
       "      <td>2.53278</td>\n",
       "      <td>0.000000</td>\n",
       "      <td>0.523398</td>\n",
       "      <td>0.003199</td>\n",
       "      <td>0.010731</td>\n",
       "      <td>Attack</td>\n",
       "      <td>0.011987</td>\n",
       "      <td>0.023975</td>\n",
       "      <td>0.011168</td>\n",
       "      <td>0.012055</td>\n",
       "      <td>0.012055</td>\n",
       "    </tr>\n",
       "  </tbody>\n",
       "</table>\n",
       "</div>"
      ],
      "text/plain": [
       "          Timestamp  SteeringAngle    CarSpeed    YawRate        Gx        Gy  \\\n",
       "467242  7426.091304        1.01600  130.722397  40.000000 -0.173196 -0.056015   \n",
       "64307    769.020065        2.41600   73.692062   0.446286  0.295156  0.314811   \n",
       "208178  2647.740008        0.26960   79.171234   0.024701 -0.010674  0.148819   \n",
       "282899  3998.520016        2.48938   57.042484   0.339417  0.352549 -0.127944   \n",
       "255545  3470.351199        2.53278    0.000000   0.523398  0.003199  0.010731   \n",
       "\n",
       "         Label  SteeringAngle_TimeDiff  CarSpeed_TimeDiff  YawRate_TimeDiff  \\\n",
       "467242  Attack                0.012003           0.024005          0.011349   \n",
       "64307   Attack                0.011996           0.024002          0.000009   \n",
       "208178  Attack                0.011999           0.023980          0.000007   \n",
       "282899  Attack                0.012006           0.024000          0.000003   \n",
       "255545  Attack                0.011987           0.023975          0.011168   \n",
       "\n",
       "        Gx_TimeDiff  Gy_TimeDiff  \n",
       "467242     0.011985     0.011985  \n",
       "64307      0.000009     0.000009  \n",
       "208178     0.000007     0.000007  \n",
       "282899     0.000003     0.000003  \n",
       "255545     0.012055     0.012055  "
      ]
     },
     "execution_count": 9,
     "metadata": {},
     "output_type": "execute_result"
    }
   ],
   "source": [
    "df_attack = df[df.Label == 'Attack']\n",
    "df_attack.sample(5)"
   ]
  },
  {
   "cell_type": "code",
   "execution_count": 10,
   "metadata": {},
   "outputs": [],
   "source": [
    "from sklearn.ensemble import IsolationForest\n",
    "import sklearn.metrics\n",
    "\n",
    "FEATURES = SENSORS + [\"%s_TimeDiff\" % s for s in SENSORS]\n",
    "\n",
    "iforest = IsolationForest(n_estimators=500).fit(df_normal[FEATURES])"
   ]
  },
  {
   "cell_type": "code",
   "execution_count": 11,
   "metadata": {},
   "outputs": [
    {
     "name": "stdout",
     "output_type": "stream",
     "text": [
      "[[37486  6257]\n",
      " [ 4102  3858]]\n",
      "Accuracy = 0.7996441212308764 \n"
     ]
    }
   ],
   "source": [
    "df2 = pd.read_parquet(\"%s/train/attacks/20181203_Driver1_Trip10-20.parquet\" % DATA_LOCATION)\n",
    "df2 = compute_timediff_fillna(df2)\n",
    "\n",
    "ypred = iforest.predict(df2[FEATURES])\n",
    "ypred = pd.Series(np.maximum(-ypred, 0))\n",
    "\n",
    "cf = sklearn.metrics.confusion_matrix(df2.Label == \"Attack\", ypred)\n",
    "print(cf) \n",
    "\n",
    "print(\"Accuracy = %s \" % sklearn.metrics.accuracy_score(df2.Label ==\"Attack\", ypred))"
   ]
  },
  {
   "cell_type": "markdown",
   "metadata": {},
   "source": [
    "This is certainly not bad for a start. But the TPR and FPR is no where near what’s needed for deployment!\n",
    "\n",
    "While there are a lot of exciting approaches for AD and sequential time-series data, including using RNN/LSTM/CNN, autoencoders, self-supervised learning, etc. The fundamental problem with AD is that it is hard to achieve high TPR while simultaneously achieving very low FPR.\n",
    "\n",
    "Since AD after all, is a harder problem than supervised learning and while they are important parts of the tool box, we still need final human clearance to key system decisions."
   ]
  },
  {
   "cell_type": "markdown",
   "metadata": {},
   "source": [
    "### 2b. Machine teaching: leveraging ML to \"program\" a classifier by specifying human-generated outputs"
   ]
  },
  {
   "cell_type": "markdown",
   "metadata": {},
   "source": [
    "If we zoom in, it is perhaps easier to see the zig-zag patterns of alternating real vs injected messages. It's clear that perhaps we can leverage a ML to classify these kinds of smooth vs zig-zag patterns.\n",
    "\n",
    "After all, ML should excel at pattern recognition.\n",
    "\n",
    "The significance of this approach is that it is much easier for human experts to synthesize the attack data than to write the detection program. And such is the promise of Software 2.0, but will it work?"
   ]
  },
  {
   "cell_type": "code",
   "execution_count": 5,
   "metadata": {},
   "outputs": [
    {
     "data": {
      "image/png": "[encoded data removed]",
      "text/plain": [
       "<Figure size 432x288 with 1 Axes>"
      ]
     },
     "metadata": {
      "needs_background": "light"
     },
     "output_type": "display_data"
    }
   ],
   "source": [
    "import matplotlib.pyplot as plt\n",
    "df[(df.Timestamp >= 200) & (df.Timestamp <= 330)].YawRate.dropna().plot()\n",
    "plt.title(\"An period with both normal and attacks of YawRate, can you tell which is which?\")\n",
    "plt.show()"
   ]
  },
  {
   "cell_type": "code",
   "execution_count": 6,
   "metadata": {},
   "outputs": [
    {
     "data": {
      "image/png": "[encoded data removed]",
      "text/plain": [
       "<Figure size 432x288 with 1 Axes>"
      ]
     },
     "metadata": {
      "needs_background": "light"
     },
     "output_type": "display_data"
    }
   ],
   "source": [
    "df[(df.Timestamp > 315) & (df.Timestamp < 316)].YawRate.dropna().plot()\n",
    "plt.title(\"An attack window on YawRate, zooming in to show zig-zagging between real vs injected values \")\n",
    "plt.show()"
   ]
  },
  {
   "cell_type": "markdown",
   "metadata": {},
   "source": [
    "Let’s try a gradient-boosted trees firstly, e.g. sklearn’s HistGradientBoostingClassifier can work well on larger dataset before bringing out bigger guns."
   ]
  },
  {
   "cell_type": "code",
   "execution_count": 14,
   "metadata": {},
   "outputs": [],
   "source": [
    "from sklearn.experimental import enable_hist_gradient_boosting\n",
    "from sklearn.ensemble import HistGradientBoostingClassifier\n",
    "\n",
    "gbc = HistGradientBoostingClassifier(max_iter=500).fit(df[FEATURES], df.Label == \"Attack\")"
   ]
  },
  {
   "cell_type": "code",
   "execution_count": 16,
   "metadata": {},
   "outputs": [
    {
     "name": "stdout",
     "output_type": "stream",
     "text": [
      "0.8564686768659459\n",
      "[[42191  1552]\n",
      " [ 5869  2091]]\n",
      "Accuracy = 0.8564686768659459 \n"
     ]
    }
   ],
   "source": [
    "ypred = gbc.predict(df2[FEATURES])\n",
    "\n",
    "cf = sklearn.metrics.confusion_matrix(df2.Label == \"Attack\", ypred)\n",
    "print(sklearn.metrics.accuracy_score(df2.Label == \"Attack\", ypred))\n",
    "print(cf)\n",
    "\n",
    "print(\"Accuracy = %s \" % sklearn.metrics.accuracy_score(df2.Label == \"Attack\", ypred))"
   ]
  },
  {
   "cell_type": "markdown",
   "metadata": {},
   "source": [
    "### 2c. Deep Learning and using a H1ST Model API, organizing, importing, saving & loading"
   ]
  },
  {
   "cell_type": "markdown",
   "metadata": {},
   "source": [
    "We can bring out larger guns like Bidirectional LSTM or CNN or Transformers which can work well on pattern recognition problems on sequential data such as this one. One such model is available in the full tutorial source code package, and it can reach quite impressive accuracy.\n",
    "\n",
    "Let's see how we could use it!"
   ]
  },
  {
   "cell_type": "code",
   "execution_count": 9,
   "metadata": {},
   "outputs": [],
   "source": [
    "import h1st as h1\n",
    "h1.init()\n",
    "\n",
    "from AutomotiveCybersecurity.models.blstm_injection_msg_classifier import BlstmInjectionMsgClassifier\n",
    "\n",
    "m = BlstmInjectionMsgClassifier()"
   ]
  },
  {
   "cell_type": "markdown",
   "metadata": {},
   "source": [
    "A data-science project in H1ST.AI is designed to be a Python-importable package. You can create such a project using the `h1` command-line tool.\n",
    "\n",
    "Organizing model code this way makes it easy to use as we will see. The Model API provides a unified workflow so that models can be used interactively in notebooks as well as in structured and complex projects as we shall see later.\n",
    "\n",
    "Here, we call `h1.init()` to make sure we can import the package in our notebooks even when the package is not installed (as long as the notebooks are within the project folder structure).\n",
    "\n",
    "It is a simple matter to import and train such organized `h1st.Model`, say on a small fraction of the data."
   ]
  },
  {
   "cell_type": "code",
   "execution_count": 4,
   "metadata": {},
   "outputs": [
    {
     "name": "stdout",
     "output_type": "stream",
     "text": [
      "Epoch 1/10\n",
      "     75/Unknown - 18s 246ms/step - loss: 0.4046 - accuracy: 0.8629\n",
      "Epoch 00001: val_loss improved from inf to 0.38385, saving model to checkpoints/blstm_classif1.h5\n",
      "75/75 [==============================] - 21s 274ms/step - loss: 0.4046 - accuracy: 0.8629 - val_loss: 0.3838 - val_accuracy: 0.8558\n",
      "Epoch 2/10\n",
      "75/75 [==============================] - ETA: 0s - loss: 0.3661 - accuracy: 0.8729\n",
      "Epoch 00002: val_loss improved from 0.38385 to 0.37567, saving model to checkpoints/blstm_classif2.h5\n",
      "75/75 [==============================] - 35s 467ms/step - loss: 0.3661 - accuracy: 0.8729 - val_loss: 0.3757 - val_accuracy: 0.8558\n",
      "Epoch 3/10\n",
      "75/75 [==============================] - ETA: 0s - loss: 0.2966 - accuracy: 0.8994\n",
      "Epoch 00003: val_loss improved from 0.37567 to 0.21447, saving model to checkpoints/blstm_classif3.h5\n",
      "75/75 [==============================] - 29s 393ms/step - loss: 0.2966 - accuracy: 0.8994 - val_loss: 0.2145 - val_accuracy: 0.9057\n",
      "Epoch 4/10\n",
      "75/75 [==============================] - ETA: 0s - loss: 0.2246 - accuracy: 0.9222\n",
      "Epoch 00004: val_loss improved from 0.21447 to 0.10207, saving model to checkpoints/blstm_classif4.h5\n",
      "75/75 [==============================] - 29s 392ms/step - loss: 0.2246 - accuracy: 0.9222 - val_loss: 0.1021 - val_accuracy: 0.9543\n",
      "Epoch 5/10\n",
      "75/75 [==============================] - ETA: 0s - loss: 0.1273 - accuracy: 0.9547\n",
      "Epoch 00005: val_loss improved from 0.10207 to 0.06612, saving model to checkpoints/blstm_classif5.h5\n",
      "75/75 [==============================] - 28s 372ms/step - loss: 0.1273 - accuracy: 0.9547 - val_loss: 0.0661 - val_accuracy: 0.9797\n",
      "Epoch 6/10\n",
      "75/75 [==============================] - ETA: 0s - loss: 0.0696 - accuracy: 0.9755\n",
      "Epoch 00006: val_loss improved from 0.06612 to 0.04757, saving model to checkpoints/blstm_classif6.h5\n",
      "75/75 [==============================] - 31s 411ms/step - loss: 0.0696 - accuracy: 0.9755 - val_loss: 0.0476 - val_accuracy: 0.9808\n",
      "Epoch 7/10\n",
      "75/75 [==============================] - ETA: 0s - loss: 0.0703 - accuracy: 0.9751\n",
      "Epoch 00007: val_loss improved from 0.04757 to 0.03617, saving model to checkpoints/blstm_classif7.h5\n",
      "75/75 [==============================] - 40s 531ms/step - loss: 0.0703 - accuracy: 0.9751 - val_loss: 0.0362 - val_accuracy: 0.9835\n",
      "Epoch 8/10\n",
      "75/75 [==============================] - ETA: 0s - loss: 0.0419 - accuracy: 0.9848\n",
      "Epoch 00008: val_loss improved from 0.03617 to 0.02703, saving model to checkpoints/blstm_classif8.h5\n",
      "75/75 [==============================] - 31s 416ms/step - loss: 0.0419 - accuracy: 0.9848 - val_loss: 0.0270 - val_accuracy: 0.9902\n",
      "Epoch 9/10\n",
      "75/75 [==============================] - ETA: 0s - loss: 0.0344 - accuracy: 0.9878\n",
      "Epoch 00009: val_loss improved from 0.02703 to 0.02337, saving model to checkpoints/blstm_classif9.h5\n",
      "75/75 [==============================] - 29s 383ms/step - loss: 0.0344 - accuracy: 0.9878 - val_loss: 0.0234 - val_accuracy: 0.9918\n",
      "Epoch 10/10\n",
      "75/75 [==============================] - ETA: 0s - loss: 0.0305 - accuracy: 0.9894\n",
      "Epoch 00010: val_loss improved from 0.02337 to 0.02131, saving model to checkpoints/blstm_classif10.h5\n",
      "75/75 [==============================] - 32s 431ms/step - loss: 0.0305 - accuracy: 0.9894 - val_loss: 0.0213 - val_accuracy: 0.9923\n"
     ]
    },
    {
     "data": {
      "text/plain": [
       "<AutomotiveCybersecurity.models.blstm_injection_msg_classifier.BlstmInjectionMsgClassifier at 0x7fe5bdf29d30>"
      ]
     },
     "execution_count": 4,
     "metadata": {},
     "output_type": "execute_result"
    }
   ],
   "source": [
    "data = m.load_data(num_files=100)\n",
    "\n",
    "prepared_data = m.prep(data)\n",
    "\n",
    "m.train(prepared_data, epochs=10)"
   ]
  },
  {
   "cell_type": "markdown",
   "metadata": {},
   "source": [
    "As expected, powerful deep learning models can recognize these attack patterns well. (And we haven’t even trained the model on all the data and until fully converged.)\n",
    "\n",
    "However, we must reckon that these models, after all, are recognizing attack patterns that humans are generating and injecting artificially. While this is convenient to generate output and train the detector program a la “Software 2.0”, for our situation, because the attacks are purely synthetic, we cannot be too sure that they are learning the right things and work robustly and can be trusted to deploy in the field. It’s best to employ them in the right deployment scope, namely useful pattern recognizers."
   ]
  }
 ],
 "metadata": {
  "kernelspec": {
   "display_name": "Python 3",
   "language": "python",
   "name": "python3"
  },
  "language_info": {
   "codemirror_mode": {
    "name": "ipython",
    "version": 3
   },
   "file_extension": ".py",
   "mimetype": "text/x-python",
   "name": "python",
   "nbconvert_exporter": "python",
   "pygments_lexer": "ipython3",
   "version": "3.8.2"
  }
 },
 "nbformat": 4,
 "nbformat_minor": 4
}
