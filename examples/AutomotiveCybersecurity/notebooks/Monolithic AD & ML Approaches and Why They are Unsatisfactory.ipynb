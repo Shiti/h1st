{
 "cells": [
  {
   "cell_type": "markdown",
   "metadata": {},
   "source": [
    "# 2. Monolithic AD & ML Approaches and Why They are Unsatisfactory"
   ]
  },
  {
   "cell_type": "markdown",
   "metadata": {},
   "source": [
    "Given the abundance of normal driving data, the problem naturally leads to an anomaly detection (AD) formulation. Let’s try some off-the-shell well-known methods for example Isolation Forest!\n",
    "\n",
    "In theory, AD approach isn't affected by the Cold Start problem as training data is normal data only, and is hence we only need labels during evaluation of the intrusion detection system.\n",
    "\n",
    "But will it work accurately enough? Let's try!"
   ]
  },
  {
   "cell_type": "markdown",
   "metadata": {},
   "source": [
    "### 2a. A naive AD approach using IsolationForest"
   ]
  },
  {
   "cell_type": "code",
   "execution_count": 518,
   "metadata": {},
   "outputs": [
    {
     "data": {
      "text/html": [
       "<div>\n",
       "<style scoped>\n",
       "    .dataframe tbody tr th:only-of-type {\n",
       "        vertical-align: middle;\n",
       "    }\n",
       "\n",
       "    .dataframe tbody tr th {\n",
       "        vertical-align: top;\n",
       "    }\n",
       "\n",
       "    .dataframe thead th {\n",
       "        text-align: right;\n",
       "    }\n",
       "</style>\n",
       "<table border=\"1\" class=\"dataframe\">\n",
       "  <thead>\n",
       "    <tr style=\"text-align: right;\">\n",
       "      <th></th>\n",
       "      <th>Timestamp</th>\n",
       "      <th>SteeringAngle</th>\n",
       "      <th>CarSpeed</th>\n",
       "      <th>YawRate</th>\n",
       "      <th>Gx</th>\n",
       "      <th>Gy</th>\n",
       "      <th>Label</th>\n",
       "      <th>AttackSensor</th>\n",
       "      <th>AttackMethod</th>\n",
       "      <th>AttackParams</th>\n",
       "      <th>AttackEventIndex</th>\n",
       "    </tr>\n",
       "  </thead>\n",
       "  <tbody>\n",
       "    <tr>\n",
       "      <th>67533</th>\n",
       "      <td>314.563268</td>\n",
       "      <td>2.423742</td>\n",
       "      <td>NaN</td>\n",
       "      <td>NaN</td>\n",
       "      <td>NaN</td>\n",
       "      <td>NaN</td>\n",
       "      <td>Normal</td>\n",
       "      <td>NA</td>\n",
       "      <td>NA</td>\n",
       "      <td>0.000000</td>\n",
       "      <td>1</td>\n",
       "    </tr>\n",
       "    <tr>\n",
       "      <th>67534</th>\n",
       "      <td>314.563634</td>\n",
       "      <td>NaN</td>\n",
       "      <td>NaN</td>\n",
       "      <td>0.209293</td>\n",
       "      <td>-0.353006</td>\n",
       "      <td>-0.026075</td>\n",
       "      <td>Normal</td>\n",
       "      <td>NA</td>\n",
       "      <td>NA</td>\n",
       "      <td>0.000000</td>\n",
       "      <td>1</td>\n",
       "    </tr>\n",
       "    <tr>\n",
       "      <th>67535</th>\n",
       "      <td>314.566763</td>\n",
       "      <td>NaN</td>\n",
       "      <td>NaN</td>\n",
       "      <td>33.217717</td>\n",
       "      <td>NaN</td>\n",
       "      <td>NaN</td>\n",
       "      <td>Attack</td>\n",
       "      <td>YawRate</td>\n",
       "      <td>const</td>\n",
       "      <td>32.684679</td>\n",
       "      <td>1</td>\n",
       "    </tr>\n",
       "    <tr>\n",
       "      <th>67536</th>\n",
       "      <td>314.573020</td>\n",
       "      <td>NaN</td>\n",
       "      <td>20.6472</td>\n",
       "      <td>NaN</td>\n",
       "      <td>NaN</td>\n",
       "      <td>NaN</td>\n",
       "      <td>Normal</td>\n",
       "      <td>NA</td>\n",
       "      <td>NA</td>\n",
       "      <td>0.000000</td>\n",
       "      <td>1</td>\n",
       "    </tr>\n",
       "    <tr>\n",
       "      <th>67537</th>\n",
       "      <td>314.575819</td>\n",
       "      <td>2.402111</td>\n",
       "      <td>NaN</td>\n",
       "      <td>NaN</td>\n",
       "      <td>NaN</td>\n",
       "      <td>NaN</td>\n",
       "      <td>Normal</td>\n",
       "      <td>NA</td>\n",
       "      <td>NA</td>\n",
       "      <td>0.000000</td>\n",
       "      <td>1</td>\n",
       "    </tr>\n",
       "    <tr>\n",
       "      <th>...</th>\n",
       "      <td>...</td>\n",
       "      <td>...</td>\n",
       "      <td>...</td>\n",
       "      <td>...</td>\n",
       "      <td>...</td>\n",
       "      <td>...</td>\n",
       "      <td>...</td>\n",
       "      <td>...</td>\n",
       "      <td>...</td>\n",
       "      <td>...</td>\n",
       "      <td>...</td>\n",
       "    </tr>\n",
       "    <tr>\n",
       "      <th>72248</th>\n",
       "      <td>331.000073</td>\n",
       "      <td>NaN</td>\n",
       "      <td>NaN</td>\n",
       "      <td>34.190951</td>\n",
       "      <td>NaN</td>\n",
       "      <td>NaN</td>\n",
       "      <td>Attack</td>\n",
       "      <td>YawRate</td>\n",
       "      <td>const</td>\n",
       "      <td>32.684679</td>\n",
       "      <td>1</td>\n",
       "    </tr>\n",
       "    <tr>\n",
       "      <th>72249</th>\n",
       "      <td>331.012296</td>\n",
       "      <td>NaN</td>\n",
       "      <td>NaN</td>\n",
       "      <td>33.219857</td>\n",
       "      <td>NaN</td>\n",
       "      <td>NaN</td>\n",
       "      <td>Attack</td>\n",
       "      <td>YawRate</td>\n",
       "      <td>const</td>\n",
       "      <td>32.684679</td>\n",
       "      <td>1</td>\n",
       "    </tr>\n",
       "    <tr>\n",
       "      <th>72250</th>\n",
       "      <td>331.024601</td>\n",
       "      <td>NaN</td>\n",
       "      <td>NaN</td>\n",
       "      <td>33.077790</td>\n",
       "      <td>NaN</td>\n",
       "      <td>NaN</td>\n",
       "      <td>Attack</td>\n",
       "      <td>YawRate</td>\n",
       "      <td>const</td>\n",
       "      <td>32.684679</td>\n",
       "      <td>1</td>\n",
       "    </tr>\n",
       "    <tr>\n",
       "      <th>72251</th>\n",
       "      <td>331.036546</td>\n",
       "      <td>NaN</td>\n",
       "      <td>NaN</td>\n",
       "      <td>33.166474</td>\n",
       "      <td>NaN</td>\n",
       "      <td>NaN</td>\n",
       "      <td>Attack</td>\n",
       "      <td>YawRate</td>\n",
       "      <td>const</td>\n",
       "      <td>32.684679</td>\n",
       "      <td>1</td>\n",
       "    </tr>\n",
       "    <tr>\n",
       "      <th>72252</th>\n",
       "      <td>331.048931</td>\n",
       "      <td>NaN</td>\n",
       "      <td>NaN</td>\n",
       "      <td>33.741705</td>\n",
       "      <td>NaN</td>\n",
       "      <td>NaN</td>\n",
       "      <td>Attack</td>\n",
       "      <td>YawRate</td>\n",
       "      <td>const</td>\n",
       "      <td>32.684679</td>\n",
       "      <td>1</td>\n",
       "    </tr>\n",
       "  </tbody>\n",
       "</table>\n",
       "<p>4720 rows × 11 columns</p>\n",
       "</div>"
      ],
      "text/plain": [
       "        Timestamp  SteeringAngle  CarSpeed    YawRate        Gx        Gy  \\\n",
       "67533  314.563268       2.423742       NaN        NaN       NaN       NaN   \n",
       "67534  314.563634            NaN       NaN   0.209293 -0.353006 -0.026075   \n",
       "67535  314.566763            NaN       NaN  33.217717       NaN       NaN   \n",
       "67536  314.573020            NaN   20.6472        NaN       NaN       NaN   \n",
       "67537  314.575819       2.402111       NaN        NaN       NaN       NaN   \n",
       "...           ...            ...       ...        ...       ...       ...   \n",
       "72248  331.000073            NaN       NaN  34.190951       NaN       NaN   \n",
       "72249  331.012296            NaN       NaN  33.219857       NaN       NaN   \n",
       "72250  331.024601            NaN       NaN  33.077790       NaN       NaN   \n",
       "72251  331.036546            NaN       NaN  33.166474       NaN       NaN   \n",
       "72252  331.048931            NaN       NaN  33.741705       NaN       NaN   \n",
       "\n",
       "        Label AttackSensor AttackMethod  AttackParams  AttackEventIndex  \n",
       "67533  Normal           NA           NA      0.000000                 1  \n",
       "67534  Normal           NA           NA      0.000000                 1  \n",
       "67535  Attack      YawRate        const     32.684679                 1  \n",
       "67536  Normal           NA           NA      0.000000                 1  \n",
       "67537  Normal           NA           NA      0.000000                 1  \n",
       "...       ...          ...          ...           ...               ...  \n",
       "72248  Attack      YawRate        const     32.684679                 1  \n",
       "72249  Attack      YawRate        const     32.684679                 1  \n",
       "72250  Attack      YawRate        const     32.684679                 1  \n",
       "72251  Attack      YawRate        const     32.684679                 1  \n",
       "72252  Attack      YawRate        const     32.684679                 1  \n",
       "\n",
       "[4720 rows x 11 columns]"
      ]
     },
     "execution_count": 518,
     "metadata": {},
     "output_type": "execute_result"
    }
   ],
   "source": [
    "df_train = pd.read_parquet(\"s3://h1st-tutorial-autocyber/attack-samples/20181203_Driver1_Trip10-0.parquet\")\n",
    "\n",
    "df_train[df_train.AttackEventIndex==1]"
   ]
  },
  {
   "cell_type": "markdown",
   "metadata": {},
   "source": [
    "Here we include timing-based features, such as time diff since last message of the same type. \n",
    "\n",
    "Also, we need to handle the NaN values due to the unique feature of CAN bus data, i.e. YawRate/Gx/Gy is a different CAN message than SteeringAngle or CarSpeed."
   ]
  },
  {
   "cell_type": "code",
   "execution_count": 515,
   "metadata": {},
   "outputs": [],
   "source": [
    "def compute_timediff_fillna(df):\n",
    "    df = df.copy()\n",
    "    for s in SENSORS:\n",
    "        sensor_not_isna = df[~df[s].isna()]\n",
    "        df[\"%s_TimeDiff\" % s] = sensor_not_isna.Timestamp - sensor_not_isna.shift(1).Timestamp\n",
    "    #print(df.head(20))\n",
    "\n",
    "    for s in SENSORS:\n",
    "        df[s] = df[s].fillna(method=\"ffill\")\n",
    "        df[\"%s_TimeDiff\" % s] = df[\"%s_TimeDiff\" % s].fillna(method=\"ffill\")\n",
    "    df.dropna(subset=FEATURES, inplace=True)\n",
    "    \n",
    "    return df\n",
    "\n",
    "df_train_filled = compute_timediff_fillna(df_train)"
   ]
  },
  {
   "cell_type": "code",
   "execution_count": 516,
   "metadata": {},
   "outputs": [],
   "source": [
    "from sklearn.ensemble import IsolationForest\n",
    "import sklearn.metrics\n",
    "\n",
    "FEATURES = SENSORS + [\"%s_TimeDiff\" % s for s in SENSORS]\n",
    "\n",
    "iforest = IsolationForest(n_estimators=500).fit(df_train_filled[FEATURES])"
   ]
  },
  {
   "cell_type": "code",
   "execution_count": 520,
   "metadata": {},
   "outputs": [
    {
     "name": "stdout",
     "output_type": "stream",
     "text": [
      "[[251891  38204]\n",
      " [  3497   8272]]\n",
      "Accuracy = 0.8618550075530702 \n"
     ]
    }
   ],
   "source": [
    "import numpy as np\n",
    "\n",
    "df_test = pd.read_parquet(\"s3://h1st-tutorial-autocyber/attack-samples/20181203_Driver1_Trip10-1.parquet\")\n",
    "df_test_filled = compute_timediff_fillna(df_test)\n",
    "\n",
    "ypred = iforest.predict(dfb[FEATURES])\n",
    "\n",
    "ypred = pd.Series(np.maximum(-ypred, 0)) # iforest predict -1 vs 1, we need 0 vs 1\n",
    "cf = sklearn.metrics.confusion_matrix(dfb.Label == \"Attack\", ypred)\n",
    "print(cf)\n",
    "\n",
    "print(\"Accuracy = %s \" % sklearn.metrics.accuracy_score(dfb.Label ==\"Attack\", ypred))"
   ]
  },
  {
   "cell_type": "markdown",
   "metadata": {},
   "source": [
    "This is certainly a start. But the accuracy is no where near what’s needed for deployment!\n",
    "\n",
    "While there are a lot of exciting approaches for AD and sequential time-series data, including using RNN/LSTM/CNN, autoencoders, self-supervised learning, etc. The fundamental problem with AD is that it is hard to achieve high TPR while simultaneously achieving very low FPR.\n",
    "\n",
    "Since AD after all, is a harder problem than supervised learning and while they are important parts of the tool box, we still need final human clearance to key system decisions."
   ]
  },
  {
   "cell_type": "markdown",
   "metadata": {},
   "source": [
    "### 2b. Machine teaching: leveraging ML to \"program\" a classifier by specifying human-generated outputs"
   ]
  },
  {
   "cell_type": "markdown",
   "metadata": {},
   "source": [
    "If we zoom in, it is perhaps easier to see the zig-zag patterns of alternating real vs injected messages. It's clear that perhaps we can leverage a ML to classify these kinds of smooth vs zig-zag patterns.\n",
    "\n",
    "After all, ML should excel at pattern recognition.\n",
    "\n",
    "The significance of this approach is that it is much easier for human experts to synthesize the attack data than to write the detection program. And such is the promise of Software 2.0, but will it work?\n",
    "\n",
    "Let's inspect closely one such attack event."
   ]
  },
  {
   "cell_type": "code",
   "execution_count": 497,
   "metadata": {},
   "outputs": [
    {
     "data": {
      "image/png": "[encoded data removed]",
      "text/plain": [
       "<Figure size 432x288 with 1 Axes>"
      ]
     },
     "metadata": {
      "needs_background": "light"
     },
     "output_type": "display_data"
    }
   ],
   "source": [
    "z = df_attacks[0][df_attacks[0].AttackEventIndex==2]\n",
    "z = z[~z.YawRate.isna()].set_index(\"Timestamp\")\n",
    "\n",
    "import matplotlib.pyplot as plt\n",
    "z.iloc[:100].YawRate.plot(label=\"YawRate\")\n",
    "plt.title('An period with both normal and attacks of YawRate, can you tell which value is the \"Attack\"?')\n",
    "plt.legend()\n",
    "plt.show()"
   ]
  },
  {
   "cell_type": "code",
   "execution_count": 498,
   "metadata": {},
   "outputs": [
    {
     "data": {
      "image/png": "[encoded data removed]",
      "text/plain": [
       "<Figure size 432x288 with 1 Axes>"
      ]
     },
     "metadata": {
      "needs_background": "light"
     },
     "output_type": "display_data"
    }
   ],
   "source": [
    "import matplotlib.pyplot as plt\n",
    "plt.figure()\n",
    "z = z.iloc[:100].reset_index() # pop Timestamp attribute\n",
    "znorm = z[z.Label == \"Normal\"]\n",
    "plt.plot(znorm.Timestamp, znorm.YawRate, label=\"Normal\")\n",
    "zattk = z[z.Label == \"Attack\"]\n",
    "plt.plot(zattk.Timestamp, zattk.YawRate, label=\"Attack\")\n",
    "plt.legend()\n",
    "plt.title(\"With the Label it's much eaiser, but can ML distinguish which is which?\")\n",
    "plt.show()"
   ]
  },
  {
   "cell_type": "markdown",
   "metadata": {},
   "source": [
    "Let’s try a gradient-boosted trees firstly, e.g. sklearn’s HistGradientBoostingClassifier can work well on larger dataset before bringing out bigger guns."
   ]
  },
  {
   "cell_type": "code",
   "execution_count": 484,
   "metadata": {},
   "outputs": [],
   "source": [
    "from sklearn.experimental import enable_hist_gradient_boosting\n",
    "from sklearn.ensemble import HistGradientBoostingClassifier\n",
    "\n",
    "gbc = HistGradientBoostingClassifier(max_iter=500).fit(dfa[FEATURES], dfa.Label == \"Attack\")"
   ]
  },
  {
   "cell_type": "code",
   "execution_count": 499,
   "metadata": {},
   "outputs": [
    {
     "name": "stdout",
     "output_type": "stream",
     "text": [
      "[[256486   1208]\n",
      " [  4873   6791]]\n",
      "Accuracy = 0.9774240972980197 \n"
     ]
    }
   ],
   "source": [
    "import numpy as np\n",
    "\n",
    "dfb = pd.read_parquet(\"/Users/aht/Documents/Zenodo CAN data/attack-samples/20181114_Driver2_Trip1-0.parquet\")\n",
    "dfb = compute_timediff_fillna(dfb)\n",
    "\n",
    "ypred = gbc.predict(dfb[FEATURES])\n",
    "\n",
    "cf = sklearn.metrics.confusion_matrix(dfb.Label == \"Attack\", ypred)\n",
    "print(cf)\n",
    "\n",
    "print(\"Accuracy = %s \" % sklearn.metrics.accuracy_score(dfb.Label == \"Attack\", ypred))"
   ]
  },
  {
   "cell_type": "markdown",
   "metadata": {},
   "source": [
    "Impressive as it seems, we must note that the false-positive rate is still a bit high at FPR = 1208/(1208+6791) = 15%.  Since CAN messages are very frequent (100-200 msgs/sec in each car), this is still no where near deployment-ready!\n",
    "\n",
    "We can certainly improve results by tuning the model, tuning the fill-NA method, or bring out larger guns like Bidirectional LSTM or CNN or Transformers which can work well on pattern recognition problems on sequential data such as this problem. Powerful deep learning models can recognize these attack patterns well, and can be trained much faster on the full dataset which is quite large in our case.\n",
    "\n",
    "However, we must reckon that these models, after all, are recognizing attack patterns that humans are generating and injecting artificially. While this is convenient to generate output and train the detector program a la “Software 2.0”, for our situation, because the attacks are purely synthetic, we cannot be too sure that they are learning the right things and work robustly and can be trusted to deploy in the field. It’s best to employ them in the right deployment scope, namely useful pattern recognizers."
   ]
  },
  {
   "cell_type": "code",
   "execution_count": null,
   "metadata": {},
   "outputs": [],
   "source": []
  }
 ],
 "metadata": {
  "kernelspec": {
   "display_name": "Python 3",
   "language": "python",
   "name": "python3"
  },
  "language_info": {
   "codemirror_mode": {
    "name": "ipython",
    "version": 3
   },
   "file_extension": ".py",
   "mimetype": "text/x-python",
   "name": "python",
   "nbconvert_exporter": "python",
   "pygments_lexer": "ipython3",
   "version": "3.8.2"
  }
 },
 "nbformat": 4,
 "nbformat_minor": 4
}
