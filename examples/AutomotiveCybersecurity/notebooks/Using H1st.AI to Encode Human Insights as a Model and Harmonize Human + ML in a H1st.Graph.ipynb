{
 "cells": [
  {
   "cell_type": "markdown",
   "metadata": {},
   "source": [
    "# 3. Using H1st.AI to Encode Human Insights as a Model and Harmonize Human + ML in a H1st.Graph"
   ]
  },
  {
   "cell_type": "markdown",
   "metadata": {},
   "source": [
    "### 3a. Use case analysis: turning on safe-mode vs post-moterm analysis"
   ]
  },
  {
   "cell_type": "markdown",
   "metadata": {},
   "source": [
    "The H1ST.AI approach to this problem begins by thinking about the end-users of the decision system, and their uses cases.\n",
    "\n",
    "What are the use cases for such Automotive Cybersecurity system? We can envision two distinctive use cases:\n",
    "  1. The onboard intrusion detection system can detect an attack event in realtime and set the car into a safe mode so that drivers can safely get to a safe location and not be stuck in the highway with malfunctioning cars.\n",
    "  2. An security expert could review the attack in post-mortem mode, in which the IDS provides message-by-message attack vs normal classification.\n",
    "\n",
    "For use case #1 \"safe mode triggering by attack event detection\", the ML requirement is that it has near-zero FPR. \n",
    "\n",
    "To give an example, each second might contain 100 of CAN messages per car. If we have a fleet with just 1000 cars, each driven 1h per day, then a FPR of 0.00001 at message-level still means that each day we have 0.00001 x 100msg x 3600s x 1000cars = 3600 false positive events per day!\n",
    "\n",
    "Additionally, for deployment & anticipated regulatory purpose, the system should behave robustly and explainably. While explainability is a complex subject, we meant that one could anticipate the system’s behavior reasonably well, as well as for legal/regulation purposes. As we saw with iForest or GBM ML models, they don’t quite meet this requirement, as it is hard to explain precisely how these models classify attacks, even if they can achieve good accuracy.\n",
    "\n",
    "For use case #2 \"post-morterm analysis\", it turns out that the requirement is very different. Some FPR could be traded off for higher TPR for post-mortem. And the system might not need to highly explainable as it is after all the jobs of the security experts to analyze the attacks in depth and make the final decisions."
   ]
  },
  {
   "cell_type": "markdown",
   "metadata": {},
   "source": [
    "### 3b. Problem (re)formulation into H1st.AI Graph"
   ]
  },
  {
   "cell_type": "markdown",
   "metadata": {},
   "source": [
    "We reformulate the problem into the form of a decision graph, where the outermost flow detects attack events and corresponding yes branches handles message classification. For this tutorial we focus on injection attacks which are most common in the wild (we will revisit this later).\n",
    "\n",
    "The graph looks like this.\n",
    "\n",
    "<img src=\"http://docs.arimo.com/H1ST_AI_Tutorial/img/graph2.png\" alt=\"automotive cybersecurity solution graph\"/>"
   ]
  },
  {
   "cell_type": "markdown",
   "metadata": {},
   "source": [
    "### 3c. Encoding human insights for event detection as a H1st.Model"
   ]
  },
  {
   "cell_type": "markdown",
   "metadata": {},
   "source": [
    "Remember when we start analyzing the CAN dataset, we have remarked that the normal data is highly regular, especially in terms of the message frequency for each CAN ID.\n",
    "\n",
    "It turns out that using message frequency statistics for injection event detection is highly accurate for safe-mode use cases (high TPR, low FNR). This surprising fact was first pointed out by the original CAN bus hackers Chris Valasek and Charlie Miller in the seminal white paper [Adventures in Automotive Networks and Control Units](https://ioactive.com/pdfs/IOActive_Adventures_in_Automotive_Networks_and_Control_Units.pdf).\n",
    "\n",
    "> It is pretty straightforward to detect the attacks discussed in this paper.  They always involve either sending new, unusual CAN packets or flooding the CAN bus with common packets... Additionally, the frequency of normal CAN packets is very predictable... Therefore we propose that a system can detect CAN anomalies based on the known frequency of certain traffic and can alert a system or user if frequency levels vary drastically from what is well known. \n",
    "\n",
    "Using H1ST, we can encode insights of such “human” models and use them just like ML models. An h1.Model is essentially anything that can predict. H1ST provides tools to help automate their saving and loading, too, easing the way for using them in an integrated decision system.\n",
    "\n",
    "In a H1ST project structure, we typically organize this under `models` directory, e.g. the content of `models/msg_freq_event_detector.py` looks like this. The details of training is quite simple: looping through a number of files to compute window statistics such as how many msg per CAN ID are found & what’s the min & max and percentile values."
   ]
  },
  {
   "cell_type": "code",
   "execution_count": 2,
   "metadata": {},
   "outputs": [],
   "source": [
    "import h1st as h1\n",
    "\n",
    "SENSORS = [\"SteeringAngle\", \"CarSpeed\", \"YawRate\", \"Gx\", \"Gy\"]\n",
    "\n",
    "class MsgFreqEventDetectorModel(h1.Model):\n",
    "    def load_data(self, num_files=None):\n",
    "        return util.load_data(num_files)\n",
    "    \n",
    "    def train(self, prepared_data):\n",
    "        files = prepared_data[\"train_normal_files\"]\n",
    "        \n",
    "        from collections import defaultdict\n",
    "        def count_messages(f):\n",
    "            df = pd.read_csv(f)\n",
    "            df.columns = ['Timestamp', 'Label', 'CarSpeed', 'SteeringAngle', 'YawRate', 'Gx', 'Gy']\n",
    "            counts = defaultdict(list)\n",
    "            \n",
    "            for window_start in util.gen_windows(df, window_size=config.WINDOW_SIZE, step_size=config.WINDOW_SIZE):\n",
    "                w_df = df[(df.Timestamp >= window_start) & (df.Timestamp < window_start + config.WINDOW_SIZE)]\n",
    "                for sensor in config.SENSORS:\n",
    "                    counts[sensor].append(len(w_df.dropna(subset=[sensor])))\n",
    "\n",
    "            return pd.DataFrame(counts)\n",
    "        \n",
    "        ret = [count_messages(f) for f in files]\n",
    "        df = pd.concat(ret)\n",
    "\n",
    "        self.stats = df.describe()\n",
    "    \n",
    "    def predict(self, data):\n",
    "        present_size=0.1\n",
    "        df = data['df']\n",
    "        window_starts = data[\"window_starts\"]\n",
    "        window_results = []\n",
    "        for window_start in window_starts:\n",
    "            w_df = df[(df.Timestamp >= window_start) & (df.Timestamp < window_start + WINDOW_SIZE)]\n",
    "            results = {}\n",
    "            for _, sensor in enumerate(SENSORS):\n",
    "                w_df_sensor = w_df.dropna(subset=[sensor])\n",
    "                max_normal_message_freq = self.stats.at['max', sensor]\n",
    "                msg_freq = len(w_df_sensor)\n",
    "                if msg_freq > (max_normal_message_freq+1): #or min_timediff < min_normal_timediff:\n",
    "                    results[sensor] = 1\n",
    "                else:\n",
    "                    results[sensor] = 0\n",
    "                \n",
    "                # print((window_start, sensor, msg_freq, max_normal_message_freq, results[sensor]))\n",
    "                \n",
    "                results[\"WindowInAttack\"] = any(results.values())\n",
    "            results[\"window_start\"] = window_start # information for down-stream\n",
    "            window_results.append(results)\n",
    "        return {\"event_detection_results\": window_results}"
   ]
  },
  {
   "cell_type": "markdown",
   "metadata": {},
   "source": [
    "Now let's import and train this `MsgFreqEventDetectorModel`."
   ]
  },
  {
   "cell_type": "code",
   "execution_count": 3,
   "metadata": {},
   "outputs": [],
   "source": [
    "h1.init()\n",
    "\n",
    "from AutomotiveCybersecurity.models.msg_freq_event_detector import MsgFreqEventDetectorModel\n",
    "\n",
    "m = MsgFreqEventDetectorModel()"
   ]
  },
  {
   "cell_type": "code",
   "execution_count": 5,
   "metadata": {},
   "outputs": [
    {
     "name": "stderr",
     "output_type": "stream",
     "text": [
      "100%|██████████| 5/5 [00:09<00:00,  1.92s/it]\n"
     ]
    }
   ],
   "source": [
    "data = m.load_data(num_files=5)\n",
    "m.train(data)"
   ]
  },
  {
   "cell_type": "code",
   "execution_count": 6,
   "metadata": {},
   "outputs": [
    {
     "data": {
      "text/html": [
       "<div>\n",
       "<style scoped>\n",
       "    .dataframe tbody tr th:only-of-type {\n",
       "        vertical-align: middle;\n",
       "    }\n",
       "\n",
       "    .dataframe tbody tr th {\n",
       "        vertical-align: top;\n",
       "    }\n",
       "\n",
       "    .dataframe thead th {\n",
       "        text-align: right;\n",
       "    }\n",
       "</style>\n",
       "<table border=\"1\" class=\"dataframe\">\n",
       "  <thead>\n",
       "    <tr style=\"text-align: right;\">\n",
       "      <th></th>\n",
       "      <th>SteeringAngle</th>\n",
       "      <th>CarSpeed</th>\n",
       "      <th>YawRate</th>\n",
       "      <th>Gx</th>\n",
       "      <th>Gy</th>\n",
       "    </tr>\n",
       "  </thead>\n",
       "  <tbody>\n",
       "    <tr>\n",
       "      <th>count</th>\n",
       "      <td>1417.000000</td>\n",
       "      <td>1417.000000</td>\n",
       "      <td>1417.000000</td>\n",
       "      <td>1417.000000</td>\n",
       "      <td>1417.000000</td>\n",
       "    </tr>\n",
       "    <tr>\n",
       "      <th>mean</th>\n",
       "      <td>32.930134</td>\n",
       "      <td>16.465773</td>\n",
       "      <td>32.929428</td>\n",
       "      <td>32.929428</td>\n",
       "      <td>32.929428</td>\n",
       "    </tr>\n",
       "    <tr>\n",
       "      <th>std</th>\n",
       "      <td>0.443155</td>\n",
       "      <td>0.499003</td>\n",
       "      <td>0.443840</td>\n",
       "      <td>0.443840</td>\n",
       "      <td>0.443840</td>\n",
       "    </tr>\n",
       "    <tr>\n",
       "      <th>min</th>\n",
       "      <td>32.000000</td>\n",
       "      <td>16.000000</td>\n",
       "      <td>32.000000</td>\n",
       "      <td>32.000000</td>\n",
       "      <td>32.000000</td>\n",
       "    </tr>\n",
       "    <tr>\n",
       "      <th>25%</th>\n",
       "      <td>33.000000</td>\n",
       "      <td>16.000000</td>\n",
       "      <td>33.000000</td>\n",
       "      <td>33.000000</td>\n",
       "      <td>33.000000</td>\n",
       "    </tr>\n",
       "    <tr>\n",
       "      <th>50%</th>\n",
       "      <td>33.000000</td>\n",
       "      <td>16.000000</td>\n",
       "      <td>33.000000</td>\n",
       "      <td>33.000000</td>\n",
       "      <td>33.000000</td>\n",
       "    </tr>\n",
       "    <tr>\n",
       "      <th>75%</th>\n",
       "      <td>33.000000</td>\n",
       "      <td>17.000000</td>\n",
       "      <td>33.000000</td>\n",
       "      <td>33.000000</td>\n",
       "      <td>33.000000</td>\n",
       "    </tr>\n",
       "    <tr>\n",
       "      <th>max</th>\n",
       "      <td>34.000000</td>\n",
       "      <td>17.000000</td>\n",
       "      <td>34.000000</td>\n",
       "      <td>34.000000</td>\n",
       "      <td>34.000000</td>\n",
       "    </tr>\n",
       "  </tbody>\n",
       "</table>\n",
       "</div>"
      ],
      "text/plain": [
       "       SteeringAngle     CarSpeed      YawRate           Gx           Gy\n",
       "count    1417.000000  1417.000000  1417.000000  1417.000000  1417.000000\n",
       "mean       32.930134    16.465773    32.929428    32.929428    32.929428\n",
       "std         0.443155     0.499003     0.443840     0.443840     0.443840\n",
       "min        32.000000    16.000000    32.000000    32.000000    32.000000\n",
       "25%        33.000000    16.000000    33.000000    33.000000    33.000000\n",
       "50%        33.000000    16.000000    33.000000    33.000000    33.000000\n",
       "75%        33.000000    17.000000    33.000000    33.000000    33.000000\n",
       "max        34.000000    17.000000    34.000000    34.000000    34.000000"
      ]
     },
     "execution_count": 6,
     "metadata": {},
     "output_type": "execute_result"
    }
   ],
   "source": [
    "m.stats"
   ]
  },
  {
   "cell_type": "markdown",
   "metadata": {},
   "source": [
    "The nice things about h1st.Model that we can easily save/load them. By default, the \"model\", \"stats\" and \"metrics\" properties are persisted and they support a variety of flavors & data structure."
   ]
  },
  {
   "cell_type": "code",
   "execution_count": 7,
   "metadata": {},
   "outputs": [
    {
     "name": "stderr",
     "output_type": "stream",
     "text": [
      "2020-08-15 13:27:40,710 INFO h1st.model_repository.model_repository: Saving stats property...\n"
     ]
    },
    {
     "data": {
      "text/plain": [
       "'01EFSWWX919KW44CR12DXS13N9'"
      ]
     },
     "execution_count": 7,
     "metadata": {},
     "output_type": "execute_result"
    }
   ],
   "source": [
    "m.persist()"
   ]
  },
  {
   "cell_type": "markdown",
   "metadata": {},
   "source": [
    "### 3d. Working with H1st Graph"
   ]
  },
  {
   "cell_type": "markdown",
   "metadata": {},
   "source": [
    "Let's now make some event-level predictions.\n",
    "\n",
    "Note that since the model was persisted using H1st model repo, this means that we can easily come back to a notebooks and/or scripts and load the trained model or computed statistics.\n",
    "\n",
    "Importantly, H1st allows much speedier integration into a Graph (and later deployment, too)."
   ]
  },
  {
   "cell_type": "code",
   "execution_count": 12,
   "metadata": {},
   "outputs": [
    {
     "name": "stderr",
     "output_type": "stream",
     "text": [
      "2020-08-14 22:23:15,192 INFO h1st.model_repository.model_repository: Loading version 01EFQN6454J0AHK60F81PXV8CB ....\n"
     ]
    },
    {
     "name": "stdout",
     "output_type": "stream",
     "text": [
      "/Users/aht/Documents/autocyber/13Prius/predict_data/add/YawRate/Attack_YR_Cycle_Add_back_01_030_1to1_D_01.csv\n"
     ]
    },
    {
     "data": {
      "text/plain": [
       "dict_keys(['df', 'window_starts', 'event_detection_results'])"
      ]
     },
     "execution_count": 12,
     "metadata": {},
     "output_type": "execute_result"
    }
   ],
   "source": [
    "from AutomotiveCybersecurity.graph import WindowGenerator\n",
    "from AutomotiveCybersecurity.models.msg_freq_event_detector import MsgFreqEventDetectorModel\n",
    "\n",
    "graph = h1.Graph()\n",
    "graph.start()\\\n",
    "     .add(WindowGenerator())\\\n",
    "     .add(MsgFreqEventDetectorModel().load())\n",
    "graph.end()\n",
    "\n",
    "import glob\n",
    "fs = glob.glob(\"/Users/aht/Documents/autocyber/13Prius/predict_data/add/YawRate/*.csv\")\n",
    "print(fs[0])\n",
    "df = pd.read_csv(fs[0])\n",
    "df.columns = ['Timestamp', 'Label', 'CarSpeed', 'SteeringAngle', 'YawRate', 'Gx', 'Gy']\n",
    "\n",
    "results = graph.predict({\"df\": df})\n",
    "results.keys()"
   ]
  },
  {
   "cell_type": "markdown",
   "metadata": {},
   "source": [
    "And we should see that starting we can detect attacks starting at Timestamp 604.3105000000011"
   ]
  },
  {
   "cell_type": "code",
   "execution_count": 11,
   "metadata": {},
   "outputs": [
    {
     "data": {
      "text/plain": [
       "[{'SteeringAngle': 0,\n",
       "  'WindowInAttack': True,\n",
       "  'CarSpeed': 0,\n",
       "  'YawRate': 1,\n",
       "  'Gx': 1,\n",
       "  'Gy': 1,\n",
       "  'window_start': 604.4104999999997},\n",
       " {'SteeringAngle': 0,\n",
       "  'WindowInAttack': True,\n",
       "  'CarSpeed': 0,\n",
       "  'YawRate': 1,\n",
       "  'Gx': 1,\n",
       "  'Gy': 1,\n",
       "  'window_start': 604.8104999999997},\n",
       " {'SteeringAngle': 0,\n",
       "  'WindowInAttack': True,\n",
       "  'CarSpeed': 0,\n",
       "  'YawRate': 1,\n",
       "  'Gx': 1,\n",
       "  'Gy': 1,\n",
       "  'window_start': 605.2104999999997},\n",
       " {'SteeringAngle': 0,\n",
       "  'WindowInAttack': True,\n",
       "  'CarSpeed': 0,\n",
       "  'YawRate': 1,\n",
       "  'Gx': 1,\n",
       "  'Gy': 1,\n",
       "  'window_start': 605.6104999999997},\n",
       " {'SteeringAngle': 0,\n",
       "  'WindowInAttack': True,\n",
       "  'CarSpeed': 0,\n",
       "  'YawRate': 1,\n",
       "  'Gx': 1,\n",
       "  'Gy': 1,\n",
       "  'window_start': 606.0104999999996}]"
      ]
     },
     "execution_count": 11,
     "metadata": {},
     "output_type": "execute_result"
    }
   ],
   "source": [
    "[x for x in results[\"event_detection_results\"] if x[\"WindowInAttack\"]][:5]"
   ]
  },
  {
   "cell_type": "markdown",
   "metadata": {},
   "source": [
    "### 3e. Adding a message classifier, harmonizing human + ML models in the graph"
   ]
  },
  {
   "cell_type": "markdown",
   "metadata": {},
   "source": [
    "For message-level classification we can simply bring back our gradient-boosted trees which did a decent job of recognizing injection messages. (Integrating sequence model such as Bidirectional LSTM is left as an exercise for the reader).\n",
    "\n",
    "For convenient, we've re-orgarnized it as a H1st.Model, ready for use. The content of `models/gradient_boosting_msg_classifier.py` looks like this."
   ]
  },
  {
   "cell_type": "code",
   "execution_count": 13,
   "metadata": {},
   "outputs": [],
   "source": [
    "FEATURES = SENSORS + [\"%s_TimeDiff\" % s for s in SENSORS]\n",
    "\n",
    "class GradientBoostingMsgClassifierModel(h1.Model):\n",
    "    def load_data(self, num_samples=None):\n",
    "        return util.load_data_daic(num_samples, shuffle=True)\n",
    "\n",
    "    def prep(self, data):\n",
    "        # concat multiple files into separate training/test pd.DataFrame\n",
    "        def concat_processed_files(files):\n",
    "            dfs = []\n",
    "            for f in files:\n",
    "                z = pd.read_csv(f)\n",
    "                z.columns = ['Timestamp', 'Label', 'CarSpeed', 'SteeringAngle', 'YawRate', 'Gx', 'Gy',]\n",
    "                z = util.compute_timediff_fillna(z)\n",
    "                dfs.append(z)\n",
    "            df2 = pd.concat(dfs)\n",
    "            return df2\n",
    "        return {\n",
    "            \"train_attack_df\": concat_processed_files(data[\"train_attack_files\"]),\n",
    "            \"test_attack_df\": concat_processed_files(data[\"test_attack_files\"])\n",
    "        }\n",
    "\n",
    "    def train(self, prepared_data):\n",
    "        df = prepared_data[\"train_attack_df\"]\n",
    "        from sklearn.experimental import enable_hist_gradient_boosting\n",
    "        from sklearn.ensemble import HistGradientBoostingClassifier\n",
    "        X = df[FEATURES]\n",
    "        y = df.Label == \"Tx\"\n",
    "        self.model = HistGradientBoostingClassifier(max_iter=500).fit(X, y)\n",
    "\n",
    "    def evaluate(self, data):        \n",
    "        df = prepared_data[\"test_attack_df\"]\n",
    "        ypred = self.model.predict(df[FEATURES])\n",
    "        import sklearn.metrics\n",
    "        cf = sklearn.metrics.confusion_matrix(df.Label == \"Tx\", ypred)\n",
    "        acc = sklearn.metrics.accuracy_score(df.Label == \"Tx\", ypred)\n",
    "        print(cf)\n",
    "        print(\"Accuracy = %.4f\" % acc)\n",
    "        self.metrics = {\"confusion_matrix\": cf, \"accuracy\": acc}\n",
    "    \n",
    "    def predict(self, data):\n",
    "        df = data[\"df\"].copy()\n",
    "        df = util.compute_timediff_fillna(df)\n",
    "        df['MsgIsAttack'] = 0\n",
    "        df['WindowInAttack'] = 0\n",
    "        for event_result in data[\"event_detection_results\"]:\n",
    "            if event_result['WindowInAttack']:\n",
    "                # print(\"window %s in attack: event_result = %s\" % (event_result['window_start'], event_result))\n",
    "                in_window = (df.Timestamp >= event_result['window_start']) & (df.Timestamp < event_result['window_start'] + WINDOW_SIZE)\n",
    "                w_df = df[in_window]\n",
    "                ypred = self.model.predict(w_df[FEATURES])\n",
    "                df.loc[in_window, \"WindowInAttack\"] = 1\n",
    "                df.loc[in_window, \"MsgIsAttack\"] = ypred.astype(int)\n",
    "                return {\"injection_window_results\": df}"
   ]
  },
  {
   "cell_type": "code",
   "execution_count": 14,
   "metadata": {},
   "outputs": [],
   "source": [
    "from AutomotiveCybersecurity.models.gradient_boosting_msg_classifier import GradientBoostingMsgClassifierModel\n",
    "\n",
    "m2 = GradientBoostingMsgClassifierModel()\n",
    "data = m2.load_data(num_files=50)"
   ]
  },
  {
   "cell_type": "code",
   "execution_count": 17,
   "metadata": {},
   "outputs": [
    {
     "name": "stdout",
     "output_type": "stream",
     "text": [
      "len train_attack_df = 242167\n",
      "len test_attack_df = 243774\n"
     ]
    }
   ],
   "source": [
    "prepared_data = m2.prep(data)"
   ]
  },
  {
   "cell_type": "code",
   "execution_count": 18,
   "metadata": {},
   "outputs": [],
   "source": [
    "m2.train(prepared_data)"
   ]
  },
  {
   "cell_type": "code",
   "execution_count": 19,
   "metadata": {},
   "outputs": [
    {
     "name": "stdout",
     "output_type": "stream",
     "text": [
      "[[203136   2966]\n",
      " [ 13066  24606]]\n",
      "Accuracy = 0.9342\n"
     ]
    }
   ],
   "source": [
    "m2.evaluate(prepared_data)"
   ]
  },
  {
   "cell_type": "code",
   "execution_count": 20,
   "metadata": {},
   "outputs": [
    {
     "name": "stderr",
     "output_type": "stream",
     "text": [
      "2020-08-14 22:21:08,989 INFO h1st.model_repository.model_repository: Saving metrics property...\n",
      "2020-08-14 22:21:08,990 INFO h1st.model_repository.model_repository: Saving model property...\n"
     ]
    },
    {
     "data": {
      "text/plain": [
       "'01EFR910BWJEPT466ARTNCC18E'"
      ]
     },
     "execution_count": 20,
     "metadata": {},
     "output_type": "execute_result"
    }
   ],
   "source": [
    "m2.persist()"
   ]
  },
  {
   "cell_type": "code",
   "execution_count": 16,
   "metadata": {
    "scrolled": true
   },
   "outputs": [
    {
     "name": "stderr",
     "output_type": "stream",
     "text": [
      "2020-08-14 22:23:40,159 INFO h1st.model_repository.model_repository: Loading version 01EFQN6454J0AHK60F81PXV8CB ....\n",
      "2020-08-14 22:23:40,164 INFO h1st.model_repository.model_repository: Loading version 01EFR910BWJEPT466ARTNCC18E ....\n"
     ]
    },
    {
     "data": {
      "text/plain": [
       "dict_keys(['df', 'window_starts', 'event_detection_results', 'injection_window_results'])"
      ]
     },
     "execution_count": 16,
     "metadata": {},
     "output_type": "execute_result"
    }
   ],
   "source": [
    "class NoOp(h1.Action):\n",
    "    def call(self, command, inputs):\n",
    "        pass\n",
    "\n",
    "graph = h1.Graph()\n",
    "graph.start()\\\n",
    "     .add(WindowGenerator())\\\n",
    "     .add(h1.Decision(MsgFreqEventDetectorModel().load(), decision_field=\"WindowInAttack\"))\\\n",
    "     .add(yes=GradientBoostingMsgClassifierModel().load(),\n",
    "          no=NoOp())\n",
    "graph.end()\n",
    "\n",
    "results = graph.predict({\"df\": df})\n",
    "results.keys()"
   ]
  },
  {
   "cell_type": "markdown",
   "metadata": {},
   "source": [
    "Now let's evaluate the whole graph, especially focusing on the event-level TPR & FPR since they are crucial in the safe-mode deployment use case."
   ]
  },
  {
   "cell_type": "code",
   "execution_count": 17,
   "metadata": {},
   "outputs": [
    {
     "name": "stdout",
     "output_type": "stream",
     "text": [
      "============\n",
      "Event-level confusion matrix\n",
      "[[1155    0]\n",
      " [   0 1300]]\n",
      "Event TPR = 1.0000, FPR = 0.0000\n"
     ]
    },
    {
     "data": {
      "text/plain": [
       "(1155, 0, 0, 1300)"
      ]
     },
     "execution_count": 17,
     "metadata": {},
     "output_type": "execute_result"
    }
   ],
   "source": [
    "from AutomotiveCybersecurity.util import evaluate_event_graph\n",
    "\n",
    "evaluate_event_graph(graph, data['test_attack_files'])"
   ]
  },
  {
   "cell_type": "markdown",
   "metadata": {},
   "source": [
    "Woa! We ran through all 400ms windows in the test samples and got event-level FPR=0.0% with zero false positives! (Note that this is still a subsample of the data, but once you've tried it on the full dataset the results should be the same: zero false positive at event-level.)\n",
    "\n",
    "The message-level accuracy should be nearly the same because we used the same classifier. However the decomposition leads to separation of concerns and requirement for these two use cases. We're much more comfortable with the solution now both in terms of accuracy as well as robustness and explainability.\n",
    "\n",
    "Another significance worth pointing out here is that we get multiple output streams from H1st.Graph: event-level outputs and msg-level outputs, exactly what we need for two different use cases we highlighted: safe-mode triggering and post-mortem analysis."
   ]
  }
 ],
 "metadata": {
  "kernelspec": {
   "display_name": "Python 3",
   "language": "python",
   "name": "python3"
  },
  "language_info": {
   "codemirror_mode": {
    "name": "ipython",
    "version": 3
   },
   "file_extension": ".py",
   "mimetype": "text/x-python",
   "name": "python",
   "nbconvert_exporter": "python",
   "pygments_lexer": "ipython3",
   "version": "3.8.2"
  }
 },
 "nbformat": 4,
 "nbformat_minor": 4
}
