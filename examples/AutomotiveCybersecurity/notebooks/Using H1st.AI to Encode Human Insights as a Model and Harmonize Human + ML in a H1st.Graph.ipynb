{
 "cells": [
  {
   "cell_type": "markdown",
   "metadata": {},
   "source": [
    "# 3. Using H1st.AI to Encode Human Insights as a Model and Harmonize Human + ML in a H1st.Graph"
   ]
  },
  {
   "cell_type": "markdown",
   "metadata": {},
   "source": [
    "### 3a. Use case analysis: turning on safe-mode vs post-moterm analysis"
   ]
  },
  {
   "cell_type": "markdown",
   "metadata": {},
   "source": [
    "The H1ST.AI approach to this problem begins by thinking about the end-users of the decision system, and their uses cases.\n",
    "\n",
    "What are the use cases for such Automotive Cybersecurity system? We can envision two distinctive use cases:\n",
    "  1. The onboard intrusion detection system can detect an attack event in realtime and set the car into a safe mode so that drivers can safely get to a safe location and not be stuck in the highway with malfunctioning cars.\n",
    "  2. An security expert could review the attack in post-mortem mode, in which the IDS provides message-by-message attack vs normal classification.\n",
    "\n",
    "For use case #1 \"safe mode triggering by attack event detection\", the ML requirement is that it has near-zero FPR. \n",
    "\n",
    "To give an example, each second might contain 100 of CAN messages per car. If we have a fleet with just 1000 cars, each driven 1h per day, then a FPR of 0.00001 at message-level still means that each day we have 0.00001 x 100msg x 3600s x 1000cars = 3600 false positive events per day!\n",
    "\n",
    "Additionally, for deployment & anticipated regulatory purpose, the system should behave robustly and explainably. While explainability is a complex subject, we meant that one could anticipate the system’s behavior reasonably well, as well as for legal/regulation purposes. As we saw with iForest or GBM ML models, they don’t quite meet this requirement, as it is hard to explain precisely how these models classify attacks, even if they can achieve good accuracy.\n",
    "\n",
    "For use case #2 \"post-morterm analysis\", it turns out that the requirement is very different. Some FPR could be traded off for higher TPR for post-mortem. And the system might not need to highly explainable as it is after all the jobs of the security experts to analyze the attacks in depth and make the final decisions."
   ]
  },
  {
   "cell_type": "markdown",
   "metadata": {},
   "source": [
    "### 3b. Problem (re)formulation into H1st.AI Graph"
   ]
  },
  {
   "cell_type": "markdown",
   "metadata": {},
   "source": [
    "We reformulate the problem into the form of a decision graph, where the outermost flow detects attack events and corresponding yes branches handles message classification. For this tutorial we focus on injection attacks which are most common in the wild (we will revisit this later).\n",
    "\n",
    "The graph looks like this.\n",
    "\n",
    "<img src=\"http://docs.arimo.com/H1ST_AI_Tutorial/img/graph2.png\" alt=\"automotive cybersecurity solution graph\"/>"
   ]
  },
  {
   "cell_type": "markdown",
   "metadata": {},
   "source": [
    "### 3c. Encoding human insights for event detection as a H1st.Model"
   ]
  },
  {
   "cell_type": "markdown",
   "metadata": {},
   "source": [
    "Remember when we start analyzing the CAN dataset, we have remarked that the normal data is highly regular, especially in terms of the message frequency for each CAN ID.\n",
    "\n",
    "It turns out that using message frequency statistics for injection event detection is highly accurate for safe-mode use cases (high TPR, low FNR). This surprising fact was first pointed out by the original CAN bus hackers Chris Valasek and Charlie Miller in the seminal white paper [Adventures in Automotive Networks and Control Units](https://ioactive.com/pdfs/IOActive_Adventures_in_Automotive_Networks_and_Control_Units.pdf).\n",
    "\n",
    "> It is pretty straightforward to detect the attacks discussed in this paper.  They always involve either sending new, unusual CAN packets or flooding the CAN bus with common packets... Additionally, the frequency of normal CAN packets is very predictable... Therefore we propose that a system can detect CAN anomalies based on the known frequency of certain traffic and can alert a system or user if frequency levels vary drastically from what is well known. \n",
    "\n",
    "Using H1ST, we can encode insights of such “human” models and use them just like ML models. An h1.Model is essentially anything that can predict. H1ST provides tools to help automate their saving and loading, too, easing the way for using them in an integrated decision system.\n",
    "\n",
    "A data-science project in H1ST.AI is designed to be a Python-importable package. You can create such a project using the `h1` command-line tool.\n",
    "\n",
    "Organizing model code this way makes it easy to use. The Model API is uniquely designed so that models can be used interactively in notebooks as well as in more complex project such as this one.\n",
    "\n",
    "In a H1ST project structure, we typically organize this under `models` directory, e.g. the content of `models/msg_freq_event_detector.py` looks like this. The details of training is quite simple: looping through a number of files to compute window statistics such as how many msg per CAN ID are found & what’s the min & max and percentile values.\n",
    "\n",
    "```{note}\n",
    "The H1st package of the full tutorial is available from the H1st Github project at [https://github.com/h1st-ai/h1st/tree/master/examples/AutomotiveCybersecurity](https://github.com/h1st-ai/h1st/tree/master/examples/AutomotiveCybersecurity).\n",
    "\n",
    "Simply go ahead and clone it, then follow along.\n",
    "```"
   ]
  },
  {
   "cell_type": "code",
   "execution_count": 1,
   "metadata": {},
   "outputs": [],
   "source": [
    "import h1st as h1\n",
    "\n",
    "SENSORS = [\"SteeringAngle\", \"CarSpeed\", \"YawRate\", \"Gx\", \"Gy\"]\n",
    "\n",
    "class MsgFreqEventDetectorModel(h1.Model):\n",
    "    def load_data(self, num_files=None):\n",
    "        return util.load_data(num_files)\n",
    "    \n",
    "    def train(self, prepared_data):\n",
    "        files = prepared_data[\"train_normal_files\"]\n",
    "        \n",
    "        from collections import defaultdict\n",
    "        def count_messages(f):\n",
    "            df = pd.read_csv(f)\n",
    "            df.columns = ['Timestamp', 'Label', 'CarSpeed', 'SteeringAngle', 'YawRate', 'Gx', 'Gy']\n",
    "            counts = defaultdict(list)\n",
    "            \n",
    "            for window_start in util.gen_windows(df, window_size=config.WINDOW_SIZE, step_size=config.WINDOW_SIZE):\n",
    "                w_df = df[(df.Timestamp >= window_start) & (df.Timestamp < window_start + config.WINDOW_SIZE)]\n",
    "                for sensor in config.SENSORS:\n",
    "                    counts[sensor].append(len(w_df.dropna(subset=[sensor])))\n",
    "\n",
    "            return pd.DataFrame(counts)\n",
    "        \n",
    "        ret = [count_messages(f) for f in files]\n",
    "        df = pd.concat(ret)\n",
    "\n",
    "        self.stats = df.describe()\n",
    "    \n",
    "    def predict(self, data):\n",
    "        df = data[\"df\"].copy()\n",
    "        df = util.compute_timediff_fillna(df)\n",
    "        df['MsgIsAttack'] = 0\n",
    "        df['WindowInAttack'] = 0\n",
    "        for event_result in data[\"event_detection_results\"]:\n",
    "            if event_result['WindowInAttack']:\n",
    "                # print(\"window %s in attack: event_result = %s\" % (event_result['window_start'], event_result))\n",
    "                in_window = (df.Timestamp >= event_result['window_start']) & (df.Timestamp < event_result['window_start'] + config.WINDOW_SIZE)\n",
    "                w_df = df[in_window]\n",
    "                if len(w_df) > 0:\n",
    "                    ypred = self.model.predict(w_df[FEATURES])\n",
    "                    df.loc[in_window, \"WindowInAttack\"] = 1\n",
    "                    df.loc[in_window, \"MsgIsAttack\"] = ypred.astype(int)\n",
    "        return {\"injection_window_results\": df}"
   ]
  },
  {
   "cell_type": "markdown",
   "metadata": {},
   "source": [
    "Now let's import and train this `MsgFreqEventDetectorModel`.\n",
    "\n",
    "\n",
    "```{note}\n",
    "Here, we call `h1.init()` to make sure we can import the package in our notebooks even when the package is not installed (as long as the notebooks are within the project folder structure).\n",
    "```"
   ]
  },
  {
   "cell_type": "code",
   "execution_count": 2,
   "metadata": {},
   "outputs": [],
   "source": [
    "h1.init()\n",
    "\n",
    "from AutomotiveCybersecurity.models.msg_freq_event_detector import MsgFreqEventDetectorModel\n",
    "\n",
    "m = MsgFreqEventDetectorModel()"
   ]
  },
  {
   "cell_type": "code",
   "execution_count": 15,
   "metadata": {},
   "outputs": [],
   "source": [
    "# one long trip is sufficient to compute freq stats at sub-second window level for each car model\n",
    "data = m.load_data(num_files=1)"
   ]
  },
  {
   "cell_type": "code",
   "execution_count": 16,
   "metadata": {},
   "outputs": [],
   "source": [
    "m.train(data)"
   ]
  },
  {
   "cell_type": "code",
   "execution_count": 17,
   "metadata": {},
   "outputs": [
    {
     "data": {
      "text/html": [
       "<div>\n",
       "<style scoped>\n",
       "    .dataframe tbody tr th:only-of-type {\n",
       "        vertical-align: middle;\n",
       "    }\n",
       "\n",
       "    .dataframe tbody tr th {\n",
       "        vertical-align: top;\n",
       "    }\n",
       "\n",
       "    .dataframe thead th {\n",
       "        text-align: right;\n",
       "    }\n",
       "</style>\n",
       "<table border=\"1\" class=\"dataframe\">\n",
       "  <thead>\n",
       "    <tr style=\"text-align: right;\">\n",
       "      <th></th>\n",
       "      <th>SteeringAngle</th>\n",
       "      <th>CarSpeed</th>\n",
       "      <th>YawRate</th>\n",
       "      <th>Gx</th>\n",
       "      <th>Gy</th>\n",
       "    </tr>\n",
       "  </thead>\n",
       "  <tbody>\n",
       "    <tr>\n",
       "      <th>count</th>\n",
       "      <td>28920.000000</td>\n",
       "      <td>28920.000000</td>\n",
       "      <td>28920.000000</td>\n",
       "      <td>28920.000000</td>\n",
       "      <td>28920.000000</td>\n",
       "    </tr>\n",
       "    <tr>\n",
       "      <th>mean</th>\n",
       "      <td>34.328008</td>\n",
       "      <td>17.164696</td>\n",
       "      <td>34.329011</td>\n",
       "      <td>34.329011</td>\n",
       "      <td>34.329011</td>\n",
       "    </tr>\n",
       "    <tr>\n",
       "      <th>std</th>\n",
       "      <td>1.247765</td>\n",
       "      <td>2.085938</td>\n",
       "      <td>1.331684</td>\n",
       "      <td>1.331684</td>\n",
       "      <td>1.331684</td>\n",
       "    </tr>\n",
       "    <tr>\n",
       "      <th>min</th>\n",
       "      <td>31.000000</td>\n",
       "      <td>0.000000</td>\n",
       "      <td>0.000000</td>\n",
       "      <td>0.000000</td>\n",
       "      <td>0.000000</td>\n",
       "    </tr>\n",
       "    <tr>\n",
       "      <th>25%</th>\n",
       "      <td>33.000000</td>\n",
       "      <td>17.000000</td>\n",
       "      <td>33.000000</td>\n",
       "      <td>33.000000</td>\n",
       "      <td>33.000000</td>\n",
       "    </tr>\n",
       "    <tr>\n",
       "      <th>50%</th>\n",
       "      <td>34.000000</td>\n",
       "      <td>17.000000</td>\n",
       "      <td>34.000000</td>\n",
       "      <td>34.000000</td>\n",
       "      <td>34.000000</td>\n",
       "    </tr>\n",
       "    <tr>\n",
       "      <th>75%</th>\n",
       "      <td>35.000000</td>\n",
       "      <td>18.000000</td>\n",
       "      <td>35.000000</td>\n",
       "      <td>35.000000</td>\n",
       "      <td>35.000000</td>\n",
       "    </tr>\n",
       "    <tr>\n",
       "      <th>max</th>\n",
       "      <td>42.000000</td>\n",
       "      <td>24.000000</td>\n",
       "      <td>41.000000</td>\n",
       "      <td>41.000000</td>\n",
       "      <td>41.000000</td>\n",
       "    </tr>\n",
       "  </tbody>\n",
       "</table>\n",
       "</div>"
      ],
      "text/plain": [
       "       SteeringAngle      CarSpeed       YawRate            Gx            Gy\n",
       "count   28920.000000  28920.000000  28920.000000  28920.000000  28920.000000\n",
       "mean       34.328008     17.164696     34.329011     34.329011     34.329011\n",
       "std         1.247765      2.085938      1.331684      1.331684      1.331684\n",
       "min        31.000000      0.000000      0.000000      0.000000      0.000000\n",
       "25%        33.000000     17.000000     33.000000     33.000000     33.000000\n",
       "50%        34.000000     17.000000     34.000000     34.000000     34.000000\n",
       "75%        35.000000     18.000000     35.000000     35.000000     35.000000\n",
       "max        42.000000     24.000000     41.000000     41.000000     41.000000"
      ]
     },
     "execution_count": 17,
     "metadata": {},
     "output_type": "execute_result"
    }
   ],
   "source": [
    "m.stats"
   ]
  },
  {
   "cell_type": "markdown",
   "metadata": {},
   "source": [
    "The nice things about h1st.Model that we can easily save/load them. By default, the \"model\", \"stats\" and \"metrics\" properties are persisted and they support a variety of flavors & data structure."
   ]
  },
  {
   "cell_type": "code",
   "execution_count": 22,
   "metadata": {},
   "outputs": [
    {
     "name": "stderr",
     "output_type": "stream",
     "text": [
      "2020-09-02 23:15:07,644 INFO h1st.model_repository.model_repository: Saving stats property...\n"
     ]
    },
    {
     "data": {
      "text/plain": [
       "'01EH99NG3T9XF02RDQTCWAPAPF'"
      ]
     },
     "execution_count": 22,
     "metadata": {},
     "output_type": "execute_result"
    }
   ],
   "source": [
    "m.persist()"
   ]
  },
  {
   "cell_type": "markdown",
   "metadata": {},
   "source": [
    "### 3d. Working with H1st Graph"
   ]
  },
  {
   "cell_type": "markdown",
   "metadata": {},
   "source": [
    "Let's now make some event-level predictions.\n",
    "\n",
    "Note that since the model was persisted using H1st model repo, this means that we can easily come back to a notebooks and/or scripts and load the trained model or computed statistics.\n",
    "\n",
    "Importantly, H1st allows much speedier integration into a Graph (and later deployment, too)."
   ]
  },
  {
   "cell_type": "code",
   "execution_count": 18,
   "metadata": {},
   "outputs": [
    {
     "data": {
      "text/plain": [
       "'s3://h1st-tutorial-autocyber/attack-samples/20181114_Driver2_Trip1-0.parquet'"
      ]
     },
     "execution_count": 18,
     "metadata": {},
     "output_type": "execute_result"
    }
   ],
   "source": [
    "data['attack_files'][0]"
   ]
  },
  {
   "cell_type": "code",
   "execution_count": 4,
   "metadata": {},
   "outputs": [
    {
     "name": "stderr",
     "output_type": "stream",
     "text": [
      "2020-09-02 22:59:32,242 INFO h1st.model_repository.model_repository: Loading version 01EH8BNKHBKYXBE3RNN8H0DZFW ....\n"
     ]
    },
    {
     "data": {
      "text/plain": [
       "dict_keys(['window_starts', 'event_detection_results'])"
      ]
     },
     "execution_count": 4,
     "metadata": {},
     "output_type": "execute_result"
    }
   ],
   "source": [
    "import pandas as pd\n",
    "\n",
    "from AutomotiveCybersecurity.graph import WindowGenerator\n",
    "from AutomotiveCybersecurity.models.msg_freq_event_detector import MsgFreqEventDetectorModel\n",
    "\n",
    "graph = h1.Graph()\n",
    "graph.start()\\\n",
    "     .add(WindowGenerator())\\\n",
    "     .add(MsgFreqEventDetectorModel().load())\n",
    "graph.end()\n",
    "\n",
    "df = pd.read_parquet(data['attack_files'][0])\n",
    "\n",
    "results = graph.predict({\"df\": df})\n",
    "results.keys()"
   ]
  },
  {
   "cell_type": "markdown",
   "metadata": {},
   "source": [
    "And we should see that starting we can detect attacks evemts."
   ]
  },
  {
   "cell_type": "markdown",
   "metadata": {},
   "source": [
    "### 3e. Adding a message classifier, harmonizing human + ML models in the graph"
   ]
  },
  {
   "cell_type": "markdown",
   "metadata": {},
   "source": [
    "For message-level classification we can simply bring back our gradient-boosted trees which did a decent job of recognizing injection messages. (Integrating sequence model such as Bidirectional LSTM is left as an exercise for the reader).\n",
    "\n",
    "For convenient, we've re-orgarnized it as a H1st.Model, ready for use. The content of `models/gradient_boosting_msg_classifier.py` looks like this."
   ]
  },
  {
   "cell_type": "code",
   "execution_count": 7,
   "metadata": {},
   "outputs": [],
   "source": [
    "FEATURES = SENSORS + [\"%s_TimeDiff\" % s for s in SENSORS]\n",
    "\n",
    "class GradientBoostingMsgClassifierModel(h1.Model):\n",
    "    def load_data(self, num_samples=None):\n",
    "        return util.load_data_daic(num_samples, shuffle=True)\n",
    "\n",
    "    def prep_data(self, data):\n",
    "        # concat multiple files into separate training/test pd.DataFrame\n",
    "        def concat_processed_files(files):\n",
    "            dfs = []\n",
    "            for f in files:\n",
    "                z = pd.read_csv(f)\n",
    "                z.columns = ['Timestamp', 'Label', 'CarSpeed', 'SteeringAngle', 'YawRate', 'Gx', 'Gy',]\n",
    "                z = util.compute_timediff_fillna(z)\n",
    "                dfs.append(z)\n",
    "            df2 = pd.concat(dfs)\n",
    "            return df2\n",
    "        return {\n",
    "            \"train_attack_df\": concat_processed_files(data[\"train_attack_files\"]),\n",
    "            \"test_attack_df\": concat_processed_files(data[\"test_attack_files\"])\n",
    "        }\n",
    "\n",
    "    def train(self, prepared_data):\n",
    "        df = prepared_data[\"train_attack_df\"]\n",
    "        from sklearn.experimental import enable_hist_gradient_boosting\n",
    "        from sklearn.ensemble import HistGradientBoostingClassifier\n",
    "        X = df[FEATURES]\n",
    "        y = df.Label == \"Tx\"\n",
    "        self.model = HistGradientBoostingClassifier(max_iter=500).fit(X, y)\n",
    "\n",
    "    def evaluate(self, data):        \n",
    "        df = prepared_data[\"test_attack_df\"]\n",
    "        ypred = self.model.predict(df[FEATURES])\n",
    "        import sklearn.metrics\n",
    "        cf = sklearn.metrics.confusion_matrix(df.Label == \"Tx\", ypred)\n",
    "        acc = sklearn.metrics.accuracy_score(df.Label == \"Tx\", ypred)\n",
    "        print(cf)\n",
    "        print(\"Accuracy = %.4f\" % acc)\n",
    "        self.metrics = {\"confusion_matrix\": cf, \"accuracy\": acc}\n",
    "    \n",
    "    def predict(self, data):\n",
    "        df = data[\"df\"].copy()\n",
    "        df = util.compute_timediff_fillna(df)\n",
    "        df['MsgIsAttack'] = 0\n",
    "        df['WindowInAttack'] = 0\n",
    "        for event_result in data[\"event_detection_results\"]:\n",
    "            if event_result['WindowInAttack']:\n",
    "                # print(\"window %s in attack: event_result = %s\" % (event_result['window_start'], event_result))\n",
    "                in_window = (df.Timestamp >= event_result['window_start']) & (df.Timestamp < event_result['window_start'] + WINDOW_SIZE)\n",
    "                w_df = df[in_window]\n",
    "                ypred = self.model.predict(w_df[FEATURES])\n",
    "                df.loc[in_window, \"WindowInAttack\"] = 1\n",
    "                df.loc[in_window, \"MsgIsAttack\"] = ypred.astype(int)\n",
    "                return {\"injection_window_results\": df}"
   ]
  },
  {
   "cell_type": "code",
   "execution_count": 8,
   "metadata": {},
   "outputs": [],
   "source": [
    "import h1st as h1\n",
    "h1.init()\n",
    "\n",
    "from AutomotiveCybersecurity.models.gradient_boosting_msg_classifier import GradientBoostingMsgClassifierModel\n",
    "\n",
    "m2 = GradientBoostingMsgClassifierModel()\n",
    "data = m2.load_data(num_files=6)"
   ]
  },
  {
   "cell_type": "code",
   "execution_count": 9,
   "metadata": {},
   "outputs": [
    {
     "name": "stdout",
     "output_type": "stream",
     "text": [
      "len train_attack_df = 796422\n",
      "len test_attack_df = 1113009\n"
     ]
    }
   ],
   "source": [
    "prepared_data = m2.prep_data(data)"
   ]
  },
  {
   "cell_type": "code",
   "execution_count": 18,
   "metadata": {},
   "outputs": [
    {
     "data": {
      "text/html": [
       "<div>\n",
       "<style scoped>\n",
       "    .dataframe tbody tr th:only-of-type {\n",
       "        vertical-align: middle;\n",
       "    }\n",
       "\n",
       "    .dataframe tbody tr th {\n",
       "        vertical-align: top;\n",
       "    }\n",
       "\n",
       "    .dataframe thead th {\n",
       "        text-align: right;\n",
       "    }\n",
       "</style>\n",
       "<table border=\"1\" class=\"dataframe\">\n",
       "  <thead>\n",
       "    <tr style=\"text-align: right;\">\n",
       "      <th></th>\n",
       "      <th>Timestamp</th>\n",
       "      <th>SteeringAngle</th>\n",
       "      <th>CarSpeed</th>\n",
       "      <th>YawRate</th>\n",
       "      <th>Gx</th>\n",
       "      <th>Gy</th>\n",
       "      <th>Label</th>\n",
       "      <th>AttackSensor</th>\n",
       "      <th>AttackMethod</th>\n",
       "      <th>AttackParams</th>\n",
       "      <th>AttackEventIndex</th>\n",
       "      <th>SteeringAngle_TimeDiff</th>\n",
       "      <th>CarSpeed_TimeDiff</th>\n",
       "      <th>YawRate_TimeDiff</th>\n",
       "      <th>Gx_TimeDiff</th>\n",
       "      <th>Gy_TimeDiff</th>\n",
       "    </tr>\n",
       "  </thead>\n",
       "  <tbody>\n",
       "    <tr>\n",
       "      <th>4</th>\n",
       "      <td>0.030932</td>\n",
       "      <td>0.8</td>\n",
       "      <td>0.0</td>\n",
       "      <td>0.190211</td>\n",
       "      <td>0.009452</td>\n",
       "      <td>0.034356</td>\n",
       "      <td>Normal</td>\n",
       "      <td>NA</td>\n",
       "      <td>NA</td>\n",
       "      <td>0.0</td>\n",
       "      <td>&lt;NA&gt;</td>\n",
       "      <td>-1.000000</td>\n",
       "      <td>-1.0</td>\n",
       "      <td>-1.000000</td>\n",
       "      <td>-1.000000</td>\n",
       "      <td>-1.000000</td>\n",
       "    </tr>\n",
       "    <tr>\n",
       "      <th>5</th>\n",
       "      <td>0.036363</td>\n",
       "      <td>0.8</td>\n",
       "      <td>0.0</td>\n",
       "      <td>0.190211</td>\n",
       "      <td>0.009452</td>\n",
       "      <td>0.034356</td>\n",
       "      <td>Normal</td>\n",
       "      <td>NA</td>\n",
       "      <td>NA</td>\n",
       "      <td>0.0</td>\n",
       "      <td>&lt;NA&gt;</td>\n",
       "      <td>0.010708</td>\n",
       "      <td>-1.0</td>\n",
       "      <td>-1.000000</td>\n",
       "      <td>-1.000000</td>\n",
       "      <td>-1.000000</td>\n",
       "    </tr>\n",
       "    <tr>\n",
       "      <th>6</th>\n",
       "      <td>0.038058</td>\n",
       "      <td>0.8</td>\n",
       "      <td>0.0</td>\n",
       "      <td>0.190317</td>\n",
       "      <td>0.009466</td>\n",
       "      <td>0.034129</td>\n",
       "      <td>Normal</td>\n",
       "      <td>NA</td>\n",
       "      <td>NA</td>\n",
       "      <td>0.0</td>\n",
       "      <td>&lt;NA&gt;</td>\n",
       "      <td>-1.000000</td>\n",
       "      <td>-1.0</td>\n",
       "      <td>0.012148</td>\n",
       "      <td>0.012148</td>\n",
       "      <td>0.012148</td>\n",
       "    </tr>\n",
       "    <tr>\n",
       "      <th>7</th>\n",
       "      <td>0.049180</td>\n",
       "      <td>0.8</td>\n",
       "      <td>0.0</td>\n",
       "      <td>0.190317</td>\n",
       "      <td>0.009466</td>\n",
       "      <td>0.034129</td>\n",
       "      <td>Normal</td>\n",
       "      <td>NA</td>\n",
       "      <td>NA</td>\n",
       "      <td>0.0</td>\n",
       "      <td>&lt;NA&gt;</td>\n",
       "      <td>0.012817</td>\n",
       "      <td>-1.0</td>\n",
       "      <td>-1.000000</td>\n",
       "      <td>-1.000000</td>\n",
       "      <td>-1.000000</td>\n",
       "    </tr>\n",
       "    <tr>\n",
       "      <th>8</th>\n",
       "      <td>0.049489</td>\n",
       "      <td>0.8</td>\n",
       "      <td>0.0</td>\n",
       "      <td>0.190422</td>\n",
       "      <td>0.009480</td>\n",
       "      <td>0.033902</td>\n",
       "      <td>Normal</td>\n",
       "      <td>NA</td>\n",
       "      <td>NA</td>\n",
       "      <td>0.0</td>\n",
       "      <td>&lt;NA&gt;</td>\n",
       "      <td>-1.000000</td>\n",
       "      <td>-1.0</td>\n",
       "      <td>0.011431</td>\n",
       "      <td>0.011431</td>\n",
       "      <td>0.011431</td>\n",
       "    </tr>\n",
       "    <tr>\n",
       "      <th>...</th>\n",
       "      <td>...</td>\n",
       "      <td>...</td>\n",
       "      <td>...</td>\n",
       "      <td>...</td>\n",
       "      <td>...</td>\n",
       "      <td>...</td>\n",
       "      <td>...</td>\n",
       "      <td>...</td>\n",
       "      <td>...</td>\n",
       "      <td>...</td>\n",
       "      <td>...</td>\n",
       "      <td>...</td>\n",
       "      <td>...</td>\n",
       "      <td>...</td>\n",
       "      <td>...</td>\n",
       "      <td>...</td>\n",
       "    </tr>\n",
       "    <tr>\n",
       "      <th>264768</th>\n",
       "      <td>1199.974999</td>\n",
       "      <td>7.2</td>\n",
       "      <td>0.0</td>\n",
       "      <td>0.156113</td>\n",
       "      <td>-0.047354</td>\n",
       "      <td>0.010066</td>\n",
       "      <td>Normal</td>\n",
       "      <td>NA</td>\n",
       "      <td>NA</td>\n",
       "      <td>0.0</td>\n",
       "      <td>&lt;NA&gt;</td>\n",
       "      <td>-1.000000</td>\n",
       "      <td>-1.0</td>\n",
       "      <td>0.012123</td>\n",
       "      <td>0.012123</td>\n",
       "      <td>0.012123</td>\n",
       "    </tr>\n",
       "    <tr>\n",
       "      <th>264769</th>\n",
       "      <td>1199.982700</td>\n",
       "      <td>7.2</td>\n",
       "      <td>0.0</td>\n",
       "      <td>0.156113</td>\n",
       "      <td>-0.047354</td>\n",
       "      <td>0.010066</td>\n",
       "      <td>Normal</td>\n",
       "      <td>NA</td>\n",
       "      <td>NA</td>\n",
       "      <td>0.0</td>\n",
       "      <td>&lt;NA&gt;</td>\n",
       "      <td>0.011751</td>\n",
       "      <td>-1.0</td>\n",
       "      <td>-1.000000</td>\n",
       "      <td>-1.000000</td>\n",
       "      <td>-1.000000</td>\n",
       "    </tr>\n",
       "    <tr>\n",
       "      <th>264770</th>\n",
       "      <td>1199.984296</td>\n",
       "      <td>7.2</td>\n",
       "      <td>0.0</td>\n",
       "      <td>0.156266</td>\n",
       "      <td>-0.046999</td>\n",
       "      <td>0.010154</td>\n",
       "      <td>Normal</td>\n",
       "      <td>NA</td>\n",
       "      <td>NA</td>\n",
       "      <td>0.0</td>\n",
       "      <td>&lt;NA&gt;</td>\n",
       "      <td>-1.000000</td>\n",
       "      <td>-1.0</td>\n",
       "      <td>0.009297</td>\n",
       "      <td>0.009297</td>\n",
       "      <td>0.009297</td>\n",
       "    </tr>\n",
       "    <tr>\n",
       "      <th>264771</th>\n",
       "      <td>1199.994381</td>\n",
       "      <td>7.2</td>\n",
       "      <td>0.0</td>\n",
       "      <td>0.156266</td>\n",
       "      <td>-0.046999</td>\n",
       "      <td>0.010154</td>\n",
       "      <td>Normal</td>\n",
       "      <td>NA</td>\n",
       "      <td>NA</td>\n",
       "      <td>0.0</td>\n",
       "      <td>&lt;NA&gt;</td>\n",
       "      <td>0.011681</td>\n",
       "      <td>-1.0</td>\n",
       "      <td>-1.000000</td>\n",
       "      <td>-1.000000</td>\n",
       "      <td>-1.000000</td>\n",
       "    </tr>\n",
       "    <tr>\n",
       "      <th>264772</th>\n",
       "      <td>1199.995404</td>\n",
       "      <td>7.2</td>\n",
       "      <td>0.0</td>\n",
       "      <td>0.156418</td>\n",
       "      <td>-0.046645</td>\n",
       "      <td>0.010243</td>\n",
       "      <td>Normal</td>\n",
       "      <td>NA</td>\n",
       "      <td>NA</td>\n",
       "      <td>0.0</td>\n",
       "      <td>&lt;NA&gt;</td>\n",
       "      <td>-1.000000</td>\n",
       "      <td>-1.0</td>\n",
       "      <td>0.011108</td>\n",
       "      <td>0.011108</td>\n",
       "      <td>0.011108</td>\n",
       "    </tr>\n",
       "  </tbody>\n",
       "</table>\n",
       "<p>796422 rows × 16 columns</p>\n",
       "</div>"
      ],
      "text/plain": [
       "          Timestamp  SteeringAngle  CarSpeed   YawRate        Gx        Gy  \\\n",
       "4          0.030932            0.8       0.0  0.190211  0.009452  0.034356   \n",
       "5          0.036363            0.8       0.0  0.190211  0.009452  0.034356   \n",
       "6          0.038058            0.8       0.0  0.190317  0.009466  0.034129   \n",
       "7          0.049180            0.8       0.0  0.190317  0.009466  0.034129   \n",
       "8          0.049489            0.8       0.0  0.190422  0.009480  0.033902   \n",
       "...             ...            ...       ...       ...       ...       ...   \n",
       "264768  1199.974999            7.2       0.0  0.156113 -0.047354  0.010066   \n",
       "264769  1199.982700            7.2       0.0  0.156113 -0.047354  0.010066   \n",
       "264770  1199.984296            7.2       0.0  0.156266 -0.046999  0.010154   \n",
       "264771  1199.994381            7.2       0.0  0.156266 -0.046999  0.010154   \n",
       "264772  1199.995404            7.2       0.0  0.156418 -0.046645  0.010243   \n",
       "\n",
       "         Label AttackSensor AttackMethod  AttackParams  AttackEventIndex  \\\n",
       "4       Normal           NA           NA           0.0              <NA>   \n",
       "5       Normal           NA           NA           0.0              <NA>   \n",
       "6       Normal           NA           NA           0.0              <NA>   \n",
       "7       Normal           NA           NA           0.0              <NA>   \n",
       "8       Normal           NA           NA           0.0              <NA>   \n",
       "...        ...          ...          ...           ...               ...   \n",
       "264768  Normal           NA           NA           0.0              <NA>   \n",
       "264769  Normal           NA           NA           0.0              <NA>   \n",
       "264770  Normal           NA           NA           0.0              <NA>   \n",
       "264771  Normal           NA           NA           0.0              <NA>   \n",
       "264772  Normal           NA           NA           0.0              <NA>   \n",
       "\n",
       "        SteeringAngle_TimeDiff  CarSpeed_TimeDiff  YawRate_TimeDiff  \\\n",
       "4                    -1.000000               -1.0         -1.000000   \n",
       "5                     0.010708               -1.0         -1.000000   \n",
       "6                    -1.000000               -1.0          0.012148   \n",
       "7                     0.012817               -1.0         -1.000000   \n",
       "8                    -1.000000               -1.0          0.011431   \n",
       "...                        ...                ...               ...   \n",
       "264768               -1.000000               -1.0          0.012123   \n",
       "264769                0.011751               -1.0         -1.000000   \n",
       "264770               -1.000000               -1.0          0.009297   \n",
       "264771                0.011681               -1.0         -1.000000   \n",
       "264772               -1.000000               -1.0          0.011108   \n",
       "\n",
       "        Gx_TimeDiff  Gy_TimeDiff  \n",
       "4         -1.000000    -1.000000  \n",
       "5         -1.000000    -1.000000  \n",
       "6          0.012148     0.012148  \n",
       "7         -1.000000    -1.000000  \n",
       "8          0.011431     0.011431  \n",
       "...             ...          ...  \n",
       "264768     0.012123     0.012123  \n",
       "264769    -1.000000    -1.000000  \n",
       "264770     0.009297     0.009297  \n",
       "264771    -1.000000    -1.000000  \n",
       "264772     0.011108     0.011108  \n",
       "\n",
       "[796422 rows x 16 columns]"
      ]
     },
     "execution_count": 18,
     "metadata": {},
     "output_type": "execute_result"
    }
   ],
   "source": [
    "prepared_data[\"train_attack_df\"]"
   ]
  },
  {
   "cell_type": "code",
   "execution_count": 19,
   "metadata": {},
   "outputs": [],
   "source": [
    "m2.train(prepared_data)"
   ]
  },
  {
   "cell_type": "code",
   "execution_count": 20,
   "metadata": {},
   "outputs": [
    {
     "name": "stdout",
     "output_type": "stream",
     "text": [
      "[[1063112    1876]\n",
      " [  22391   25630]]\n",
      "Accuracy = 0.9782\n"
     ]
    }
   ],
   "source": [
    "m2.evaluate(prepared_data)"
   ]
  },
  {
   "cell_type": "code",
   "execution_count": 21,
   "metadata": {},
   "outputs": [
    {
     "name": "stderr",
     "output_type": "stream",
     "text": [
      "2020-09-02 23:15:04,406 INFO h1st.model_repository.model_repository: Saving metrics property...\n",
      "2020-09-02 23:15:04,408 INFO h1st.model_repository.model_repository: Saving model property...\n"
     ]
    },
    {
     "data": {
      "text/plain": [
       "'01EH99NCYMAZTWX9VYM38ZXWHF'"
      ]
     },
     "execution_count": 21,
     "metadata": {},
     "output_type": "execute_result"
    }
   ],
   "source": [
    "m2.persist()"
   ]
  },
  {
   "cell_type": "code",
   "execution_count": 10,
   "metadata": {
    "scrolled": true
   },
   "outputs": [
    {
     "name": "stderr",
     "output_type": "stream",
     "text": [
      "2020-09-02 23:00:43,445 INFO h1st.model_repository.model_repository: Loading version 01EH8BNKHBKYXBE3RNN8H0DZFW ....\n",
      "2020-09-02 23:00:43,452 INFO h1st.model_repository.model_repository: Loading version 01EH70YES5K33C78XQX0MHJ9RV ....\n"
     ]
    },
    {
     "data": {
      "text/plain": [
       "dict_keys(['window_starts', 'event_detection_results', 'injection_window_results'])"
      ]
     },
     "execution_count": 10,
     "metadata": {},
     "output_type": "execute_result"
    }
   ],
   "source": [
    "class NoOp(h1.Action):\n",
    "    def call(self, command, inputs):\n",
    "        pass\n",
    "\n",
    "graph = h1.Graph()\n",
    "graph.start()\\\n",
    "     .add(WindowGenerator())\\\n",
    "     .add(h1.Decision(MsgFreqEventDetectorModel().load(),\n",
    "                      decision_field=\"WindowInAttack\",\n",
    "                      result_field=\"event_detection_results\"))\\\n",
    "     .add(yes=GradientBoostingMsgClassifierModel().load(),\n",
    "          no=NoOp())\n",
    "graph.end()\n",
    "\n",
    "results = graph.predict({\"df\": df})\n",
    "results.keys()"
   ]
  },
  {
   "cell_type": "markdown",
   "metadata": {},
   "source": [
    "Now let's evaluate the whole graph, especially focusing on the event-level TPR & FPR since they are crucial in the safe-mode deployment use case."
   ]
  },
  {
   "cell_type": "code",
   "execution_count": 23,
   "metadata": {},
   "outputs": [
    {
     "name": "stdout",
     "output_type": "stream",
     "text": [
      "============\n",
      "Event-level confusion matrix\n",
      "[[7218    0]\n",
      " [  18 1012]]\n",
      "Event TPR = 0.9825, FPR = 0.0000\n"
     ]
    },
    {
     "data": {
      "text/plain": [
       "(7218, 0, 18, 1012)"
      ]
     },
     "execution_count": 23,
     "metadata": {},
     "output_type": "execute_result"
    }
   ],
   "source": [
    "from AutomotiveCybersecurity.util import evaluate_event_graph\n",
    "\n",
    "evaluate_event_graph(graph, prepared_data['test_files'][-2:])"
   ]
  },
  {
   "cell_type": "markdown",
   "metadata": {},
   "source": [
    "Now that's something! Event-level FPR=0.0% with zero false positives!\n",
    "\n",
    "(Note that this is still a subsample of the data, but once you've tried it on the full dataset the results should be the same: zero false positive at event-level.)\n",
    "\n",
    "The message-level accuracy should be nearly the same because we used the same classifier. However the decomposition leads to separation of concerns and requirement for these two use cases. We're much more comfortable with the solution now both in terms of accuracy as well as robustness and explainability.\n",
    "\n",
    "Another significance worth pointing out here is that we get multiple output streams from H1st.Graph: event-level outputs and msg-level outputs, exactly what we need for two different use cases we highlighted: safe-mode triggering and post-mortem analysis."
   ]
  },
  {
   "cell_type": "code",
   "execution_count": null,
   "metadata": {},
   "outputs": [],
   "source": []
  }
 ],
 "metadata": {
  "kernelspec": {
   "display_name": "Python 3",
   "language": "python",
   "name": "python3"
  },
  "language_info": {
   "codemirror_mode": {
    "name": "ipython",
    "version": 3
   },
   "file_extension": ".py",
   "mimetype": "text/x-python",
   "name": "python",
   "nbconvert_exporter": "python",
   "pygments_lexer": "ipython3",
   "version": "3.8.2"
  }
 },
 "nbformat": 4,
 "nbformat_minor": 4
}
